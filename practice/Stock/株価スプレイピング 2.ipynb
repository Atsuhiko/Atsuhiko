{
 "cells": [
  {
   "cell_type": "markdown",
   "metadata": {},
   "source": [
    "以下のブログを読んで、「**arg」and/or 「***kwarg」を使ったコードを書け。\n",
    "http://iatlex.com/python/arg_kwargs"
   ]
  },
  {
   "cell_type": "markdown",
   "metadata": {},
   "source": [
    "## webサイトから指定した株価データを取得するプログラムコードを作成\n",
    "### 参考文献\n",
    "https://non-dimension.com/kabuka-scraping/"
   ]
  },
  {
   "cell_type": "code",
   "execution_count": 1,
   "metadata": {},
   "outputs": [],
   "source": [
    "#webサイトから指定した株価データを取得するプログラムコードを作成\n",
    "\n",
    "#アナコンダにないパッケージのインストール方法\n",
    "# 1. anaconda powershell promptを立ち上げる（パソコンで検索かけるとすぐに出できます）\n",
    "# 2. >> conda install パッケージ名　　のコマンドを入力して実行するとダウンロード可能\n",
    "from bs4 import BeautifulSoup as bs \n",
    "import pandas as pd\n",
    "from datetime import datetime\n",
    "import requests\n",
    "import numpy as np\n",
    "import matplotlib.pyplot as plt\n",
    "\n",
    "\n",
    "\n",
    "def get_stock_data(*year, **mycode_dic):\n",
    "    \n",
    "    #{0}にformat関数の第一引数が、{1}に第二引数が入る\n",
    "    url = 'https://kabuoji3.com/stock/{1}/{0}/'\n",
    "    \n",
    "    #format関数の記載順はformat(*args, **kwags)であることに注意。つまりformat(**kwags, *args)ではだめ\n",
    "    read_url = url.format(*year, **mycode_dic)\n",
    "    #print(read_url)\n",
    "    \n",
    "    #web情報をとってくるときに必要な情報（ユーザーエージェント情報）を変数に格納\n",
    "    #この情報は個人によって異なる。ユーザーエージェントおよび調べ方は下記url参照\n",
    "    #https://non-dimension.com/solution-403forbidden/\n",
    "    headers = {\n",
    "        \"User-Agent\": \"Chrome/80.0.3987.122\"\n",
    "    }\n",
    "    \n",
    "    #requestsモジュールのget関数で指定したurlのweb情報をとってくる。詳しい説明は下記url参照\n",
    "    #https://techacademy.jp/magazine/19195\n",
    "    #https://note.nkmk.me/python-requests-usage/\n",
    "    html = requests.get(read_url, headers = headers)\n",
    "    \n",
    "    #beautifulsoupを使用してhtml情報を文字列としてsoup変数に格納。下記url参照\n",
    "    #https://qiita.com/Chanmoro/items/db51658b073acddea4ac\n",
    "    soup = bs(html.content, 'html.parser')\n",
    "    \n",
    "    #htmlファイル内でタグtrが使われている部分全てをとってきて、それぞれを配列に格納する\n",
    "    tag_tr = soup.find_all('tr')\n",
    "    \n",
    "    #まずはheadの情報を配列として取得。tag_tr[0]にはhead名（日付、始値など）がタグth区切りで格納されている\n",
    "    #h.textとすることでhtmlファイルのtext部分のみ取ってこれる\n",
    "    head = [h.text for h in tag_tr[0].find_all('th')]\n",
    "    #>>head = [\"日付\", \"始値\", \"高値\", \"安値\", \"終値\", \"出来高\", \"終値調整\"]\n",
    "    \n",
    "    #以下のコードは日足データを取得するプログラム\n",
    "    data = []  #とってきた日足データを格納するlistを用意\n",
    "    \n",
    "    for i in range(1, len(tag_tr)):\n",
    "        #日足データはtag_tr[1]~から入っているのでfor文で各日にちの日足データをとってくる\n",
    "        #htmlファイルのテキスト部分のみ配列に格納したあと、data配列にとってきた配列を書き加える\n",
    "        data.append([d.text for d in tag_tr[i].find_all('td')])\n",
    "        #tdタグのテキスト部分に各日にちの日足データが入っているのでそこを抽出\n",
    "    \n",
    "    #dataframe化\n",
    "    return pd.DataFrame(data, columns = head)\n",
    "\n",
    "\n",
    "\n",
    "    \n"
   ]
  },
  {
   "cell_type": "code",
   "execution_count": 3,
   "metadata": {
    "scrolled": true
   },
   "outputs": [
    {
     "data": {
      "text/html": [
       "<div>\n",
       "<style scoped>\n",
       "    .dataframe tbody tr th:only-of-type {\n",
       "        vertical-align: middle;\n",
       "    }\n",
       "\n",
       "    .dataframe tbody tr th {\n",
       "        vertical-align: top;\n",
       "    }\n",
       "\n",
       "    .dataframe thead th {\n",
       "        text-align: right;\n",
       "    }\n",
       "</style>\n",
       "<table border=\"1\" class=\"dataframe\">\n",
       "  <thead>\n",
       "    <tr style=\"text-align: right;\">\n",
       "      <th></th>\n",
       "      <th>日付</th>\n",
       "      <th>始値</th>\n",
       "      <th>高値</th>\n",
       "      <th>安値</th>\n",
       "      <th>終値</th>\n",
       "      <th>出来高</th>\n",
       "      <th>終値調整</th>\n",
       "    </tr>\n",
       "  </thead>\n",
       "  <tbody>\n",
       "    <tr>\n",
       "      <th>0</th>\n",
       "      <td>2019-01-04</td>\n",
       "      <td>7890</td>\n",
       "      <td>7941</td>\n",
       "      <td>7782</td>\n",
       "      <td>7913</td>\n",
       "      <td>1970000</td>\n",
       "      <td>7913</td>\n",
       "    </tr>\n",
       "    <tr>\n",
       "      <th>1</th>\n",
       "      <td>2019-01-07</td>\n",
       "      <td>8100</td>\n",
       "      <td>8178</td>\n",
       "      <td>7977</td>\n",
       "      <td>8000</td>\n",
       "      <td>1501700</td>\n",
       "      <td>8000</td>\n",
       "    </tr>\n",
       "    <tr>\n",
       "      <th>2</th>\n",
       "      <td>2019-01-08</td>\n",
       "      <td>8000</td>\n",
       "      <td>8025</td>\n",
       "      <td>7766</td>\n",
       "      <td>7766</td>\n",
       "      <td>1900200</td>\n",
       "      <td>7766</td>\n",
       "    </tr>\n",
       "    <tr>\n",
       "      <th>3</th>\n",
       "      <td>2019-01-09</td>\n",
       "      <td>7891</td>\n",
       "      <td>7898</td>\n",
       "      <td>7787</td>\n",
       "      <td>7798</td>\n",
       "      <td>1634200</td>\n",
       "      <td>7798</td>\n",
       "    </tr>\n",
       "    <tr>\n",
       "      <th>4</th>\n",
       "      <td>2019-01-10</td>\n",
       "      <td>7600</td>\n",
       "      <td>7657</td>\n",
       "      <td>7365</td>\n",
       "      <td>7373</td>\n",
       "      <td>2425000</td>\n",
       "      <td>7373</td>\n",
       "    </tr>\n",
       "    <tr>\n",
       "      <th>...</th>\n",
       "      <td>...</td>\n",
       "      <td>...</td>\n",
       "      <td>...</td>\n",
       "      <td>...</td>\n",
       "      <td>...</td>\n",
       "      <td>...</td>\n",
       "      <td>...</td>\n",
       "    </tr>\n",
       "    <tr>\n",
       "      <th>236</th>\n",
       "      <td>2019-12-24</td>\n",
       "      <td>9085</td>\n",
       "      <td>9147</td>\n",
       "      <td>9073</td>\n",
       "      <td>9145</td>\n",
       "      <td>588000</td>\n",
       "      <td>9145</td>\n",
       "    </tr>\n",
       "    <tr>\n",
       "      <th>237</th>\n",
       "      <td>2019-12-25</td>\n",
       "      <td>9099</td>\n",
       "      <td>9157</td>\n",
       "      <td>9091</td>\n",
       "      <td>9112</td>\n",
       "      <td>438600</td>\n",
       "      <td>9112</td>\n",
       "    </tr>\n",
       "    <tr>\n",
       "      <th>238</th>\n",
       "      <td>2019-12-26</td>\n",
       "      <td>9121</td>\n",
       "      <td>9148</td>\n",
       "      <td>9114</td>\n",
       "      <td>9148</td>\n",
       "      <td>506700</td>\n",
       "      <td>9148</td>\n",
       "    </tr>\n",
       "    <tr>\n",
       "      <th>239</th>\n",
       "      <td>2019-12-27</td>\n",
       "      <td>9150</td>\n",
       "      <td>9172</td>\n",
       "      <td>9061</td>\n",
       "      <td>9080</td>\n",
       "      <td>622400</td>\n",
       "      <td>9080</td>\n",
       "    </tr>\n",
       "    <tr>\n",
       "      <th>240</th>\n",
       "      <td>2019-12-30</td>\n",
       "      <td>9125</td>\n",
       "      <td>9137</td>\n",
       "      <td>9025</td>\n",
       "      <td>9025</td>\n",
       "      <td>753000</td>\n",
       "      <td>9025</td>\n",
       "    </tr>\n",
       "  </tbody>\n",
       "</table>\n",
       "<p>241 rows × 7 columns</p>\n",
       "</div>"
      ],
      "text/plain": [
       "             日付    始値    高値    安値    終値      出来高  終値調整\n",
       "0    2019-01-04  7890  7941  7782  7913  1970000  7913\n",
       "1    2019-01-07  8100  8178  7977  8000  1501700  8000\n",
       "2    2019-01-08  8000  8025  7766  7766  1900200  7766\n",
       "3    2019-01-09  7891  7898  7787  7798  1634200  7798\n",
       "4    2019-01-10  7600  7657  7365  7373  2425000  7373\n",
       "..          ...   ...   ...   ...   ...      ...   ...\n",
       "236  2019-12-24  9085  9147  9073  9145   588000  9145\n",
       "237  2019-12-25  9099  9157  9091  9112   438600  9112\n",
       "238  2019-12-26  9121  9148  9114  9148   506700  9148\n",
       "239  2019-12-27  9150  9172  9061  9080   622400  9080\n",
       "240  2019-12-30  9125  9137  9025  9025   753000  9025\n",
       "\n",
       "[241 rows x 7 columns]"
      ]
     },
     "execution_count": 3,
     "metadata": {},
     "output_type": "execute_result"
    }
   ],
   "source": [
    "#list(年度)と辞書型情報（銘柄情報）の記載\n",
    "year = [2015, 2016, 2017, 2018, 2019]\n",
    "mycode_dic = {\"KAO\":4452, \"KOSE\":4922, \"SHISEIDO\":4911}\n",
    "\n",
    "#dataframeの格納\n",
    "stock_df = get_stock_data(year[4], mycode_dic[\"KAO\"])\n",
    "stock_df\n"
   ]
  },
  {
   "cell_type": "code",
   "execution_count": 5,
   "metadata": {},
   "outputs": [],
   "source": [
    "#dataframeのカラム名変更（英語のほうが融通が利くため）\n",
    "new_head = ['date', 'open', 'high', 'low', 'close', 'volume','close_ad'] \n",
    "stock_df.columns = new_head\n",
    "\n",
    "#型の変更、まずは'date'列をdatetime型に\n",
    "stock_df['date'] = pd.to_datetime(stock_df['date'])\n"
   ]
  },
  {
   "cell_type": "code",
   "execution_count": 6,
   "metadata": {},
   "outputs": [
    {
     "data": {
      "text/plain": [
       "date        datetime64[ns]\n",
       "open                object\n",
       "high                object\n",
       "low                 object\n",
       "close               object\n",
       "volume              object\n",
       "close_ad            object\n",
       "dtype: object"
      ]
     },
     "execution_count": 6,
     "metadata": {},
     "output_type": "execute_result"
    }
   ],
   "source": [
    "#date列の型が変更されているか確認\n",
    "stock_df.dtypes"
   ]
  },
  {
   "cell_type": "code",
   "execution_count": 7,
   "metadata": {},
   "outputs": [
    {
     "data": {
      "text/plain": [
       "date        datetime64[ns]\n",
       "open               float64\n",
       "high               float64\n",
       "low                float64\n",
       "close              float64\n",
       "volume             float64\n",
       "close_ad           float64\n",
       "dtype: object"
      ]
     },
     "execution_count": 7,
     "metadata": {},
     "output_type": "execute_result"
    }
   ],
   "source": [
    "#型の変更、他の列の型をobjectから次はfloat型に変更\n",
    "for num in range(1, 7):\n",
    "    stock_df.iloc[:,num] = stock_df.iloc[:,num].astype(float)\n",
    "stock_df.dtypes"
   ]
  },
  {
   "cell_type": "code",
   "execution_count": 8,
   "metadata": {},
   "outputs": [
    {
     "data": {
      "image/png": "[encoded data removed]",
      "text/plain": [
       "<Figure size 432x288 with 1 Axes>"
      ]
     },
     "metadata": {
      "needs_background": "light"
     },
     "output_type": "display_data"
    }
   ],
   "source": [
    "#簡単なグラフの描写\n",
    "stock_df['close'].plot()\n",
    "plt.show()"
   ]
  },
  {
   "cell_type": "code",
   "execution_count": null,
   "metadata": {},
   "outputs": [],
   "source": []
  },
  {
   "cell_type": "code",
   "execution_count": 9,
   "metadata": {},
   "outputs": [
    {
     "data": {
      "text/html": [
       "<div>\n",
       "<style scoped>\n",
       "    .dataframe tbody tr th:only-of-type {\n",
       "        vertical-align: middle;\n",
       "    }\n",
       "\n",
       "    .dataframe tbody tr th {\n",
       "        vertical-align: top;\n",
       "    }\n",
       "\n",
       "    .dataframe thead th {\n",
       "        text-align: right;\n",
       "    }\n",
       "</style>\n",
       "<table border=\"1\" class=\"dataframe\">\n",
       "  <thead>\n",
       "    <tr style=\"text-align: right;\">\n",
       "      <th></th>\n",
       "      <th>日付</th>\n",
       "      <th>始値</th>\n",
       "      <th>高値</th>\n",
       "      <th>安値</th>\n",
       "      <th>終値</th>\n",
       "      <th>出来高</th>\n",
       "      <th>終値調整</th>\n",
       "    </tr>\n",
       "  </thead>\n",
       "  <tbody>\n",
       "    <tr>\n",
       "      <th>0</th>\n",
       "      <td>2019-01-04</td>\n",
       "      <td>2572.5</td>\n",
       "      <td>2599</td>\n",
       "      <td>2547</td>\n",
       "      <td>2581</td>\n",
       "      <td>5768000</td>\n",
       "      <td>2581</td>\n",
       "    </tr>\n",
       "    <tr>\n",
       "      <th>1</th>\n",
       "      <td>2019-01-07</td>\n",
       "      <td>2679.5</td>\n",
       "      <td>2737</td>\n",
       "      <td>2670.5</td>\n",
       "      <td>2723</td>\n",
       "      <td>4627200</td>\n",
       "      <td>2723</td>\n",
       "    </tr>\n",
       "    <tr>\n",
       "      <th>2</th>\n",
       "      <td>2019-01-08</td>\n",
       "      <td>2773</td>\n",
       "      <td>2782.5</td>\n",
       "      <td>2711.5</td>\n",
       "      <td>2744</td>\n",
       "      <td>4205300</td>\n",
       "      <td>2744</td>\n",
       "    </tr>\n",
       "    <tr>\n",
       "      <th>3</th>\n",
       "      <td>2019-01-09</td>\n",
       "      <td>2812</td>\n",
       "      <td>2907</td>\n",
       "      <td>2806</td>\n",
       "      <td>2886</td>\n",
       "      <td>5452000</td>\n",
       "      <td>2886</td>\n",
       "    </tr>\n",
       "    <tr>\n",
       "      <th>4</th>\n",
       "      <td>2019-01-10</td>\n",
       "      <td>2880.5</td>\n",
       "      <td>2898.5</td>\n",
       "      <td>2864.5</td>\n",
       "      <td>2880.5</td>\n",
       "      <td>4210100</td>\n",
       "      <td>2880.5</td>\n",
       "    </tr>\n",
       "    <tr>\n",
       "      <th>...</th>\n",
       "      <td>...</td>\n",
       "      <td>...</td>\n",
       "      <td>...</td>\n",
       "      <td>...</td>\n",
       "      <td>...</td>\n",
       "      <td>...</td>\n",
       "      <td>...</td>\n",
       "    </tr>\n",
       "    <tr>\n",
       "      <th>236</th>\n",
       "      <td>2019-12-24</td>\n",
       "      <td>4100</td>\n",
       "      <td>4145</td>\n",
       "      <td>4099</td>\n",
       "      <td>4134</td>\n",
       "      <td>1915700</td>\n",
       "      <td>4134</td>\n",
       "    </tr>\n",
       "    <tr>\n",
       "      <th>237</th>\n",
       "      <td>2019-12-25</td>\n",
       "      <td>4150</td>\n",
       "      <td>4157</td>\n",
       "      <td>4118</td>\n",
       "      <td>4127</td>\n",
       "      <td>1469700</td>\n",
       "      <td>4127</td>\n",
       "    </tr>\n",
       "    <tr>\n",
       "      <th>238</th>\n",
       "      <td>2019-12-26</td>\n",
       "      <td>4127</td>\n",
       "      <td>4162</td>\n",
       "      <td>4125</td>\n",
       "      <td>4143</td>\n",
       "      <td>1655000</td>\n",
       "      <td>4143</td>\n",
       "    </tr>\n",
       "    <tr>\n",
       "      <th>239</th>\n",
       "      <td>2019-12-27</td>\n",
       "      <td>4151</td>\n",
       "      <td>4175</td>\n",
       "      <td>4143</td>\n",
       "      <td>4144</td>\n",
       "      <td>1642700</td>\n",
       "      <td>4144</td>\n",
       "    </tr>\n",
       "    <tr>\n",
       "      <th>240</th>\n",
       "      <td>2019-12-30</td>\n",
       "      <td>4137</td>\n",
       "      <td>4137</td>\n",
       "      <td>4083</td>\n",
       "      <td>4099</td>\n",
       "      <td>1961300</td>\n",
       "      <td>4099</td>\n",
       "    </tr>\n",
       "  </tbody>\n",
       "</table>\n",
       "<p>241 rows × 7 columns</p>\n",
       "</div>"
      ],
      "text/plain": [
       "             日付      始値      高値      安値      終値      出来高    終値調整\n",
       "0    2019-01-04  2572.5    2599    2547    2581  5768000    2581\n",
       "1    2019-01-07  2679.5    2737  2670.5    2723  4627200    2723\n",
       "2    2019-01-08    2773  2782.5  2711.5    2744  4205300    2744\n",
       "3    2019-01-09    2812    2907    2806    2886  5452000    2886\n",
       "4    2019-01-10  2880.5  2898.5  2864.5  2880.5  4210100  2880.5\n",
       "..          ...     ...     ...     ...     ...      ...     ...\n",
       "236  2019-12-24    4100    4145    4099    4134  1915700    4134\n",
       "237  2019-12-25    4150    4157    4118    4127  1469700    4127\n",
       "238  2019-12-26    4127    4162    4125    4143  1655000    4143\n",
       "239  2019-12-27    4151    4175    4143    4144  1642700    4144\n",
       "240  2019-12-30    4137    4137    4083    4099  1961300    4099\n",
       "\n",
       "[241 rows x 7 columns]"
      ]
     },
     "execution_count": 9,
     "metadata": {},
     "output_type": "execute_result"
    }
   ],
   "source": [
    "#list(年度)と辞書型情報（銘柄情報）の記載\n",
    "year = [2015, 2016, 2017, 2018, 2019]\n",
    "mycode_dic = {\"recruit\":6098, \"KOSE\":4922, \"SHISEIDO\":4911}\n",
    "\n",
    "#dataframeの格納\n",
    "stock_df = get_stock_data(year[4], mycode_dic[\"recruit\"])\n",
    "stock_df"
   ]
  },
  {
   "cell_type": "code",
   "execution_count": 10,
   "metadata": {},
   "outputs": [],
   "source": [
    "#dataframeのカラム名変更（英語のほうが融通が利くため）\n",
    "new_head = ['date', 'open', 'high', 'low', 'close', 'volume','close_ad'] \n",
    "stock_df.columns = new_head\n",
    "\n",
    "#型の変更、まずは'date'列をdatetime型に\n",
    "stock_df['date'] = pd.to_datetime(stock_df['date'])"
   ]
  },
  {
   "cell_type": "code",
   "execution_count": 11,
   "metadata": {},
   "outputs": [
    {
     "data": {
      "text/plain": [
       "date        datetime64[ns]\n",
       "open                object\n",
       "high                object\n",
       "low                 object\n",
       "close               object\n",
       "volume              object\n",
       "close_ad            object\n",
       "dtype: object"
      ]
     },
     "execution_count": 11,
     "metadata": {},
     "output_type": "execute_result"
    }
   ],
   "source": [
    "#date列の型が変更されているか確認\n",
    "stock_df.dtypes"
   ]
  },
  {
   "cell_type": "code",
   "execution_count": 12,
   "metadata": {},
   "outputs": [
    {
     "data": {
      "text/plain": [
       "date        datetime64[ns]\n",
       "open               float64\n",
       "high               float64\n",
       "low                float64\n",
       "close              float64\n",
       "volume             float64\n",
       "close_ad           float64\n",
       "dtype: object"
      ]
     },
     "execution_count": 12,
     "metadata": {},
     "output_type": "execute_result"
    }
   ],
   "source": [
    "#型の変更、他の列の型をobjectから次はfloat型に変更\n",
    "for num in range(1, 7):\n",
    "    stock_df.iloc[:,num] = stock_df.iloc[:,num].astype(float)\n",
    "stock_df.dtypes"
   ]
  },
  {
   "cell_type": "code",
   "execution_count": 13,
   "metadata": {},
   "outputs": [
    {
     "data": {
      "image/png": "[encoded data removed]",
      "text/plain": [
       "<Figure size 432x288 with 1 Axes>"
      ]
     },
     "metadata": {
      "needs_background": "light"
     },
     "output_type": "display_data"
    }
   ],
   "source": [
    "#簡単なグラフの描写\n",
    "stock_df['close'].plot()\n",
    "plt.show()"
   ]
  },
  {
   "cell_type": "code",
   "execution_count": null,
   "metadata": {},
   "outputs": [],
   "source": []
  }
 ],
 "metadata": {
  "kernelspec": {
   "display_name": "Python 3",
   "language": "python",
   "name": "python3"
  },
  "language_info": {
   "codemirror_mode": {
    "name": "ipython",
    "version": 3
   },
   "file_extension": ".py",
   "mimetype": "text/x-python",
   "name": "python",
   "nbconvert_exporter": "python",
   "pygments_lexer": "ipython3",
   "version": "3.6.10"
  }
 },
 "nbformat": 4,
 "nbformat_minor": 2
}
