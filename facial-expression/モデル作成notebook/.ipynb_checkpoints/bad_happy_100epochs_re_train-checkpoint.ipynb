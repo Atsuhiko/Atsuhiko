{
 "cells": [
  {
   "cell_type": "markdown",
   "metadata": {},
   "source": [
    "# 保存済みモデルから再学習"
   ]
  },
  {
   "cell_type": "code",
   "execution_count": 1,
   "metadata": {
    "colab": {
     "base_uri": "https://localhost:8080/",
     "height": 54
    },
    "executionInfo": {
     "elapsed": 1134,
     "status": "ok",
     "timestamp": 1603540275331,
     "user": {
      "displayName": "柿埜百合子",
      "photoUrl": "https://lh3.googleusercontent.com/a-/AOh14GjYNYMMkw7Sbp2fJPiqjXChU1pVOvqumf0pYC9omQ=s64",
      "userId": "18278998855833844730"
     },
     "user_tz": -540
    },
    "id": "t77HsOTBKkLn",
    "outputId": "0a9e90f8-7855-44ba-b9f3-9eb07e11d226",
    "scrolled": true
   },
   "outputs": [
    {
     "name": "stderr",
     "output_type": "stream",
     "text": [
      "Using TensorFlow backend.\n"
     ]
    },
    {
     "name": "stdout",
     "output_type": "stream",
     "text": [
      "['$Recycle.Bin', '$SysReset', 'devlist.txt', 'Documents and Settings', 'eSupport', 'Finish.log', 'hiberfil.sys', 'images', 'Intel', 'MinGW', 'OneDriveTemp', 'pagefile.sys', 'PerfLogs', 'Program Files', 'Program Files (x86)', 'ProgramData', 'Recovery', 'swapfile.sys', 'System Volume Information', 'Users', 'Windows']\n"
     ]
    }
   ],
   "source": [
    "import numpy as np # linear algebra\n",
    "import pandas as pd # data processing, CSV file I/O (e.g. pd.read_csv)\n",
    "import tensorflow.keras as keras\n",
    "\n",
    "from keras.utils import to_categorical\n",
    "from tensorflow.keras.callbacks import EarlyStopping\n",
    "from keras.models import Sequential\n",
    "from keras.layers import Dense, Dropout, Activation, Flatten\n",
    "from keras.layers import Conv2D, MaxPooling2D, BatchNormalization\n",
    "from keras.losses import categorical_crossentropy\n",
    "from sklearn.metrics import accuracy_score\n",
    "from keras.optimizers import Adam\n",
    "from keras.regularizers import l2\n",
    "from keras.preprocessing.image import ImageDataGenerator\n",
    "\n",
    "from sklearn.metrics import classification_report, confusion_matrix\n",
    "import matplotlib.pyplot as plt\n",
    "import seaborn as sns\n",
    "\n",
    "import os\n",
    "# base_dir = '/content/drive/My Drive/Colab Notebooks/facial-expression/input'\n",
    "base_dir = '/'\n",
    "print(os.listdir(base_dir))"
   ]
  },
  {
   "cell_type": "code",
   "execution_count": 2,
   "metadata": {},
   "outputs": [
    {
     "name": "stdout",
     "output_type": "stream",
     "text": [
      "3.7.7 (default, May  6 2020, 11:45:54) [MSC v.1916 64 bit (AMD64)]\n"
     ]
    }
   ],
   "source": [
    "# Pythonバージョン確認\n",
    "import sys\n",
    "print(sys.version)"
   ]
  },
  {
   "cell_type": "code",
   "execution_count": 3,
   "metadata": {
    "colab": {
     "base_uri": "https://localhost:8080/",
     "height": 34
    },
    "executionInfo": {
     "elapsed": 1675,
     "status": "ok",
     "timestamp": 1603540275882,
     "user": {
      "displayName": "柿埜百合子",
      "photoUrl": "https://lh3.googleusercontent.com/a-/AOh14GjYNYMMkw7Sbp2fJPiqjXChU1pVOvqumf0pYC9omQ=s64",
      "userId": "18278998855833844730"
     },
     "user_tz": -540
    },
    "id": "JVoFF_yOci8r",
    "outputId": "ecaf9d8c-6f7e-4c40-90b5-9aa6eb3af709"
   },
   "outputs": [
    {
     "name": "stdout",
     "output_type": "stream",
     "text": [
      "2.2.4-tf\n"
     ]
    }
   ],
   "source": [
    "# Kerasバージョン確認\n",
    "print(keras.__version__)"
   ]
  },
  {
   "cell_type": "code",
   "execution_count": 4,
   "metadata": {},
   "outputs": [
    {
     "name": "stdout",
     "output_type": "stream",
     "text": [
      "2.1.0\n"
     ]
    }
   ],
   "source": [
    "# Tensorflowバージョン確認\n",
    "import tensorflow as tf\n",
    "print(tf.__version__)"
   ]
  },
  {
   "cell_type": "code",
   "execution_count": 5,
   "metadata": {},
   "outputs": [
    {
     "data": {
      "text/plain": [
       "[name: \"/device:CPU:0\"\n",
       " device_type: \"CPU\"\n",
       " memory_limit: 268435456\n",
       " locality {\n",
       " }\n",
       " incarnation: 10547970219024818874,\n",
       " name: \"/device:GPU:0\"\n",
       " device_type: \"GPU\"\n",
       " memory_limit: 3059115622\n",
       " locality {\n",
       "   bus_id: 1\n",
       "   links {\n",
       "   }\n",
       " }\n",
       " incarnation: 5468454810417550243\n",
       " physical_device_desc: \"device: 0, name: GeForce GTX 1650 with Max-Q Design, pci bus id: 0000:02:00.0, compute capability: 7.5\"]"
      ]
     },
     "execution_count": 5,
     "metadata": {},
     "output_type": "execute_result"
    }
   ],
   "source": [
    "# Device 情報\n",
    "from tensorflow.python.client import device_lib\n",
    "device_lib.list_local_devices()"
   ]
  },
  {
   "cell_type": "code",
   "execution_count": null,
   "metadata": {
    "executionInfo": {
     "elapsed": 1673,
     "status": "ok",
     "timestamp": 1603540275883,
     "user": {
      "displayName": "柿埜百合子",
      "photoUrl": "https://lh3.googleusercontent.com/a-/AOh14GjYNYMMkw7Sbp2fJPiqjXChU1pVOvqumf0pYC9omQ=s64",
      "userId": "18278998855833844730"
     },
     "user_tz": -540
    },
    "id": "6CQd56N_csaJ"
   },
   "outputs": [],
   "source": []
  },
  {
   "cell_type": "code",
   "execution_count": 6,
   "metadata": {
    "colab": {
     "base_uri": "https://localhost:8080/",
     "height": 54
    },
    "executionInfo": {
     "elapsed": 1663,
     "status": "ok",
     "timestamp": 1603540275884,
     "user": {
      "displayName": "柿埜百合子",
      "photoUrl": "https://lh3.googleusercontent.com/a-/AOh14GjYNYMMkw7Sbp2fJPiqjXChU1pVOvqumf0pYC9omQ=s64",
      "userId": "18278998855833844730"
     },
     "user_tz": -540
    },
    "id": "oJ63PHXYLOHs",
    "outputId": "28631011-72d3-4834-dfdc-b0c689970776"
   },
   "outputs": [],
   "source": [
    "# # googleDriveを使えるようにする（マウントする）コード\n",
    "# from google.colab import drive\n",
    "# drive.mount('/content/drive')"
   ]
  },
  {
   "cell_type": "code",
   "execution_count": 7,
   "metadata": {
    "executionInfo": {
     "elapsed": 4407,
     "status": "ok",
     "timestamp": 1603540278635,
     "user": {
      "displayName": "柿埜百合子",
      "photoUrl": "https://lh3.googleusercontent.com/a-/AOh14GjYNYMMkw7Sbp2fJPiqjXChU1pVOvqumf0pYC9omQ=s64",
      "userId": "18278998855833844730"
     },
     "user_tz": -540
    },
    "id": "KznpHJ-LLPvJ"
   },
   "outputs": [],
   "source": [
    "#data = pd.read_csv('/content/drive/My Drive/Colab Notebooks/facial-expression/fer2013_4.csv').drop('Unnamed: 0', axis=1)"
   ]
  },
  {
   "cell_type": "code",
   "execution_count": 8,
   "metadata": {},
   "outputs": [],
   "source": [
    "data = pd.read_csv('fer2013_4.csv').drop('Unnamed: 0', axis=1)"
   ]
  },
  {
   "cell_type": "code",
   "execution_count": 9,
   "metadata": {
    "colab": {
     "base_uri": "https://localhost:8080/",
     "height": 34
    },
    "executionInfo": {
     "elapsed": 4394,
     "status": "ok",
     "timestamp": 1603540278636,
     "user": {
      "displayName": "柿埜百合子",
      "photoUrl": "https://lh3.googleusercontent.com/a-/AOh14GjYNYMMkw7Sbp2fJPiqjXChU1pVOvqumf0pYC9omQ=s64",
      "userId": "18278998855833844730"
     },
     "user_tz": -540
    },
    "id": "vcY4Wq2GLlbl",
    "outputId": "474959b5-1209-45c9-c126-8a328e365294"
   },
   "outputs": [
    {
     "data": {
      "text/plain": [
       "(31885, 3)"
      ]
     },
     "execution_count": 9,
     "metadata": {},
     "output_type": "execute_result"
    }
   ],
   "source": [
    "data.shape"
   ]
  },
  {
   "cell_type": "code",
   "execution_count": 10,
   "metadata": {
    "colab": {
     "base_uri": "https://localhost:8080/",
     "height": 195
    },
    "executionInfo": {
     "elapsed": 4385,
     "status": "ok",
     "timestamp": 1603540278636,
     "user": {
      "displayName": "柿埜百合子",
      "photoUrl": "https://lh3.googleusercontent.com/a-/AOh14GjYNYMMkw7Sbp2fJPiqjXChU1pVOvqumf0pYC9omQ=s64",
      "userId": "18278998855833844730"
     },
     "user_tz": -540
    },
    "id": "OPca6Ki1LnPH",
    "outputId": "96b8316b-e004-488a-a98c-98dc63c1b07d"
   },
   "outputs": [
    {
     "data": {
      "text/html": [
       "<div>\n",
       "<style scoped>\n",
       "    .dataframe tbody tr th:only-of-type {\n",
       "        vertical-align: middle;\n",
       "    }\n",
       "\n",
       "    .dataframe tbody tr th {\n",
       "        vertical-align: top;\n",
       "    }\n",
       "\n",
       "    .dataframe thead th {\n",
       "        text-align: right;\n",
       "    }\n",
       "</style>\n",
       "<table border=\"1\" class=\"dataframe\">\n",
       "  <thead>\n",
       "    <tr style=\"text-align: right;\">\n",
       "      <th></th>\n",
       "      <th>emotion</th>\n",
       "      <th>pixels</th>\n",
       "      <th>Usage</th>\n",
       "    </tr>\n",
       "  </thead>\n",
       "  <tbody>\n",
       "    <tr>\n",
       "      <th>0</th>\n",
       "      <td>0</td>\n",
       "      <td>70 80 82 72 58 58 60 63 54 58 60 48 89 115 121...</td>\n",
       "      <td>Training</td>\n",
       "    </tr>\n",
       "    <tr>\n",
       "      <th>1</th>\n",
       "      <td>0</td>\n",
       "      <td>151 150 147 155 148 133 111 140 170 174 182 15...</td>\n",
       "      <td>Training</td>\n",
       "    </tr>\n",
       "    <tr>\n",
       "      <th>2</th>\n",
       "      <td>0</td>\n",
       "      <td>231 212 156 164 174 138 161 173 182 200 106 38...</td>\n",
       "      <td>Training</td>\n",
       "    </tr>\n",
       "    <tr>\n",
       "      <th>3</th>\n",
       "      <td>0</td>\n",
       "      <td>24 32 36 30 32 23 19 20 30 41 21 22 32 34 21 1...</td>\n",
       "      <td>Training</td>\n",
       "    </tr>\n",
       "    <tr>\n",
       "      <th>4</th>\n",
       "      <td>0</td>\n",
       "      <td>4 0 0 0 0 0 0 0 0 0 0 0 3 15 23 28 48 50 58 84...</td>\n",
       "      <td>Training</td>\n",
       "    </tr>\n",
       "  </tbody>\n",
       "</table>\n",
       "</div>"
      ],
      "text/plain": [
       "   emotion                                             pixels     Usage\n",
       "0        0  70 80 82 72 58 58 60 63 54 58 60 48 89 115 121...  Training\n",
       "1        0  151 150 147 155 148 133 111 140 170 174 182 15...  Training\n",
       "2        0  231 212 156 164 174 138 161 173 182 200 106 38...  Training\n",
       "3        0  24 32 36 30 32 23 19 20 30 41 21 22 32 34 21 1...  Training\n",
       "4        0  4 0 0 0 0 0 0 0 0 0 0 0 3 15 23 28 48 50 58 84...  Training"
      ]
     },
     "execution_count": 10,
     "metadata": {},
     "output_type": "execute_result"
    }
   ],
   "source": [
    "data.head(5)"
   ]
  },
  {
   "cell_type": "code",
   "execution_count": 11,
   "metadata": {
    "colab": {
     "base_uri": "https://localhost:8080/",
     "height": 67
    },
    "executionInfo": {
     "elapsed": 4378,
     "status": "ok",
     "timestamp": 1603540278637,
     "user": {
      "displayName": "柿埜百合子",
      "photoUrl": "https://lh3.googleusercontent.com/a-/AOh14GjYNYMMkw7Sbp2fJPiqjXChU1pVOvqumf0pYC9omQ=s64",
      "userId": "18278998855833844730"
     },
     "user_tz": -540
    },
    "id": "jJTeYNbTLpl_",
    "outputId": "91c27e6b-6b5e-4db7-818a-660a49dbd181"
   },
   "outputs": [
    {
     "data": {
      "text/plain": [
       "0    22896\n",
       "1     8989\n",
       "Name: emotion, dtype: int64"
      ]
     },
     "execution_count": 11,
     "metadata": {},
     "output_type": "execute_result"
    }
   ],
   "source": [
    "data.emotion.value_counts()"
   ]
  },
  {
   "cell_type": "code",
   "execution_count": 12,
   "metadata": {
    "colab": {
     "base_uri": "https://localhost:8080/",
     "height": 67
    },
    "executionInfo": {
     "elapsed": 4649,
     "status": "ok",
     "timestamp": 1603540278916,
     "user": {
      "displayName": "柿埜百合子",
      "photoUrl": "https://lh3.googleusercontent.com/a-/AOh14GjYNYMMkw7Sbp2fJPiqjXChU1pVOvqumf0pYC9omQ=s64",
      "userId": "18278998855833844730"
     },
     "user_tz": -540
    },
    "id": "rSsx1fjBMIw0",
    "outputId": "2b0ec19b-eec6-4c79-b6d3-5daddc7f9da0"
   },
   "outputs": [
    {
     "name": "stdout",
     "output_type": "stream",
     "text": [
      "train shape: (25538, 3), \n",
      "validation shape: (3174, 3), \n",
      "test shape: (3173, 3)\n"
     ]
    }
   ],
   "source": [
    "data_train = data[data['Usage'] == 'Training'].copy()\n",
    "data_val = data[data['Usage'] == 'PublicTest'].copy()\n",
    "data_test = data[data['Usage'] == 'PrivateTest'].copy()\n",
    "# formatは、{}の中にformatの引数が入れられる\n",
    "print(\"train shape: {}, \\nvalidation shape: {}, \\ntest shape: {}\".format(data_train.shape, data_val.shape, data_test.shape))"
   ]
  },
  {
   "cell_type": "code",
   "execution_count": 13,
   "metadata": {
    "executionInfo": {
     "elapsed": 4642,
     "status": "ok",
     "timestamp": 1603540278917,
     "user": {
      "displayName": "柿埜百合子",
      "photoUrl": "https://lh3.googleusercontent.com/a-/AOh14GjYNYMMkw7Sbp2fJPiqjXChU1pVOvqumf0pYC9omQ=s64",
      "userId": "18278998855833844730"
     },
     "user_tz": -540
    },
    "id": "5gu8h9PgMGrN"
   },
   "outputs": [],
   "source": [
    "num_classes = 2  # 識別させるクラスの数\n",
    "width, height = 48, 48   # 画像のサイズ\n",
    "num_epochs = 100  # 「学習データをN個のサブセットに分け、それぞれ１回ずつ、学習データ全体で計N回学習させる」ということを何回繰り返し学習させるか？\n",
    "batch_size = 64  # 学習データをいくつのサブセットに分けるか？例：1000の学習データを、200データの5サブセットに分ける場合、今回の学習データに対する学習は５回行われる\n",
    "num_features = 64 "
   ]
  },
  {
   "cell_type": "code",
   "execution_count": 14,
   "metadata": {
    "colab": {
     "base_uri": "https://localhost:8080/",
     "height": 67
    },
    "executionInfo": {
     "elapsed": 24044,
     "status": "ok",
     "timestamp": 1603540298326,
     "user": {
      "displayName": "柿埜百合子",
      "photoUrl": "https://lh3.googleusercontent.com/a-/AOh14GjYNYMMkw7Sbp2fJPiqjXChU1pVOvqumf0pYC9omQ=s64",
      "userId": "18278998855833844730"
     },
     "user_tz": -540
    },
    "id": "IRA7yHSLL1Qq",
    "outputId": "e4df841c-2482-4536-c8a0-120a3e2d83cc"
   },
   "outputs": [
    {
     "name": "stdout",
     "output_type": "stream",
     "text": [
      "train _X shape: {},  train _Y shape: (25538, 48, 48, 1)\n",
      "val _X shape: {},  val _Y shape: (3174, 48, 48, 1)\n",
      "test _X shape: {},  test _Y shape: (3173, 48, 48, 1)\n"
     ]
    }
   ],
   "source": [
    "def CRNO(df, dataName):\n",
    "    df['pixels'] = df['pixels'].apply(lambda pixel_sequence: [int(pixel) for pixel in pixel_sequence.split()])\n",
    "    data_X = np.array(df['pixels'].tolist(), dtype='float32').reshape(-1,width, height,1)/255.0   \n",
    "    data_Y = to_categorical(df['emotion'], num_classes)  \n",
    "    print(dataName, \"_X shape: {}, \", dataName, \"_Y shape: {}\".format(data_X.shape, data_Y.shape))\n",
    "    return data_X, data_Y\n",
    "\n",
    "    \n",
    "train_X, train_Y = CRNO(data_train, \"train\") #training data\n",
    "val_X, val_Y     = CRNO(data_val, \"val\") #validation data\n",
    "test_X, test_Y   = CRNO(data_test, \"test\") #test data"
   ]
  },
  {
   "cell_type": "code",
   "execution_count": 15,
   "metadata": {
    "colab": {
     "base_uri": "https://localhost:8080/",
     "height": 134
    },
    "executionInfo": {
     "elapsed": 24036,
     "status": "ok",
     "timestamp": 1603540298326,
     "user": {
      "displayName": "柿埜百合子",
      "photoUrl": "https://lh3.googleusercontent.com/a-/AOh14GjYNYMMkw7Sbp2fJPiqjXChU1pVOvqumf0pYC9omQ=s64",
      "userId": "18278998855833844730"
     },
     "user_tz": -540
    },
    "id": "HQIoRbuaIQDu",
    "outputId": "fc7e1352-540c-4f44-f305-4c7762c8b055",
    "scrolled": true
   },
   "outputs": [
    {
     "data": {
      "text/plain": [
       "array([[1., 0.],\n",
       "       [1., 0.],\n",
       "       [1., 0.],\n",
       "       ...,\n",
       "       [1., 0.],\n",
       "       [1., 0.],\n",
       "       [1., 0.]], dtype=float32)"
      ]
     },
     "execution_count": 15,
     "metadata": {},
     "output_type": "execute_result"
    }
   ],
   "source": [
    "train_Y"
   ]
  },
  {
   "cell_type": "code",
   "execution_count": 16,
   "metadata": {
    "colab": {
     "base_uri": "https://localhost:8080/",
     "height": 840
    },
    "executionInfo": {
     "elapsed": 24027,
     "status": "ok",
     "timestamp": 1603540298327,
     "user": {
      "displayName": "柿埜百合子",
      "photoUrl": "https://lh3.googleusercontent.com/a-/AOh14GjYNYMMkw7Sbp2fJPiqjXChU1pVOvqumf0pYC9omQ=s64",
      "userId": "18278998855833844730"
     },
     "user_tz": -540
    },
    "id": "m7EtUNNzL43X",
    "outputId": "e9c34a94-ef46-46ec-bd54-7c652db40ba9",
    "scrolled": true
   },
   "outputs": [
    {
     "data": {
      "text/plain": [
       "array([[[0.5921569 ],\n",
       "        [0.5882353 ],\n",
       "        [0.5764706 ],\n",
       "        ...,\n",
       "        [0.5058824 ],\n",
       "        [0.54901963],\n",
       "        [0.47058824]],\n",
       "\n",
       "       [[0.5921569 ],\n",
       "        [0.58431375],\n",
       "        [0.58431375],\n",
       "        ...,\n",
       "        [0.47843137],\n",
       "        [0.5529412 ],\n",
       "        [0.5372549 ]],\n",
       "\n",
       "       [[0.5921569 ],\n",
       "        [0.5921569 ],\n",
       "        [0.6117647 ],\n",
       "        ...,\n",
       "        [0.42745098],\n",
       "        [0.48235294],\n",
       "        [0.57254905]],\n",
       "\n",
       "       ...,\n",
       "\n",
       "       [[0.7372549 ],\n",
       "        [0.7372549 ],\n",
       "        [0.4745098 ],\n",
       "        ...,\n",
       "        [0.7254902 ],\n",
       "        [0.7254902 ],\n",
       "        [0.7294118 ]],\n",
       "\n",
       "       [[0.7372549 ],\n",
       "        [0.73333335],\n",
       "        [0.76862746],\n",
       "        ...,\n",
       "        [0.7294118 ],\n",
       "        [0.7137255 ],\n",
       "        [0.73333335]],\n",
       "\n",
       "       [[0.7294118 ],\n",
       "        [0.72156864],\n",
       "        [0.7254902 ],\n",
       "        ...,\n",
       "        [0.75686276],\n",
       "        [0.7176471 ],\n",
       "        [0.72156864]]], dtype=float32)"
      ]
     },
     "execution_count": 16,
     "metadata": {},
     "output_type": "execute_result"
    }
   ],
   "source": [
    "train_X[1]"
   ]
  },
  {
   "cell_type": "code",
   "execution_count": null,
   "metadata": {
    "executionInfo": {
     "elapsed": 24015,
     "status": "ok",
     "timestamp": 1603540298327,
     "user": {
      "displayName": "柿埜百合子",
      "photoUrl": "https://lh3.googleusercontent.com/a-/AOh14GjYNYMMkw7Sbp2fJPiqjXChU1pVOvqumf0pYC9omQ=s64",
      "userId": "18278998855833844730"
     },
     "user_tz": -540
    },
    "id": "9wC9won1MVXm"
   },
   "outputs": [],
   "source": []
  },
  {
   "cell_type": "markdown",
   "metadata": {
    "id": "DizGRrNKMYkj"
   },
   "source": [
    "## モデル作成"
   ]
  },
  {
   "cell_type": "code",
   "execution_count": 17,
   "metadata": {
    "executionInfo": {
     "elapsed": 24010,
     "status": "ok",
     "timestamp": 1603540298328,
     "user": {
      "displayName": "柿埜百合子",
      "photoUrl": "https://lh3.googleusercontent.com/a-/AOh14GjYNYMMkw7Sbp2fJPiqjXChU1pVOvqumf0pYC9omQ=s64",
      "userId": "18278998855833844730"
     },
     "user_tz": -540
    },
    "id": "L_qV8m5OMbBp"
   },
   "outputs": [],
   "source": [
    "# model = Sequential()"
   ]
  },
  {
   "cell_type": "code",
   "execution_count": 18,
   "metadata": {
    "executionInfo": {
     "elapsed": 23994,
     "status": "ok",
     "timestamp": 1603540298328,
     "user": {
      "displayName": "柿埜百合子",
      "photoUrl": "https://lh3.googleusercontent.com/a-/AOh14GjYNYMMkw7Sbp2fJPiqjXChU1pVOvqumf0pYC9omQ=s64",
      "userId": "18278998855833844730"
     },
     "user_tz": -540
    },
    "id": "wG-UgxW5Meyi"
   },
   "outputs": [],
   "source": [
    "# ## 畳み込み層\n",
    "# model.add(Conv2D(\n",
    "#         2*2*num_features, \n",
    "#         kernel_size=(3,3), \n",
    "#         input_shape=(width, height, 1)\n",
    "# ))\n",
    "# model.add(BatchNormalization())\n",
    "# ## 活性化関数\n",
    "# model.add(Activation('relu'))\n",
    "# ## 畳み込み層\n",
    "# model.add(Conv2D(2*2*num_features, kernel_size=(3,3), padding='same'))\n",
    "# model.add(BatchNormalization())\n",
    "# ## 活性化関数\n",
    "# model.add(Activation('relu'))\n",
    "# ## プーリング層\n",
    "# model.add(MaxPooling2D(pool_size=(2,2), strides=(2,2)))"
   ]
  },
  {
   "cell_type": "code",
   "execution_count": 19,
   "metadata": {
    "executionInfo": {
     "elapsed": 23967,
     "status": "ok",
     "timestamp": 1603540298329,
     "user": {
      "displayName": "柿埜百合子",
      "photoUrl": "https://lh3.googleusercontent.com/a-/AOh14GjYNYMMkw7Sbp2fJPiqjXChU1pVOvqumf0pYC9omQ=s64",
      "userId": "18278998855833844730"
     },
     "user_tz": -540
    },
    "id": "-IHLilMZMhDA"
   },
   "outputs": [],
   "source": [
    "# model.add(Conv2D(2*num_features, kernel_size=(3, 3), padding='same'))\n",
    "# model.add(BatchNormalization())\n",
    "# model.add(Activation('relu'))\n",
    "# model.add(Conv2D(2*num_features, kernel_size=(3, 3), padding='same'))\n",
    "# model.add(BatchNormalization())\n",
    "# model.add(Activation('relu'))\n",
    "# model.add(MaxPooling2D(pool_size=(2, 2), strides=(2, 2)))"
   ]
  },
  {
   "cell_type": "code",
   "execution_count": 20,
   "metadata": {
    "executionInfo": {
     "elapsed": 24128,
     "status": "ok",
     "timestamp": 1603540298517,
     "user": {
      "displayName": "柿埜百合子",
      "photoUrl": "https://lh3.googleusercontent.com/a-/AOh14GjYNYMMkw7Sbp2fJPiqjXChU1pVOvqumf0pYC9omQ=s64",
      "userId": "18278998855833844730"
     },
     "user_tz": -540
    },
    "id": "1Jyjcdy7Mi2u"
   },
   "outputs": [],
   "source": [
    "# model.add(Conv2D(num_features, kernel_size=(3, 3), padding='same'))\n",
    "# model.add(BatchNormalization())\n",
    "# model.add(Activation('relu'))\n",
    "# model.add(Conv2D(num_features, kernel_size=(3, 3), padding='same'))\n",
    "# model.add(BatchNormalization())\n",
    "# model.add(Activation('relu'))\n",
    "# model.add(MaxPooling2D(pool_size=(2, 2), strides=(2, 2)))"
   ]
  },
  {
   "cell_type": "code",
   "execution_count": 21,
   "metadata": {
    "executionInfo": {
     "elapsed": 24118,
     "status": "ok",
     "timestamp": 1603540298518,
     "user": {
      "displayName": "柿埜百合子",
      "photoUrl": "https://lh3.googleusercontent.com/a-/AOh14GjYNYMMkw7Sbp2fJPiqjXChU1pVOvqumf0pYC9omQ=s64",
      "userId": "18278998855833844730"
     },
     "user_tz": -540
    },
    "id": "C8EEUNX8MkOT"
   },
   "outputs": [],
   "source": [
    "# model.add(Flatten())"
   ]
  },
  {
   "cell_type": "code",
   "execution_count": 22,
   "metadata": {
    "executionInfo": {
     "elapsed": 24102,
     "status": "ok",
     "timestamp": 1603540298519,
     "user": {
      "displayName": "柿埜百合子",
      "photoUrl": "https://lh3.googleusercontent.com/a-/AOh14GjYNYMMkw7Sbp2fJPiqjXChU1pVOvqumf0pYC9omQ=s64",
      "userId": "18278998855833844730"
     },
     "user_tz": -540
    },
    "id": "ZAUqA3xdMmui"
   },
   "outputs": [],
   "source": [
    "# ## dense 1\n",
    "# model.add(Dense(2*2*2*num_features))\n",
    "# model.add(BatchNormalization())\n",
    "# model.add(Activation('relu'))\n",
    "\n",
    "# #dense 2\n",
    "# model.add(Dense(2*2*num_features))\n",
    "# model.add(BatchNormalization())\n",
    "# model.add(Activation('relu'))\n",
    "\n",
    "# #dense 3\n",
    "# model.add(Dense(2*num_features))\n",
    "# model.add(BatchNormalization())\n",
    "# model.add(Activation('relu'))"
   ]
  },
  {
   "cell_type": "code",
   "execution_count": 23,
   "metadata": {
    "executionInfo": {
     "elapsed": 24288,
     "status": "ok",
     "timestamp": 1603540298716,
     "user": {
      "displayName": "柿埜百合子",
      "photoUrl": "https://lh3.googleusercontent.com/a-/AOh14GjYNYMMkw7Sbp2fJPiqjXChU1pVOvqumf0pYC9omQ=s64",
      "userId": "18278998855833844730"
     },
     "user_tz": -540
    },
    "id": "GoZbSa-aMoZ_"
   },
   "outputs": [],
   "source": [
    "# model.add(Dense(num_classes, activation='softmax'))"
   ]
  },
  {
   "cell_type": "code",
   "execution_count": 24,
   "metadata": {
    "colab": {
     "base_uri": "https://localhost:8080/",
     "height": 1000
    },
    "executionInfo": {
     "elapsed": 24284,
     "status": "ok",
     "timestamp": 1603540298718,
     "user": {
      "displayName": "柿埜百合子",
      "photoUrl": "https://lh3.googleusercontent.com/a-/AOh14GjYNYMMkw7Sbp2fJPiqjXChU1pVOvqumf0pYC9omQ=s64",
      "userId": "18278998855833844730"
     },
     "user_tz": -540
    },
    "id": "MIti1cg4MqBn",
    "outputId": "ef622516-4145-47a5-f1f4-ba3d8eb80634",
    "scrolled": true
   },
   "outputs": [],
   "source": [
    "# model.compile(\n",
    "#     loss='categorical_crossentropy',\n",
    "#     optimizer=Adam(lr=0.001, beta_1=0.9, beta_2=0.999, epsilon=1e-7), \n",
    "#     metrics=['accuracy']\n",
    "# )\n",
    "# model.summary()"
   ]
  },
  {
   "cell_type": "code",
   "execution_count": 25,
   "metadata": {
    "executionInfo": {
     "elapsed": 24274,
     "status": "ok",
     "timestamp": 1603540298718,
     "user": {
      "displayName": "柿埜百合子",
      "photoUrl": "https://lh3.googleusercontent.com/a-/AOh14GjYNYMMkw7Sbp2fJPiqjXChU1pVOvqumf0pYC9omQ=s64",
      "userId": "18278998855833844730"
     },
     "user_tz": -540
    },
    "id": "lU-9KRN-MrZb"
   },
   "outputs": [],
   "source": [
    "# データ水増し\n",
    "data_generator = ImageDataGenerator(\n",
    "    featurewise_center=False,\n",
    "    featurewise_std_normalization=False,\n",
    "    rotation_range=10,\n",
    "    width_shift_range=0.1,\n",
    "    height_shift_range=0.1,\n",
    "    zoom_range=1,\n",
    "    horizontal_flip=True\n",
    ")"
   ]
  },
  {
   "cell_type": "code",
   "execution_count": 26,
   "metadata": {
    "executionInfo": {
     "elapsed": 24269,
     "status": "ok",
     "timestamp": 1603540298719,
     "user": {
      "displayName": "柿埜百合子",
      "photoUrl": "https://lh3.googleusercontent.com/a-/AOh14GjYNYMMkw7Sbp2fJPiqjXChU1pVOvqumf0pYC9omQ=s64",
      "userId": "18278998855833844730"
     },
     "user_tz": -540
    },
    "id": "fRxrTIS9MvLH"
   },
   "outputs": [],
   "source": [
    "# early stopping\n",
    "es = EarlyStopping(\n",
    "    monitor='val_loss',\n",
    "    patience=20,\n",
    "    mode='min',\n",
    "    restore_best_weights=True\n",
    ")"
   ]
  },
  {
   "cell_type": "code",
   "execution_count": 27,
   "metadata": {},
   "outputs": [],
   "source": [
    "# ベストモデルのみ保存する\n",
    "# https://qiita.com/tom_eng_ltd/items/7ae0814c2d133431c84a\n",
    "from keras.callbacks import ModelCheckpoint\n",
    "\n",
    "modelCheckpoint = ModelCheckpoint(filepath = 'model.h5',\n",
    "                                  monitor='val_loss',\n",
    "                                  verbose=1,\n",
    "                                  save_best_only=True, # ベストのモデルのみ保存する\n",
    "                                  save_weights_only=False,\n",
    "                                  mode='min',\n",
    "                                  period=1)"
   ]
  },
  {
   "cell_type": "markdown",
   "metadata": {},
   "source": [
    "## ここから保存データを読み出し再学習"
   ]
  },
  {
   "cell_type": "code",
   "execution_count": 28,
   "metadata": {
    "scrolled": true
   },
   "outputs": [
    {
     "name": "stdout",
     "output_type": "stream",
     "text": [
      "Model: \"sequential_1\"\n",
      "_________________________________________________________________\n",
      "Layer (type)                 Output Shape              Param #   \n",
      "=================================================================\n",
      "conv2d_1 (Conv2D)            (None, 46, 46, 256)       2560      \n",
      "_________________________________________________________________\n",
      "batch_normalization_1 (Batch (None, 46, 46, 256)       1024      \n",
      "_________________________________________________________________\n",
      "activation_1 (Activation)    (None, 46, 46, 256)       0         \n",
      "_________________________________________________________________\n",
      "conv2d_2 (Conv2D)            (None, 46, 46, 256)       590080    \n",
      "_________________________________________________________________\n",
      "batch_normalization_2 (Batch (None, 46, 46, 256)       1024      \n",
      "_________________________________________________________________\n",
      "activation_2 (Activation)    (None, 46, 46, 256)       0         \n",
      "_________________________________________________________________\n",
      "max_pooling2d_1 (MaxPooling2 (None, 23, 23, 256)       0         \n",
      "_________________________________________________________________\n",
      "conv2d_3 (Conv2D)            (None, 23, 23, 128)       295040    \n",
      "_________________________________________________________________\n",
      "batch_normalization_3 (Batch (None, 23, 23, 128)       512       \n",
      "_________________________________________________________________\n",
      "activation_3 (Activation)    (None, 23, 23, 128)       0         \n",
      "_________________________________________________________________\n",
      "conv2d_4 (Conv2D)            (None, 23, 23, 128)       147584    \n",
      "_________________________________________________________________\n",
      "batch_normalization_4 (Batch (None, 23, 23, 128)       512       \n",
      "_________________________________________________________________\n",
      "activation_4 (Activation)    (None, 23, 23, 128)       0         \n",
      "_________________________________________________________________\n",
      "max_pooling2d_2 (MaxPooling2 (None, 11, 11, 128)       0         \n",
      "_________________________________________________________________\n",
      "conv2d_5 (Conv2D)            (None, 11, 11, 64)        73792     \n",
      "_________________________________________________________________\n",
      "batch_normalization_5 (Batch (None, 11, 11, 64)        256       \n",
      "_________________________________________________________________\n",
      "activation_5 (Activation)    (None, 11, 11, 64)        0         \n",
      "_________________________________________________________________\n",
      "conv2d_6 (Conv2D)            (None, 11, 11, 64)        36928     \n",
      "_________________________________________________________________\n",
      "batch_normalization_6 (Batch (None, 11, 11, 64)        256       \n",
      "_________________________________________________________________\n",
      "activation_6 (Activation)    (None, 11, 11, 64)        0         \n",
      "_________________________________________________________________\n",
      "max_pooling2d_3 (MaxPooling2 (None, 5, 5, 64)          0         \n",
      "_________________________________________________________________\n",
      "flatten_1 (Flatten)          (None, 1600)              0         \n",
      "_________________________________________________________________\n",
      "dense_1 (Dense)              (None, 512)               819712    \n",
      "_________________________________________________________________\n",
      "batch_normalization_7 (Batch (None, 512)               2048      \n",
      "_________________________________________________________________\n",
      "activation_7 (Activation)    (None, 512)               0         \n",
      "_________________________________________________________________\n",
      "dense_2 (Dense)              (None, 256)               131328    \n",
      "_________________________________________________________________\n",
      "batch_normalization_8 (Batch (None, 256)               1024      \n",
      "_________________________________________________________________\n",
      "activation_8 (Activation)    (None, 256)               0         \n",
      "_________________________________________________________________\n",
      "dense_3 (Dense)              (None, 128)               32896     \n",
      "_________________________________________________________________\n",
      "batch_normalization_9 (Batch (None, 128)               512       \n",
      "_________________________________________________________________\n",
      "activation_9 (Activation)    (None, 128)               0         \n",
      "_________________________________________________________________\n",
      "dense_4 (Dense)              (None, 2)                 258       \n",
      "=================================================================\n",
      "Total params: 2,137,346\n",
      "Trainable params: 2,133,762\n",
      "Non-trainable params: 3,584\n",
      "_________________________________________________________________\n"
     ]
    }
   ],
   "source": [
    "from tensorflow.keras.models import load_model\n",
    "\n",
    "model = load_model('model_epoch100.h5') # ここは毎回書き換える\n",
    "model.summary()"
   ]
  },
  {
   "cell_type": "code",
   "execution_count": 29,
   "metadata": {
    "colab": {
     "base_uri": "https://localhost:8080/",
     "height": 1000
    },
    "executionInfo": {
     "elapsed": 1944479,
     "status": "ok",
     "timestamp": 1603542218937,
     "user": {
      "displayName": "柿埜百合子",
      "photoUrl": "https://lh3.googleusercontent.com/a-/AOh14GjYNYMMkw7Sbp2fJPiqjXChU1pVOvqumf0pYC9omQ=s64",
      "userId": "18278998855833844730"
     },
     "user_tz": -540
    },
    "id": "Pk7vidLnMxgz",
    "outputId": "173c9252-c2b6-4edf-ff24-d1673501f192",
    "scrolled": false
   },
   "outputs": [
    {
     "name": "stdout",
     "output_type": "stream",
     "text": [
      "WARNING:tensorflow:From <ipython-input-29-39406200b390>:8: Model.fit_generator (from tensorflow.python.keras.engine.training) is deprecated and will be removed in a future version.\n",
      "Instructions for updating:\n",
      "Please use Model.fit, which supports generators.\n",
      "WARNING:tensorflow:sample_weight modes were coerced from\n",
      "  ...\n",
      "    to  \n",
      "  ['...']\n",
      "Train for 399.03125 steps, validate on 3174 samples\n",
      "Epoch 1/50\n",
      "399/399 [============================>.] - ETA: 0s - loss: 0.3080 - accuracy: 0.8722- ETA: 9s - loss: 0.3 - ETA: 7s - los\n",
      "Epoch 00001: val_loss improved from inf to 0.19258, saving model to model.h5\n",
      "400/399 [==============================] - 86s 216ms/step - loss: 0.3079 - accuracy: 0.8722 - val_loss: 0.1926 - val_accuracy: 0.9279\n",
      "Epoch 2/50\n",
      "399/399 [============================>.] - ETA: 0s - loss: 0.3015 - accuracy: 0.8732\n",
      "Epoch 00002: val_loss did not improve from 0.19258\n",
      "400/399 [==============================] - 78s 196ms/step - loss: 0.3017 - accuracy: 0.8731 - val_loss: 0.2016 - val_accuracy: 0.9269\n",
      "Epoch 3/50\n",
      "399/399 [============================>.] - ETA: 0s - loss: 0.3033 - accuracy: 0.8741\n",
      "Epoch 00003: val_loss did not improve from 0.19258\n",
      "400/399 [==============================] - 78s 196ms/step - loss: 0.3032 - accuracy: 0.8741 - val_loss: 0.1957 - val_accuracy: 0.9329\n",
      "Epoch 4/50\n",
      "399/399 [============================>.] - ETA: 0s - loss: 0.2992 - accuracy: 0.8745\n",
      "Epoch 00004: val_loss did not improve from 0.19258\n",
      "400/399 [==============================] - 78s 196ms/step - loss: 0.3016 - accuracy: 0.8744 - val_loss: 0.2134 - val_accuracy: 0.9187\n",
      "Epoch 5/50\n",
      "399/399 [============================>.] - ETA: 0s - loss: 0.3643 - accuracy: 0.8418\n",
      "Epoch 00005: val_loss did not improve from 0.19258\n",
      "400/399 [==============================] - 79s 197ms/step - loss: 0.3640 - accuracy: 0.8418 - val_loss: 0.2157 - val_accuracy: 0.9178\n",
      "Epoch 6/50\n",
      "399/399 [============================>.] - ETA: 0s - loss: 0.3230 - accuracy: 0.8646\n",
      "Epoch 00006: val_loss did not improve from 0.19258\n",
      "400/399 [==============================] - 78s 196ms/step - loss: 0.3227 - accuracy: 0.8648 - val_loss: 0.2161 - val_accuracy: 0.9165\n",
      "Epoch 7/50\n",
      "399/399 [============================>.] - ETA: 0s - loss: 0.3061 - accuracy: 0.8702\n",
      "Epoch 00007: val_loss did not improve from 0.19258\n",
      "400/399 [==============================] - 78s 195ms/step - loss: 0.3059 - accuracy: 0.8703 - val_loss: 0.1980 - val_accuracy: 0.9279\n",
      "Epoch 8/50\n",
      "399/399 [============================>.] - ETA: 0s - loss: 0.3024 - accuracy: 0.87 - ETA: 0s - loss: 0.3026 - accuracy: 0.8743\n",
      "Epoch 00008: val_loss did not improve from 0.19258\n",
      "400/399 [==============================] - 78s 196ms/step - loss: 0.3024 - accuracy: 0.8744 - val_loss: 0.2019 - val_accuracy: 0.9203\n",
      "Epoch 9/50\n",
      "399/399 [============================>.] - ETA: 0s - loss: 0.3095 - accuracy: 0.8685\n",
      "Epoch 00009: val_loss did not improve from 0.19258\n",
      "400/399 [==============================] - 78s 196ms/step - loss: 0.3093 - accuracy: 0.8686 - val_loss: 0.1946 - val_accuracy: 0.9282\n",
      "Epoch 10/50\n",
      "399/399 [============================>.] - ETA: 0s - loss: 0.3026 - accuracy: 0.8724 - ETA: 50s - loss: 0.2919 - accuracy: 0.8 \n",
      "Epoch 00010: val_loss did not improve from 0.19258\n",
      "400/399 [==============================] - 78s 195ms/step - loss: 0.3026 - accuracy: 0.8725 - val_loss: 0.1968 - val_accuracy: 0.9297\n",
      "Epoch 11/50\n",
      "399/399 [============================>.] - ETA: 0s - loss: 0.2933 - accuracy: 0.8757\n",
      "Epoch 00011: val_loss did not improve from 0.19258\n",
      "400/399 [==============================] - 78s 196ms/step - loss: 0.2937 - accuracy: 0.8754 - val_loss: 0.2032 - val_accuracy: 0.9291\n",
      "Epoch 12/50\n",
      "399/399 [============================>.] - ETA: 0s - loss: 0.2957 - accuracy: 0.8759\n",
      "Epoch 00012: val_loss did not improve from 0.19258\n",
      "400/399 [==============================] - 78s 196ms/step - loss: 0.2958 - accuracy: 0.8759 - val_loss: 0.1983 - val_accuracy: 0.9297\n",
      "Epoch 13/50\n",
      "399/399 [============================>.] - ETA: 0s - loss: 0.2956 - accuracy: 0.8773 - - ETA: 33s - loss: 0.29 - ETA: 29s - loss: 0.2949 - accura - ETA: 27s - loss: 0.2961 - accuracy: 0. - ETA: 26s - loss: 0.2958 - ac\n",
      "Epoch 00013: val_loss did not improve from 0.19258\n",
      "400/399 [==============================] - 78s 196ms/step - loss: 0.2957 - accuracy: 0.8773 - val_loss: 0.1984 - val_accuracy: 0.9285\n",
      "Epoch 14/50\n",
      "399/399 [============================>.] - ETA: 0s - loss: 0.2942 - accuracy: 0.8780 ETA: 3s -\n",
      "Epoch 00014: val_loss did not improve from 0.19258\n",
      "400/399 [==============================] - 78s 196ms/step - loss: 0.2945 - accuracy: 0.8779 - val_loss: 0.2090 - val_accuracy: 0.9250\n",
      "Epoch 15/50\n",
      "399/399 [============================>.] - ETA: 0s - loss: 0.2963 - accuracy: 0.8772\n",
      "Epoch 00015: val_loss did not improve from 0.19258\n",
      "400/399 [==============================] - 78s 196ms/step - loss: 0.2962 - accuracy: 0.8772 - val_loss: 0.1947 - val_accuracy: 0.9329\n",
      "Epoch 16/50\n",
      "399/399 [============================>.] - ETA: 0s - loss: 0.2917 - accuracy: 0.8760\n",
      "Epoch 00016: val_loss did not improve from 0.19258\n",
      "400/399 [==============================] - 78s 196ms/step - loss: 0.2915 - accuracy: 0.8761 - val_loss: 0.2054 - val_accuracy: 0.9272\n",
      "Epoch 17/50\n",
      "399/399 [============================>.] - ETA: 0s - loss: 0.2917 - accuracy: 0.8767 ETA\n",
      "Epoch 00017: val_loss did not improve from 0.19258\n",
      "400/399 [==============================] - 78s 196ms/step - loss: 0.2917 - accuracy: 0.8767 - val_loss: 0.2062 - val_accuracy: 0.9228\n",
      "Epoch 18/50\n",
      "399/399 [============================>.] - ETA: 0s - loss: 0.2889 - accuracy: 0.8788\n",
      "Epoch 00018: val_loss did not improve from 0.19258\n",
      "400/399 [==============================] - 78s 196ms/step - loss: 0.2891 - accuracy: 0.8787 - val_loss: 0.2012 - val_accuracy: 0.9253\n",
      "Epoch 19/50\n",
      "399/399 [============================>.] - ETA: 0s - loss: 0.2941 - accuracy: 0.8771 ETA: 4s - - ETA: 1s - loss: 0.2944 - \n",
      "Epoch 00019: val_loss did not improve from 0.19258\n",
      "400/399 [==============================] - 78s 196ms/step - loss: 0.2940 - accuracy: 0.8771 - val_loss: 0.2229 - val_accuracy: 0.9178\n",
      "Epoch 20/50\n",
      "399/399 [============================>.] - ETA: 0s - loss: 0.2883 - accuracy: 0.8769\n",
      "Epoch 00020: val_loss did not improve from 0.19258\n",
      "400/399 [==============================] - 79s 196ms/step - loss: 0.2885 - accuracy: 0.8768 - val_loss: 0.2321 - val_accuracy: 0.9165\n",
      "Epoch 21/50\n",
      "399/399 [============================>.] - ETA: 0s - loss: 0.2905 - accuracy: 0.8785\n",
      "Epoch 00021: val_loss did not improve from 0.19258\n",
      "400/399 [==============================] - 78s 196ms/step - loss: 0.2905 - accuracy: 0.8785 - val_loss: 0.1946 - val_accuracy: 0.9291\n"
     ]
    }
   ],
   "source": [
    "\n",
    "history = model.fit_generator(\n",
    "    data_generator.flow(train_X, train_Y, batch_size),\n",
    "    steps_per_epoch=len(train_X)/batch_size,\n",
    "#     epochs=num_epochs,\n",
    "    epochs=50, # 追加で50回学習\n",
    "    verbose=1,\n",
    "    callbacks=[es, modelCheckpoint], # 書き換え\n",
    "    validation_data=(val_X, val_Y)\n",
    ")\n"
   ]
  },
  {
   "cell_type": "code",
   "execution_count": 32,
   "metadata": {
    "executionInfo": {
     "elapsed": 1944475,
     "status": "ok",
     "timestamp": 1603542218941,
     "user": {
      "displayName": "柿埜百合子",
      "photoUrl": "https://lh3.googleusercontent.com/a-/AOh14GjYNYMMkw7Sbp2fJPiqjXChU1pVOvqumf0pYC9omQ=s64",
      "userId": "18278998855833844730"
     },
     "user_tz": -540
    },
    "id": "4rMaHCBV0z0i"
   },
   "outputs": [],
   "source": [
    "# 学習プロセスのプロット用関数\n",
    "\n",
    "def Learning_Process_Plot(hist):\n",
    "    acc = hist.history['accuracy'] # tf2.x: accuracy\n",
    "    val_acc = hist.history['val_accuracy'] # tf2.x: val_accuracy\n",
    "    loss = hist.history['loss']\n",
    "    val_loss = hist.history['val_loss']\n",
    "\n",
    "    epochs = range(len(acc))\n",
    "\n",
    "    plt.plot(epochs, acc, label='Training acc', ls=\"-\", marker=\"o\")\n",
    "    plt.plot(epochs, val_acc, label='Validation acc', ls=\"-\", marker=\"x\")\n",
    "    plt.title('Training and validation accuracy')\n",
    "    plt.ylabel(\"accuracy\")\n",
    "    plt.xlabel(\"epoch\")\n",
    "    plt.legend(loc=\"best\")\n",
    "\n",
    "    plt.figure()\n",
    "\n",
    "    plt.plot(epochs, loss, label='Training loss', ls=\"-\", marker=\"o\")\n",
    "    plt.plot(epochs, val_loss, label='Validation loss', ls=\"-\", marker=\"x\")\n",
    "    plt.title('Training and validation loss')\n",
    "    plt.ylabel(\"loss\")\n",
    "    plt.xlabel(\"epoch\")\n",
    "    plt.legend(loc=\"best\")\n",
    "\n",
    "    plt.show()"
   ]
  },
  {
   "cell_type": "code",
   "execution_count": 33,
   "metadata": {},
   "outputs": [
    {
     "data": {
      "image/png": "[encoded data removed]",
      "text/plain": [
       "<Figure size 432x288 with 1 Axes>"
      ]
     },
     "metadata": {
      "needs_background": "light"
     },
     "output_type": "display_data"
    },
    {
     "data": {
      "image/png": "[encoded data removed]",
      "text/plain": [
       "<Figure size 432x288 with 1 Axes>"
      ]
     },
     "metadata": {
      "needs_background": "light"
     },
     "output_type": "display_data"
    }
   ],
   "source": [
    "# 学習プロセスのプロット\n",
    "Learning_Process_Plot(history)"
   ]
  },
  {
   "cell_type": "code",
   "execution_count": 34,
   "metadata": {
    "colab": {
     "base_uri": "https://localhost:8080/",
     "height": 34
    },
    "executionInfo": {
     "elapsed": 1946560,
     "status": "ok",
     "timestamp": 1603542221036,
     "user": {
      "displayName": "柿埜百合子",
      "photoUrl": "https://lh3.googleusercontent.com/a-/AOh14GjYNYMMkw7Sbp2fJPiqjXChU1pVOvqumf0pYC9omQ=s64",
      "userId": "18278998855833844730"
     },
     "user_tz": -540
    },
    "id": "u8ableW-cvsL",
    "outputId": "af450588-7ba0-440b-e419-8d4d0462ba32"
   },
   "outputs": [
    {
     "name": "stdout",
     "output_type": "stream",
     "text": [
      "CNN Model Accuracy on test set: 0.9414\n"
     ]
    }
   ],
   "source": [
    "test_true = np.argmax(test_Y, axis=1)\n",
    "test_pred = np.argmax(model.predict(test_X), axis=1)\n",
    "print(\"CNN Model Accuracy on test set: {:.4f}\".format(accuracy_score(test_true, test_pred)))"
   ]
  },
  {
   "cell_type": "code",
   "execution_count": 36,
   "metadata": {
    "colab": {
     "base_uri": "https://localhost:8080/",
     "height": 34
    },
    "executionInfo": {
     "elapsed": 1946552,
     "status": "ok",
     "timestamp": 1603542221037,
     "user": {
      "displayName": "柿埜百合子",
      "photoUrl": "https://lh3.googleusercontent.com/a-/AOh14GjYNYMMkw7Sbp2fJPiqjXChU1pVOvqumf0pYC9omQ=s64",
      "userId": "18278998855833844730"
     },
     "user_tz": -540
    },
    "id": "jBHS0iY8H4v9",
    "outputId": "a9dca26d-b402-4570-dc5c-c4584b5c4ec5"
   },
   "outputs": [
    {
     "data": {
      "text/plain": [
       "array([0, 0, 0, ..., 0, 1, 0], dtype=int64)"
      ]
     },
     "execution_count": 36,
     "metadata": {},
     "output_type": "execute_result"
    }
   ],
   "source": [
    "test_true"
   ]
  },
  {
   "cell_type": "code",
   "execution_count": 37,
   "metadata": {
    "colab": {
     "base_uri": "https://localhost:8080/",
     "height": 34
    },
    "executionInfo": {
     "elapsed": 1946546,
     "status": "ok",
     "timestamp": 1603542221037,
     "user": {
      "displayName": "柿埜百合子",
      "photoUrl": "https://lh3.googleusercontent.com/a-/AOh14GjYNYMMkw7Sbp2fJPiqjXChU1pVOvqumf0pYC9omQ=s64",
      "userId": "18278998855833844730"
     },
     "user_tz": -540
    },
    "id": "sTUZPYHpH7Oq",
    "outputId": "a0e81b60-5476-402f-d065-1ef5c976c285"
   },
   "outputs": [
    {
     "data": {
      "text/plain": [
       "array([0, 0, 0, ..., 0, 1, 0], dtype=int64)"
      ]
     },
     "execution_count": 37,
     "metadata": {},
     "output_type": "execute_result"
    }
   ],
   "source": [
    "test_pred"
   ]
  },
  {
   "cell_type": "code",
   "execution_count": 38,
   "metadata": {
    "executionInfo": {
     "elapsed": 1946537,
     "status": "ok",
     "timestamp": 1603542221038,
     "user": {
      "displayName": "柿埜百合子",
      "photoUrl": "https://lh3.googleusercontent.com/a-/AOh14GjYNYMMkw7Sbp2fJPiqjXChU1pVOvqumf0pYC9omQ=s64",
      "userId": "18278998855833844730"
     },
     "user_tz": -540
    },
    "id": "UlzGB6-3djoT"
   },
   "outputs": [],
   "source": [
    "#model.save(\"drive/My Drive/Colab Notebooks/facial-expression/2020-10-24-MrIi-fer2013_4.h5\")"
   ]
  },
  {
   "cell_type": "code",
   "execution_count": 39,
   "metadata": {
    "executionInfo": {
     "elapsed": 12790,
     "status": "ok",
     "timestamp": 1603543198471,
     "user": {
      "displayName": "柿埜百合子",
      "photoUrl": "https://lh3.googleusercontent.com/a-/AOh14GjYNYMMkw7Sbp2fJPiqjXChU1pVOvqumf0pYC9omQ=s64",
      "userId": "18278998855833844730"
     },
     "user_tz": -540
    },
    "id": "rEW5JY_xsFON"
   },
   "outputs": [],
   "source": [
    "# 保存したモデルをロード\n",
    "from tensorflow.keras.models import load_model\n",
    "# saved_model = load_model('/content/drive/My Drive/Colab Notebooks/facial-expression/2020-10-09-MrIi-fer2013_4.h5')\n",
    "# saved_model2 = load_model('/content/drive/My Drive/Colab Notebooks/facial-expression/2020-10-24-MrIi-fer2013_4.h5')\n",
    "saved_model = load_model('model.h5')"
   ]
  },
  {
   "cell_type": "code",
   "execution_count": null,
   "metadata": {
    "id": "uB46TqGeoDti"
   },
   "outputs": [],
   "source": []
  },
  {
   "cell_type": "code",
   "execution_count": 40,
   "metadata": {
    "colab": {
     "base_uri": "https://localhost:8080/",
     "height": 34
    },
    "executionInfo": {
     "elapsed": 1996,
     "status": "ok",
     "timestamp": 1603543744537,
     "user": {
      "displayName": "柿埜百合子",
      "photoUrl": "https://lh3.googleusercontent.com/a-/AOh14GjYNYMMkw7Sbp2fJPiqjXChU1pVOvqumf0pYC9omQ=s64",
      "userId": "18278998855833844730"
     },
     "user_tz": -540
    },
    "id": "PbEhbX9Jbi73",
    "outputId": "c1f279a8-d2c8-4e90-bcaf-fe16becca29a"
   },
   "outputs": [
    {
     "name": "stdout",
     "output_type": "stream",
     "text": [
      "model ver 1 CNN Model Accuracy on test set: 0.9414\n"
     ]
    }
   ],
   "source": [
    "# 保存したモデルの確認としてテストデータで判別させる\n",
    "test_true = np.argmax(test_Y, axis=1)\n",
    "test_pred = np.argmax(saved_model.predict(test_X), axis=1)\n",
    "print(\"model ver 1 CNN Model Accuracy on test set: {:.4f}\".format(accuracy_score(test_true, test_pred)))"
   ]
  },
  {
   "cell_type": "code",
   "execution_count": 41,
   "metadata": {
    "colab": {
     "base_uri": "https://localhost:8080/",
     "height": 34
    },
    "executionInfo": {
     "elapsed": 3082,
     "status": "ok",
     "timestamp": 1603543745899,
     "user": {
      "displayName": "柿埜百合子",
      "photoUrl": "https://lh3.googleusercontent.com/a-/AOh14GjYNYMMkw7Sbp2fJPiqjXChU1pVOvqumf0pYC9omQ=s64",
      "userId": "18278998855833844730"
     },
     "user_tz": -540
    },
    "id": "WgZvTi_hp6zC",
    "outputId": "4f2c7cd1-6d42-4a24-8828-f552831c257c"
   },
   "outputs": [],
   "source": [
    "# # 保存したモデルの確認としてテストデータで判別させる\n",
    "# test_true2 = np.argmax(test_Y, axis=1)\n",
    "# test_pred2 = np.argmax(saved_model2.predict(test_X), axis=1)\n",
    "# print(\"model ver 2CNN Model Accuracy on test set: {:.4f}\".format(accuracy_score(test_true2, test_pred2)))"
   ]
  },
  {
   "cell_type": "code",
   "execution_count": 42,
   "metadata": {
    "colab": {
     "base_uri": "https://localhost:8080/",
     "height": 34
    },
    "executionInfo": {
     "elapsed": 1948573,
     "status": "ok",
     "timestamp": 1603542223116,
     "user": {
      "displayName": "柿埜百合子",
      "photoUrl": "https://lh3.googleusercontent.com/a-/AOh14GjYNYMMkw7Sbp2fJPiqjXChU1pVOvqumf0pYC9omQ=s64",
      "userId": "18278998855833844730"
     },
     "user_tz": -540
    },
    "id": "VHOv2pa6qFc7",
    "outputId": "7d1ed932-9f56-408c-8d38-8e3a6848b688"
   },
   "outputs": [
    {
     "name": "stdout",
     "output_type": "stream",
     "text": [
      "[0 0 0 ... 0 1 0]\n"
     ]
    }
   ],
   "source": [
    "print(test_true)"
   ]
  },
  {
   "cell_type": "code",
   "execution_count": 43,
   "metadata": {
    "colab": {
     "base_uri": "https://localhost:8080/",
     "height": 34
    },
    "executionInfo": {
     "elapsed": 553,
     "status": "ok",
     "timestamp": 1603543785384,
     "user": {
      "displayName": "柿埜百合子",
      "photoUrl": "https://lh3.googleusercontent.com/a-/AOh14GjYNYMMkw7Sbp2fJPiqjXChU1pVOvqumf0pYC9omQ=s64",
      "userId": "18278998855833844730"
     },
     "user_tz": -540
    },
    "id": "weJBVTETqBg3",
    "outputId": "12383124-cf21-4758-88b7-d021e7fda038"
   },
   "outputs": [],
   "source": [
    "# print(test_true2)"
   ]
  },
  {
   "cell_type": "code",
   "execution_count": 44,
   "metadata": {
    "colab": {
     "base_uri": "https://localhost:8080/",
     "height": 34
    },
    "executionInfo": {
     "elapsed": 1948566,
     "status": "ok",
     "timestamp": 1603542223117,
     "user": {
      "displayName": "柿埜百合子",
      "photoUrl": "https://lh3.googleusercontent.com/a-/AOh14GjYNYMMkw7Sbp2fJPiqjXChU1pVOvqumf0pYC9omQ=s64",
      "userId": "18278998855833844730"
     },
     "user_tz": -540
    },
    "id": "Hhfgcw6JqGt4",
    "outputId": "d848ba9b-e623-4d67-bf26-a8aef1aa9872"
   },
   "outputs": [
    {
     "name": "stdout",
     "output_type": "stream",
     "text": [
      "[0 1]\n"
     ]
    }
   ],
   "source": [
    "u_true, counts_true = np.unique(test_true, return_counts=True)\n",
    "print(u_true)"
   ]
  },
  {
   "cell_type": "code",
   "execution_count": 45,
   "metadata": {
    "colab": {
     "base_uri": "https://localhost:8080/",
     "height": 34
    },
    "executionInfo": {
     "elapsed": 1948555,
     "status": "ok",
     "timestamp": 1603542223117,
     "user": {
      "displayName": "柿埜百合子",
      "photoUrl": "https://lh3.googleusercontent.com/a-/AOh14GjYNYMMkw7Sbp2fJPiqjXChU1pVOvqumf0pYC9omQ=s64",
      "userId": "18278998855833844730"
     },
     "user_tz": -540
    },
    "id": "NVVEhINxtAWp",
    "outputId": "16990af0-b3e2-4f57-a64e-8a594e15608d"
   },
   "outputs": [
    {
     "name": "stdout",
     "output_type": "stream",
     "text": [
      "[2294  879]\n"
     ]
    }
   ],
   "source": [
    "print(counts_true)"
   ]
  },
  {
   "cell_type": "code",
   "execution_count": 46,
   "metadata": {
    "colab": {
     "base_uri": "https://localhost:8080/",
     "height": 34
    },
    "executionInfo": {
     "elapsed": 1948543,
     "status": "ok",
     "timestamp": 1603542223118,
     "user": {
      "displayName": "柿埜百合子",
      "photoUrl": "https://lh3.googleusercontent.com/a-/AOh14GjYNYMMkw7Sbp2fJPiqjXChU1pVOvqumf0pYC9omQ=s64",
      "userId": "18278998855833844730"
     },
     "user_tz": -540
    },
    "id": "C22PuqOdtBUU",
    "outputId": "55a8b49e-398b-4db5-b795-17ae07716e21"
   },
   "outputs": [
    {
     "name": "stdout",
     "output_type": "stream",
     "text": [
      "[0 1]\n"
     ]
    }
   ],
   "source": [
    "u_pred, counts_pred = np.unique(test_pred, return_counts=True)\n",
    "print(u_pred)"
   ]
  },
  {
   "cell_type": "code",
   "execution_count": 47,
   "metadata": {
    "colab": {
     "base_uri": "https://localhost:8080/",
     "height": 34
    },
    "executionInfo": {
     "elapsed": 1948530,
     "status": "ok",
     "timestamp": 1603542223119,
     "user": {
      "displayName": "柿埜百合子",
      "photoUrl": "https://lh3.googleusercontent.com/a-/AOh14GjYNYMMkw7Sbp2fJPiqjXChU1pVOvqumf0pYC9omQ=s64",
      "userId": "18278998855833844730"
     },
     "user_tz": -540
    },
    "id": "8J3dZb3-tOhY",
    "outputId": "030fc11c-9fc1-48c4-c31a-263dcb9593bf"
   },
   "outputs": [
    {
     "name": "stdout",
     "output_type": "stream",
     "text": [
      "[2328  845]\n"
     ]
    }
   ],
   "source": [
    "print(counts_pred)"
   ]
  },
  {
   "cell_type": "code",
   "execution_count": 48,
   "metadata": {
    "colab": {
     "base_uri": "https://localhost:8080/",
     "height": 50
    },
    "executionInfo": {
     "elapsed": 1948489,
     "status": "ok",
     "timestamp": 1603542223120,
     "user": {
      "displayName": "柿埜百合子",
      "photoUrl": "https://lh3.googleusercontent.com/a-/AOh14GjYNYMMkw7Sbp2fJPiqjXChU1pVOvqumf0pYC9omQ=s64",
      "userId": "18278998855833844730"
     },
     "user_tz": -540
    },
    "id": "HYWgMSP5tQD8",
    "outputId": "9d321da1-b067-4716-bf55-495377bd14b6"
   },
   "outputs": [
    {
     "name": "stdout",
     "output_type": "stream",
     "text": [
      "[0 0 0 ... 0 1 0]\n",
      "2294\n"
     ]
    }
   ],
   "source": [
    "print(test_true)\n",
    "test_true_bad  = np.count_nonzero(test_true == 0)\n",
    "test_true_sad  = np.count_nonzero(test_true == 1)\n",
    "test_true_happy  = np.count_nonzero(test_true == 2)\n",
    "test_true_surprise  = np.count_nonzero(test_true == 3)\n",
    "print(test_true_bad)"
   ]
  },
  {
   "cell_type": "code",
   "execution_count": 49,
   "metadata": {
    "colab": {
     "base_uri": "https://localhost:8080/",
     "height": 50
    },
    "executionInfo": {
     "elapsed": 1948459,
     "status": "ok",
     "timestamp": 1603542223121,
     "user": {
      "displayName": "柿埜百合子",
      "photoUrl": "https://lh3.googleusercontent.com/a-/AOh14GjYNYMMkw7Sbp2fJPiqjXChU1pVOvqumf0pYC9omQ=s64",
      "userId": "18278998855833844730"
     },
     "user_tz": -540
    },
    "id": "gixsCpuDtdii",
    "outputId": "99743190-6c4a-4409-87cf-aa2583b7b274"
   },
   "outputs": [
    {
     "name": "stdout",
     "output_type": "stream",
     "text": [
      "[0 0 0 ... 0 1 0]\n",
      "2328\n"
     ]
    }
   ],
   "source": [
    "print(test_pred)\n",
    "test_pred_bad  = np.count_nonzero(test_pred == 0)\n",
    "test_pred_sad  = np.count_nonzero(test_pred == 1)\n",
    "test_pred_happy  = np.count_nonzero(test_pred == 2)\n",
    "test_pred_surprise  = np.count_nonzero(test_pred == 3)\n",
    "print(test_pred_bad)"
   ]
  },
  {
   "cell_type": "code",
   "execution_count": 50,
   "metadata": {
    "colab": {
     "base_uri": "https://localhost:8080/",
     "height": 50
    },
    "executionInfo": {
     "elapsed": 567,
     "status": "ok",
     "timestamp": 1603543872836,
     "user": {
      "displayName": "柿埜百合子",
      "photoUrl": "https://lh3.googleusercontent.com/a-/AOh14GjYNYMMkw7Sbp2fJPiqjXChU1pVOvqumf0pYC9omQ=s64",
      "userId": "18278998855833844730"
     },
     "user_tz": -540
    },
    "id": "RLpugDDWtbMk",
    "outputId": "f8e66082-440a-49e4-b7fd-05e396159d73"
   },
   "outputs": [],
   "source": [
    "from sklearn.metrics import confusion_matrix\n",
    "cm = confusion_matrix(test_true, test_pred)"
   ]
  },
  {
   "cell_type": "code",
   "execution_count": 51,
   "metadata": {},
   "outputs": [
    {
     "name": "stdout",
     "output_type": "stream",
     "text": [
      "Confusion Matrix\n",
      "------------------\n",
      "[[2218   76]\n",
      " [ 110  769]]\n",
      "------------------\n"
     ]
    },
    {
     "data": {
      "image/png": "[encoded data removed]",
      "text/plain": [
       "<Figure size 360x360 with 2 Axes>"
      ]
     },
     "metadata": {},
     "output_type": "display_data"
    }
   ],
   "source": [
    "import seaborn as sns\n",
    "from sklearn.metrics import confusion_matrix\n",
    "\n",
    "sns.set()\n",
    "\n",
    "cm_rate = cm / cm.sum()\n",
    "\n",
    "# 混合行列を描画する。\n",
    "def print_confusion_matrix(confusion_matrix, class_names):\n",
    "    fig = plt.figure(figsize=(5, 5))\n",
    "    heatmap = sns.heatmap(\n",
    "        confusion_matrix, xticklabels=class_names, yticklabels=class_names,\n",
    "        annot=True, fmt='.1%', cbar=True, square=True, cmap='YlGnBu')\n",
    "    plt.ylabel('True label')\n",
    "    plt.xlabel('Predicted label')\n",
    "    plt.show()\n",
    "\n",
    "labels = [\"False\",\"True\"]\n",
    "\n",
    "print(\"Confusion Matrix\")\n",
    "print(\"------------------\")\n",
    "print(cm)\n",
    "print(\"------------------\")\n",
    "\n",
    "print_confusion_matrix(cm_rate, labels)\n",
    "\n",
    "# 縦軸の表示がおかしいのは matplotlib 3.1.1 のバグ\n",
    "# https://teratail.com/questions/205195"
   ]
  },
  {
   "cell_type": "code",
   "execution_count": null,
   "metadata": {
    "colab": {
     "base_uri": "https://localhost:8080/",
     "height": 50
    },
    "executionInfo": {
     "elapsed": 631,
     "status": "ok",
     "timestamp": 1603543874673,
     "user": {
      "displayName": "柿埜百合子",
      "photoUrl": "https://lh3.googleusercontent.com/a-/AOh14GjYNYMMkw7Sbp2fJPiqjXChU1pVOvqumf0pYC9omQ=s64",
      "userId": "18278998855833844730"
     },
     "user_tz": -540
    },
    "id": "v3ovUoQEot_A",
    "outputId": "c4b3fd4c-d4c7-472b-a3dc-93829d08c2a1"
   },
   "outputs": [],
   "source": [
    "# from sklearn.metrics import confusion_matrix\n",
    "# confusion_matrix(test_true2, test_pred2)"
   ]
  },
  {
   "cell_type": "code",
   "execution_count": 52,
   "metadata": {
    "colab": {
     "base_uri": "https://localhost:8080/",
     "height": 168
    },
    "executionInfo": {
     "elapsed": 548,
     "status": "ok",
     "timestamp": 1603543882715,
     "user": {
      "displayName": "柿埜百合子",
      "photoUrl": "https://lh3.googleusercontent.com/a-/AOh14GjYNYMMkw7Sbp2fJPiqjXChU1pVOvqumf0pYC9omQ=s64",
      "userId": "18278998855833844730"
     },
     "user_tz": -540
    },
    "id": "z9tjRT9Hu2_F",
    "outputId": "f15b815a-02ea-43ee-992b-c5c6f8ecd9d7"
   },
   "outputs": [
    {
     "name": "stdout",
     "output_type": "stream",
     "text": [
      "              precision    recall  f1-score   support\n",
      "\n",
      "         bad     0.9527    0.9669    0.9598      2294\n",
      "       happy     0.9101    0.8749    0.8921       879\n",
      "\n",
      "    accuracy                         0.9414      3173\n",
      "   macro avg     0.9314    0.9209    0.9259      3173\n",
      "weighted avg     0.9409    0.9414    0.9410      3173\n",
      "\n"
     ]
    }
   ],
   "source": [
    "# model1\n",
    "target_names=[\"bad\", \"happy\"]\n",
    "print(classification_report(test_true, test_pred, target_names=target_names, digits=4))"
   ]
  },
  {
   "cell_type": "code",
   "execution_count": null,
   "metadata": {
    "colab": {
     "base_uri": "https://localhost:8080/",
     "height": 168
    },
    "executionInfo": {
     "elapsed": 543,
     "status": "ok",
     "timestamp": 1603543886072,
     "user": {
      "displayName": "柿埜百合子",
      "photoUrl": "https://lh3.googleusercontent.com/a-/AOh14GjYNYMMkw7Sbp2fJPiqjXChU1pVOvqumf0pYC9omQ=s64",
      "userId": "18278998855833844730"
     },
     "user_tz": -540
    },
    "id": "bZuEuwcuodHC",
    "outputId": "f3c25443-bc6d-4d16-c68c-ff40e424ae08"
   },
   "outputs": [],
   "source": [
    "# # model2\n",
    "# target_names=[\"bad\", \"happy\"]\n",
    "# print(classification_report(test_true2, test_pred2, target_names=target_names))"
   ]
  },
  {
   "cell_type": "code",
   "execution_count": 53,
   "metadata": {
    "executionInfo": {
     "elapsed": 1948424,
     "status": "ok",
     "timestamp": 1603542223123,
     "user": {
      "displayName": "柿埜百合子",
      "photoUrl": "https://lh3.googleusercontent.com/a-/AOh14GjYNYMMkw7Sbp2fJPiqjXChU1pVOvqumf0pYC9omQ=s64",
      "userId": "18278998855833844730"
     },
     "user_tz": -540
    },
    "id": "_j0lFvJjVfK8"
   },
   "outputs": [],
   "source": [
    "from sklearn.metrics import roc_curve\n",
    "import matplotlib.pyplot as plt\n",
    "\n",
    "fpr, tpr, thresholds = roc_curve(test_true, test_pred)"
   ]
  },
  {
   "cell_type": "code",
   "execution_count": 54,
   "metadata": {
    "colab": {
     "base_uri": "https://localhost:8080/",
     "height": 34
    },
    "executionInfo": {
     "elapsed": 1948410,
     "status": "ok",
     "timestamp": 1603542223124,
     "user": {
      "displayName": "柿埜百合子",
      "photoUrl": "https://lh3.googleusercontent.com/a-/AOh14GjYNYMMkw7Sbp2fJPiqjXChU1pVOvqumf0pYC9omQ=s64",
      "userId": "18278998855833844730"
     },
     "user_tz": -540
    },
    "id": "3tpcJU4yYObA",
    "outputId": "43fcf76d-667e-4eee-b7ca-d344d80665fb"
   },
   "outputs": [
    {
     "name": "stdout",
     "output_type": "stream",
     "text": [
      "[0.        0.0331299 1.       ]\n"
     ]
    }
   ],
   "source": [
    "print(fpr)"
   ]
  },
  {
   "cell_type": "code",
   "execution_count": 55,
   "metadata": {
    "colab": {
     "base_uri": "https://localhost:8080/",
     "height": 34
    },
    "executionInfo": {
     "elapsed": 1948403,
     "status": "ok",
     "timestamp": 1603542223124,
     "user": {
      "displayName": "柿埜百合子",
      "photoUrl": "https://lh3.googleusercontent.com/a-/AOh14GjYNYMMkw7Sbp2fJPiqjXChU1pVOvqumf0pYC9omQ=s64",
      "userId": "18278998855833844730"
     },
     "user_tz": -540
    },
    "id": "FE3CnY1GYUx-",
    "outputId": "acf20813-ccc7-40af-a1cb-42409d818d55"
   },
   "outputs": [
    {
     "name": "stdout",
     "output_type": "stream",
     "text": [
      "[0.         0.87485779 1.        ]\n"
     ]
    }
   ],
   "source": [
    "print(tpr)"
   ]
  },
  {
   "cell_type": "code",
   "execution_count": 56,
   "metadata": {
    "colab": {
     "base_uri": "https://localhost:8080/",
     "height": 279
    },
    "executionInfo": {
     "elapsed": 1948699,
     "status": "ok",
     "timestamp": 1603542223445,
     "user": {
      "displayName": "柿埜百合子",
      "photoUrl": "https://lh3.googleusercontent.com/a-/AOh14GjYNYMMkw7Sbp2fJPiqjXChU1pVOvqumf0pYC9omQ=s64",
      "userId": "18278998855833844730"
     },
     "user_tz": -540
    },
    "id": "fCG9IJcjYV9e",
    "outputId": "c77b2d55-834a-46f1-c27b-c0856a4126a8"
   },
   "outputs": [
    {
     "data": {
      "image/png": "[encoded data removed]",
      "text/plain": [
       "<Figure size 432x288 with 1 Axes>"
      ]
     },
     "metadata": {},
     "output_type": "display_data"
    }
   ],
   "source": [
    "plt.plot(fpr, tpr, marker='o')\n",
    "plt.xlabel('FPR: False positive rate')\n",
    "plt.ylabel('TPR: True positive rate')\n",
    "plt.grid()\n",
    "# plt.savefig('data/dst/sklearn_roc_curve.png')"
   ]
  },
  {
   "cell_type": "code",
   "execution_count": 57,
   "metadata": {
    "colab": {
     "base_uri": "https://localhost:8080/",
     "height": 34
    },
    "executionInfo": {
     "elapsed": 1948682,
     "status": "ok",
     "timestamp": 1603542223446,
     "user": {
      "displayName": "柿埜百合子",
      "photoUrl": "https://lh3.googleusercontent.com/a-/AOh14GjYNYMMkw7Sbp2fJPiqjXChU1pVOvqumf0pYC9omQ=s64",
      "userId": "18278998855833844730"
     },
     "user_tz": -540
    },
    "id": "OSpLRBvKYbLO",
    "outputId": "202cf50f-46b2-4685-cba4-f5c85d037c2d"
   },
   "outputs": [
    {
     "name": "stdout",
     "output_type": "stream",
     "text": [
      "0.9208639444244421\n"
     ]
    }
   ],
   "source": [
    "from sklearn.metrics import roc_auc_score\n",
    "import numpy as np\n",
    "\n",
    "print(roc_auc_score(test_true, test_pred))"
   ]
  },
  {
   "cell_type": "code",
   "execution_count": null,
   "metadata": {
    "colab": {
     "base_uri": "https://localhost:8080/",
     "height": 134
    },
    "executionInfo": {
     "elapsed": 530,
     "status": "ok",
     "timestamp": 1603544231425,
     "user": {
      "displayName": "柿埜百合子",
      "photoUrl": "https://lh3.googleusercontent.com/a-/AOh14GjYNYMMkw7Sbp2fJPiqjXChU1pVOvqumf0pYC9omQ=s64",
      "userId": "18278998855833844730"
     },
     "user_tz": -540
    },
    "id": "b_vyLEzlYr39",
    "outputId": "f6af2ac5-0e27-4e1b-eb14-f06c801a441b"
   },
   "outputs": [],
   "source": [
    "# from sklearn.metrics import confusion_matrix, accuracy_score, precision_score,recall_score,f1_score\n",
    "# print('confusion matrix = \\n', confusion_matrix(y_true = test_true2, y_pred = test_pred2))\n",
    "# print('accuracy = ',accuracy_score(y_true = test_true2 , y_pred = test_pred2))\n",
    "# print('precision = ',precision_score(y_true = test_true2 , y_pred = test_pred2))\n",
    "# print('recall = ',recall_score(y_true = test_true2 , y_pred = test_pred2))\n",
    "# print('f1 score = ',f1_score(y_true = test_true2 , y_pred = test_pred2))\n",
    " "
   ]
  },
  {
   "cell_type": "code",
   "execution_count": 58,
   "metadata": {
    "colab": {
     "base_uri": "https://localhost:8080/",
     "height": 134
    },
    "executionInfo": {
     "elapsed": 436,
     "status": "ok",
     "timestamp": 1603544265439,
     "user": {
      "displayName": "柿埜百合子",
      "photoUrl": "https://lh3.googleusercontent.com/a-/AOh14GjYNYMMkw7Sbp2fJPiqjXChU1pVOvqumf0pYC9omQ=s64",
      "userId": "18278998855833844730"
     },
     "user_tz": -540
    },
    "id": "wXyiC4rtGQZX",
    "outputId": "7d8036e4-4c56-4d7e-d955-13b0e7ae38e1"
   },
   "outputs": [
    {
     "name": "stdout",
     "output_type": "stream",
     "text": [
      "confusion matrix = \n",
      " [[2218   76]\n",
      " [ 110  769]]\n",
      "accuracy =  0.9413803971005358\n",
      "precision =  0.9100591715976332\n",
      "recall =  0.8748577929465301\n",
      "f1 score =  0.8921113689095128\n"
     ]
    }
   ],
   "source": [
    "from sklearn.metrics import confusion_matrix, accuracy_score, precision_score,recall_score,f1_score\n",
    "print('confusion matrix = \\n', confusion_matrix(y_true = test_true, y_pred = test_pred))\n",
    "print('accuracy = ',accuracy_score(y_true = test_true , y_pred = test_pred))\n",
    "print('precision = ',precision_score(y_true = test_true , y_pred = test_pred))\n",
    "print('recall = ',recall_score(y_true = test_true , y_pred = test_pred))\n",
    "print('f1 score = ',f1_score(y_true = test_true , y_pred = test_pred))\n",
    " "
   ]
  },
  {
   "cell_type": "code",
   "execution_count": null,
   "metadata": {
    "id": "uM_mkn_hr7DM"
   },
   "outputs": [],
   "source": []
  }
 ],
 "metadata": {
  "accelerator": "GPU",
  "colab": {
   "authorship_tag": "ABX9TyMeeejcVN4VirrALU+yxJrN",
   "collapsed_sections": [],
   "mount_file_id": "1Fevjqm2FcUBJEMHiZUs0UiGTcyvCqY4d",
   "name": "make_model_fer2013_4.ipynb",
   "provenance": []
  },
  "kernelspec": {
   "display_name": "Python 3",
   "language": "python",
   "name": "python3"
  },
  "language_info": {
   "codemirror_mode": {
    "name": "ipython",
    "version": 3
   },
   "file_extension": ".py",
   "mimetype": "text/x-python",
   "name": "python",
   "nbconvert_exporter": "python",
   "pygments_lexer": "ipython3",
   "version": "3.7.0"
  }
 },
 "nbformat": 4,
 "nbformat_minor": 1
}
