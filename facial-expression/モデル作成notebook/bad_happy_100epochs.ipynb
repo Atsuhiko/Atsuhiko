{
 "cells": [
  {
   "cell_type": "code",
   "execution_count": 1,
   "metadata": {
    "colab": {
     "base_uri": "https://localhost:8080/",
     "height": 54
    },
    "executionInfo": {
     "elapsed": 1134,
     "status": "ok",
     "timestamp": 1603540275331,
     "user": {
      "displayName": "柿埜百合子",
      "photoUrl": "https://lh3.googleusercontent.com/a-/AOh14GjYNYMMkw7Sbp2fJPiqjXChU1pVOvqumf0pYC9omQ=s64",
      "userId": "18278998855833844730"
     },
     "user_tz": -540
    },
    "id": "t77HsOTBKkLn",
    "outputId": "0a9e90f8-7855-44ba-b9f3-9eb07e11d226",
    "scrolled": true
   },
   "outputs": [
    {
     "name": "stderr",
     "output_type": "stream",
     "text": [
      "C:\\Users\\iiats\\Anaconda3\\envs\\Python36-gpu\\lib\\site-packages\\tensorflow\\python\\framework\\dtypes.py:516: FutureWarning: Passing (type, 1) or '1type' as a synonym of type is deprecated; in a future version of numpy, it will be understood as (type, (1,)) / '(1,)type'.\n",
      "  _np_qint8 = np.dtype([(\"qint8\", np.int8, 1)])\n",
      "C:\\Users\\iiats\\Anaconda3\\envs\\Python36-gpu\\lib\\site-packages\\tensorflow\\python\\framework\\dtypes.py:517: FutureWarning: Passing (type, 1) or '1type' as a synonym of type is deprecated; in a future version of numpy, it will be understood as (type, (1,)) / '(1,)type'.\n",
      "  _np_quint8 = np.dtype([(\"quint8\", np.uint8, 1)])\n",
      "C:\\Users\\iiats\\Anaconda3\\envs\\Python36-gpu\\lib\\site-packages\\tensorflow\\python\\framework\\dtypes.py:518: FutureWarning: Passing (type, 1) or '1type' as a synonym of type is deprecated; in a future version of numpy, it will be understood as (type, (1,)) / '(1,)type'.\n",
      "  _np_qint16 = np.dtype([(\"qint16\", np.int16, 1)])\n",
      "C:\\Users\\iiats\\Anaconda3\\envs\\Python36-gpu\\lib\\site-packages\\tensorflow\\python\\framework\\dtypes.py:519: FutureWarning: Passing (type, 1) or '1type' as a synonym of type is deprecated; in a future version of numpy, it will be understood as (type, (1,)) / '(1,)type'.\n",
      "  _np_quint16 = np.dtype([(\"quint16\", np.uint16, 1)])\n",
      "C:\\Users\\iiats\\Anaconda3\\envs\\Python36-gpu\\lib\\site-packages\\tensorflow\\python\\framework\\dtypes.py:520: FutureWarning: Passing (type, 1) or '1type' as a synonym of type is deprecated; in a future version of numpy, it will be understood as (type, (1,)) / '(1,)type'.\n",
      "  _np_qint32 = np.dtype([(\"qint32\", np.int32, 1)])\n",
      "C:\\Users\\iiats\\Anaconda3\\envs\\Python36-gpu\\lib\\site-packages\\tensorflow\\python\\framework\\dtypes.py:525: FutureWarning: Passing (type, 1) or '1type' as a synonym of type is deprecated; in a future version of numpy, it will be understood as (type, (1,)) / '(1,)type'.\n",
      "  np_resource = np.dtype([(\"resource\", np.ubyte, 1)])\n",
      "C:\\Users\\iiats\\Anaconda3\\envs\\Python36-gpu\\lib\\site-packages\\tensorboard\\compat\\tensorflow_stub\\dtypes.py:541: FutureWarning: Passing (type, 1) or '1type' as a synonym of type is deprecated; in a future version of numpy, it will be understood as (type, (1,)) / '(1,)type'.\n",
      "  _np_qint8 = np.dtype([(\"qint8\", np.int8, 1)])\n",
      "C:\\Users\\iiats\\Anaconda3\\envs\\Python36-gpu\\lib\\site-packages\\tensorboard\\compat\\tensorflow_stub\\dtypes.py:542: FutureWarning: Passing (type, 1) or '1type' as a synonym of type is deprecated; in a future version of numpy, it will be understood as (type, (1,)) / '(1,)type'.\n",
      "  _np_quint8 = np.dtype([(\"quint8\", np.uint8, 1)])\n",
      "C:\\Users\\iiats\\Anaconda3\\envs\\Python36-gpu\\lib\\site-packages\\tensorboard\\compat\\tensorflow_stub\\dtypes.py:543: FutureWarning: Passing (type, 1) or '1type' as a synonym of type is deprecated; in a future version of numpy, it will be understood as (type, (1,)) / '(1,)type'.\n",
      "  _np_qint16 = np.dtype([(\"qint16\", np.int16, 1)])\n",
      "C:\\Users\\iiats\\Anaconda3\\envs\\Python36-gpu\\lib\\site-packages\\tensorboard\\compat\\tensorflow_stub\\dtypes.py:544: FutureWarning: Passing (type, 1) or '1type' as a synonym of type is deprecated; in a future version of numpy, it will be understood as (type, (1,)) / '(1,)type'.\n",
      "  _np_quint16 = np.dtype([(\"quint16\", np.uint16, 1)])\n",
      "C:\\Users\\iiats\\Anaconda3\\envs\\Python36-gpu\\lib\\site-packages\\tensorboard\\compat\\tensorflow_stub\\dtypes.py:545: FutureWarning: Passing (type, 1) or '1type' as a synonym of type is deprecated; in a future version of numpy, it will be understood as (type, (1,)) / '(1,)type'.\n",
      "  _np_qint32 = np.dtype([(\"qint32\", np.int32, 1)])\n",
      "C:\\Users\\iiats\\Anaconda3\\envs\\Python36-gpu\\lib\\site-packages\\tensorboard\\compat\\tensorflow_stub\\dtypes.py:550: FutureWarning: Passing (type, 1) or '1type' as a synonym of type is deprecated; in a future version of numpy, it will be understood as (type, (1,)) / '(1,)type'.\n",
      "  np_resource = np.dtype([(\"resource\", np.ubyte, 1)])\n",
      "Using TensorFlow backend.\n"
     ]
    },
    {
     "name": "stdout",
     "output_type": "stream",
     "text": [
      "['$Recycle.Bin', '$SysReset', 'devlist.txt', 'Documents and Settings', 'eSupport', 'Finish.log', 'hiberfil.sys', 'images', 'Intel', 'MinGW', 'OneDriveTemp', 'pagefile.sys', 'PerfLogs', 'Program Files', 'Program Files (x86)', 'ProgramData', 'Recovery', 'swapfile.sys', 'System Volume Information', 'Users', 'Windows']\n"
     ]
    }
   ],
   "source": [
    "import numpy as np # linear algebra\n",
    "import pandas as pd # data processing, CSV file I/O (e.g. pd.read_csv)\n",
    "import tensorflow.keras as keras\n",
    "\n",
    "from keras.utils import to_categorical\n",
    "from tensorflow.keras.callbacks import EarlyStopping\n",
    "from keras.models import Sequential\n",
    "from keras.layers import Dense, Dropout, Activation, Flatten\n",
    "from keras.layers import Conv2D, MaxPooling2D, BatchNormalization\n",
    "from keras.losses import categorical_crossentropy\n",
    "from sklearn.metrics import accuracy_score\n",
    "from keras.optimizers import Adam\n",
    "from keras.regularizers import l2\n",
    "from keras.preprocessing.image import ImageDataGenerator\n",
    "\n",
    "from sklearn.metrics import classification_report, confusion_matrix\n",
    "import matplotlib.pyplot as plt\n",
    "import seaborn as sns\n",
    "\n",
    "import os\n",
    "# base_dir = '/content/drive/My Drive/Colab Notebooks/facial-expression/input'\n",
    "base_dir = '/'\n",
    "print(os.listdir(base_dir))"
   ]
  },
  {
   "cell_type": "code",
   "execution_count": 2,
   "metadata": {},
   "outputs": [
    {
     "name": "stdout",
     "output_type": "stream",
     "text": [
      "3.6.10 |Anaconda, Inc.| (default, May  7 2020, 19:46:08) [MSC v.1916 64 bit (AMD64)]\n"
     ]
    }
   ],
   "source": [
    "# Pythonバージョン確認\n",
    "import sys\n",
    "print(sys.version)"
   ]
  },
  {
   "cell_type": "code",
   "execution_count": 3,
   "metadata": {
    "colab": {
     "base_uri": "https://localhost:8080/",
     "height": 34
    },
    "executionInfo": {
     "elapsed": 1675,
     "status": "ok",
     "timestamp": 1603540275882,
     "user": {
      "displayName": "柿埜百合子",
      "photoUrl": "https://lh3.googleusercontent.com/a-/AOh14GjYNYMMkw7Sbp2fJPiqjXChU1pVOvqumf0pYC9omQ=s64",
      "userId": "18278998855833844730"
     },
     "user_tz": -540
    },
    "id": "JVoFF_yOci8r",
    "outputId": "ecaf9d8c-6f7e-4c40-90b5-9aa6eb3af709"
   },
   "outputs": [
    {
     "name": "stdout",
     "output_type": "stream",
     "text": [
      "2.2.4-tf\n"
     ]
    }
   ],
   "source": [
    "# Kerasバージョン確認\n",
    "print(keras.__version__)"
   ]
  },
  {
   "cell_type": "code",
   "execution_count": 4,
   "metadata": {},
   "outputs": [
    {
     "name": "stdout",
     "output_type": "stream",
     "text": [
      "1.14.0\n"
     ]
    }
   ],
   "source": [
    "# Tensorflowバージョン確認\n",
    "import tensorflow as tf\n",
    "print(tf.__version__)"
   ]
  },
  {
   "cell_type": "code",
   "execution_count": 5,
   "metadata": {},
   "outputs": [
    {
     "data": {
      "text/plain": [
       "[name: \"/device:CPU:0\"\n",
       " device_type: \"CPU\"\n",
       " memory_limit: 268435456\n",
       " locality {\n",
       " }\n",
       " incarnation: 17037298108896368965,\n",
       " name: \"/device:GPU:0\"\n",
       " device_type: \"GPU\"\n",
       " memory_limit: 3071698534\n",
       " locality {\n",
       "   bus_id: 1\n",
       "   links {\n",
       "   }\n",
       " }\n",
       " incarnation: 2638953916183745463\n",
       " physical_device_desc: \"device: 0, name: GeForce GTX 1650 with Max-Q Design, pci bus id: 0000:02:00.0, compute capability: 7.5\"]"
      ]
     },
     "execution_count": 5,
     "metadata": {},
     "output_type": "execute_result"
    }
   ],
   "source": [
    "# Device 情報\n",
    "from tensorflow.python.client import device_lib\n",
    "device_lib.list_local_devices()"
   ]
  },
  {
   "cell_type": "code",
   "execution_count": 6,
   "metadata": {
    "colab": {
     "base_uri": "https://localhost:8080/",
     "height": 54
    },
    "executionInfo": {
     "elapsed": 1663,
     "status": "ok",
     "timestamp": 1603540275884,
     "user": {
      "displayName": "柿埜百合子",
      "photoUrl": "https://lh3.googleusercontent.com/a-/AOh14GjYNYMMkw7Sbp2fJPiqjXChU1pVOvqumf0pYC9omQ=s64",
      "userId": "18278998855833844730"
     },
     "user_tz": -540
    },
    "id": "oJ63PHXYLOHs",
    "outputId": "28631011-72d3-4834-dfdc-b0c689970776"
   },
   "outputs": [],
   "source": [
    "# # googleDriveを使えるようにする（マウントする）コード\n",
    "# from google.colab import drive\n",
    "# drive.mount('/content/drive')"
   ]
  },
  {
   "cell_type": "code",
   "execution_count": 7,
   "metadata": {
    "executionInfo": {
     "elapsed": 4407,
     "status": "ok",
     "timestamp": 1603540278635,
     "user": {
      "displayName": "柿埜百合子",
      "photoUrl": "https://lh3.googleusercontent.com/a-/AOh14GjYNYMMkw7Sbp2fJPiqjXChU1pVOvqumf0pYC9omQ=s64",
      "userId": "18278998855833844730"
     },
     "user_tz": -540
    },
    "id": "KznpHJ-LLPvJ"
   },
   "outputs": [],
   "source": [
    "#data = pd.read_csv('/content/drive/My Drive/Colab Notebooks/facial-expression/fer2013_4.csv').drop('Unnamed: 0', axis=1)"
   ]
  },
  {
   "cell_type": "code",
   "execution_count": 8,
   "metadata": {},
   "outputs": [],
   "source": [
    "data = pd.read_csv('fer2013_4.csv').drop('Unnamed: 0', axis=1)"
   ]
  },
  {
   "cell_type": "code",
   "execution_count": 9,
   "metadata": {
    "colab": {
     "base_uri": "https://localhost:8080/",
     "height": 34
    },
    "executionInfo": {
     "elapsed": 4394,
     "status": "ok",
     "timestamp": 1603540278636,
     "user": {
      "displayName": "柿埜百合子",
      "photoUrl": "https://lh3.googleusercontent.com/a-/AOh14GjYNYMMkw7Sbp2fJPiqjXChU1pVOvqumf0pYC9omQ=s64",
      "userId": "18278998855833844730"
     },
     "user_tz": -540
    },
    "id": "vcY4Wq2GLlbl",
    "outputId": "474959b5-1209-45c9-c126-8a328e365294"
   },
   "outputs": [
    {
     "data": {
      "text/plain": [
       "(31885, 3)"
      ]
     },
     "execution_count": 9,
     "metadata": {},
     "output_type": "execute_result"
    }
   ],
   "source": [
    "data.shape"
   ]
  },
  {
   "cell_type": "code",
   "execution_count": 10,
   "metadata": {
    "colab": {
     "base_uri": "https://localhost:8080/",
     "height": 195
    },
    "executionInfo": {
     "elapsed": 4385,
     "status": "ok",
     "timestamp": 1603540278636,
     "user": {
      "displayName": "柿埜百合子",
      "photoUrl": "https://lh3.googleusercontent.com/a-/AOh14GjYNYMMkw7Sbp2fJPiqjXChU1pVOvqumf0pYC9omQ=s64",
      "userId": "18278998855833844730"
     },
     "user_tz": -540
    },
    "id": "OPca6Ki1LnPH",
    "outputId": "96b8316b-e004-488a-a98c-98dc63c1b07d"
   },
   "outputs": [
    {
     "data": {
      "text/html": [
       "<div>\n",
       "<style scoped>\n",
       "    .dataframe tbody tr th:only-of-type {\n",
       "        vertical-align: middle;\n",
       "    }\n",
       "\n",
       "    .dataframe tbody tr th {\n",
       "        vertical-align: top;\n",
       "    }\n",
       "\n",
       "    .dataframe thead th {\n",
       "        text-align: right;\n",
       "    }\n",
       "</style>\n",
       "<table border=\"1\" class=\"dataframe\">\n",
       "  <thead>\n",
       "    <tr style=\"text-align: right;\">\n",
       "      <th></th>\n",
       "      <th>emotion</th>\n",
       "      <th>pixels</th>\n",
       "      <th>Usage</th>\n",
       "    </tr>\n",
       "  </thead>\n",
       "  <tbody>\n",
       "    <tr>\n",
       "      <th>0</th>\n",
       "      <td>0</td>\n",
       "      <td>70 80 82 72 58 58 60 63 54 58 60 48 89 115 121...</td>\n",
       "      <td>Training</td>\n",
       "    </tr>\n",
       "    <tr>\n",
       "      <th>1</th>\n",
       "      <td>0</td>\n",
       "      <td>151 150 147 155 148 133 111 140 170 174 182 15...</td>\n",
       "      <td>Training</td>\n",
       "    </tr>\n",
       "    <tr>\n",
       "      <th>2</th>\n",
       "      <td>0</td>\n",
       "      <td>231 212 156 164 174 138 161 173 182 200 106 38...</td>\n",
       "      <td>Training</td>\n",
       "    </tr>\n",
       "    <tr>\n",
       "      <th>3</th>\n",
       "      <td>0</td>\n",
       "      <td>24 32 36 30 32 23 19 20 30 41 21 22 32 34 21 1...</td>\n",
       "      <td>Training</td>\n",
       "    </tr>\n",
       "    <tr>\n",
       "      <th>4</th>\n",
       "      <td>0</td>\n",
       "      <td>4 0 0 0 0 0 0 0 0 0 0 0 3 15 23 28 48 50 58 84...</td>\n",
       "      <td>Training</td>\n",
       "    </tr>\n",
       "  </tbody>\n",
       "</table>\n",
       "</div>"
      ],
      "text/plain": [
       "   emotion                                             pixels     Usage\n",
       "0        0  70 80 82 72 58 58 60 63 54 58 60 48 89 115 121...  Training\n",
       "1        0  151 150 147 155 148 133 111 140 170 174 182 15...  Training\n",
       "2        0  231 212 156 164 174 138 161 173 182 200 106 38...  Training\n",
       "3        0  24 32 36 30 32 23 19 20 30 41 21 22 32 34 21 1...  Training\n",
       "4        0  4 0 0 0 0 0 0 0 0 0 0 0 3 15 23 28 48 50 58 84...  Training"
      ]
     },
     "execution_count": 10,
     "metadata": {},
     "output_type": "execute_result"
    }
   ],
   "source": [
    "data.head(5)"
   ]
  },
  {
   "cell_type": "code",
   "execution_count": 11,
   "metadata": {
    "colab": {
     "base_uri": "https://localhost:8080/",
     "height": 67
    },
    "executionInfo": {
     "elapsed": 4378,
     "status": "ok",
     "timestamp": 1603540278637,
     "user": {
      "displayName": "柿埜百合子",
      "photoUrl": "https://lh3.googleusercontent.com/a-/AOh14GjYNYMMkw7Sbp2fJPiqjXChU1pVOvqumf0pYC9omQ=s64",
      "userId": "18278998855833844730"
     },
     "user_tz": -540
    },
    "id": "jJTeYNbTLpl_",
    "outputId": "91c27e6b-6b5e-4db7-818a-660a49dbd181"
   },
   "outputs": [
    {
     "data": {
      "text/plain": [
       "0    22896\n",
       "1     8989\n",
       "Name: emotion, dtype: int64"
      ]
     },
     "execution_count": 11,
     "metadata": {},
     "output_type": "execute_result"
    }
   ],
   "source": [
    "data.emotion.value_counts()"
   ]
  },
  {
   "cell_type": "code",
   "execution_count": 12,
   "metadata": {
    "colab": {
     "base_uri": "https://localhost:8080/",
     "height": 67
    },
    "executionInfo": {
     "elapsed": 4649,
     "status": "ok",
     "timestamp": 1603540278916,
     "user": {
      "displayName": "柿埜百合子",
      "photoUrl": "https://lh3.googleusercontent.com/a-/AOh14GjYNYMMkw7Sbp2fJPiqjXChU1pVOvqumf0pYC9omQ=s64",
      "userId": "18278998855833844730"
     },
     "user_tz": -540
    },
    "id": "rSsx1fjBMIw0",
    "outputId": "2b0ec19b-eec6-4c79-b6d3-5daddc7f9da0"
   },
   "outputs": [
    {
     "name": "stdout",
     "output_type": "stream",
     "text": [
      "train shape: (25538, 3), \n",
      "validation shape: (3174, 3), \n",
      "test shape: (3173, 3)\n"
     ]
    }
   ],
   "source": [
    "data_train = data[data['Usage'] == 'Training'].copy()\n",
    "data_val = data[data['Usage'] == 'PublicTest'].copy()\n",
    "data_test = data[data['Usage'] == 'PrivateTest'].copy()\n",
    "# formatは、{}の中にformatの引数が入れられる\n",
    "print(\"train shape: {}, \\nvalidation shape: {}, \\ntest shape: {}\".format(data_train.shape, data_val.shape, data_test.shape))"
   ]
  },
  {
   "cell_type": "code",
   "execution_count": 13,
   "metadata": {
    "executionInfo": {
     "elapsed": 4642,
     "status": "ok",
     "timestamp": 1603540278917,
     "user": {
      "displayName": "柿埜百合子",
      "photoUrl": "https://lh3.googleusercontent.com/a-/AOh14GjYNYMMkw7Sbp2fJPiqjXChU1pVOvqumf0pYC9omQ=s64",
      "userId": "18278998855833844730"
     },
     "user_tz": -540
    },
    "id": "5gu8h9PgMGrN"
   },
   "outputs": [],
   "source": [
    "num_classes = 2  # 識別させるクラスの数\n",
    "width, height = 48, 48   # 画像のサイズ\n",
    "num_epochs = 100  # 「学習データをN個のサブセットに分け、それぞれ１回ずつ、学習データ全体で計N回学習させる」ということを何回繰り返し学習させるか？\n",
    "batch_size = 64  # 学習データをいくつのサブセットに分けるか？例：1000の学習データを、200データの5サブセットに分ける場合、今回の学習データに対する学習は５回行われる\n",
    "num_features = 64 "
   ]
  },
  {
   "cell_type": "code",
   "execution_count": 14,
   "metadata": {
    "colab": {
     "base_uri": "https://localhost:8080/",
     "height": 67
    },
    "executionInfo": {
     "elapsed": 24044,
     "status": "ok",
     "timestamp": 1603540298326,
     "user": {
      "displayName": "柿埜百合子",
      "photoUrl": "https://lh3.googleusercontent.com/a-/AOh14GjYNYMMkw7Sbp2fJPiqjXChU1pVOvqumf0pYC9omQ=s64",
      "userId": "18278998855833844730"
     },
     "user_tz": -540
    },
    "id": "IRA7yHSLL1Qq",
    "outputId": "e4df841c-2482-4536-c8a0-120a3e2d83cc"
   },
   "outputs": [
    {
     "name": "stdout",
     "output_type": "stream",
     "text": [
      "train _X shape: {},  train _Y shape: (25538, 48, 48, 1)\n",
      "val _X shape: {},  val _Y shape: (3174, 48, 48, 1)\n",
      "test _X shape: {},  test _Y shape: (3173, 48, 48, 1)\n"
     ]
    }
   ],
   "source": [
    "def CRNO(df, dataName):\n",
    "    df['pixels'] = df['pixels'].apply(lambda pixel_sequence: [int(pixel) for pixel in pixel_sequence.split()])\n",
    "    data_X = np.array(df['pixels'].tolist(), dtype='float32').reshape(-1,width, height,1)/255.0   \n",
    "    data_Y = to_categorical(df['emotion'], num_classes)  \n",
    "    print(dataName, \"_X shape: {}, \", dataName, \"_Y shape: {}\".format(data_X.shape, data_Y.shape))\n",
    "    return data_X, data_Y\n",
    "\n",
    "    \n",
    "train_X, train_Y = CRNO(data_train, \"train\") #training data\n",
    "val_X, val_Y     = CRNO(data_val, \"val\") #validation data\n",
    "test_X, test_Y   = CRNO(data_test, \"test\") #test data"
   ]
  },
  {
   "cell_type": "code",
   "execution_count": 15,
   "metadata": {
    "colab": {
     "base_uri": "https://localhost:8080/",
     "height": 134
    },
    "executionInfo": {
     "elapsed": 24036,
     "status": "ok",
     "timestamp": 1603540298326,
     "user": {
      "displayName": "柿埜百合子",
      "photoUrl": "https://lh3.googleusercontent.com/a-/AOh14GjYNYMMkw7Sbp2fJPiqjXChU1pVOvqumf0pYC9omQ=s64",
      "userId": "18278998855833844730"
     },
     "user_tz": -540
    },
    "id": "HQIoRbuaIQDu",
    "outputId": "fc7e1352-540c-4f44-f305-4c7762c8b055",
    "scrolled": true
   },
   "outputs": [
    {
     "data": {
      "text/plain": [
       "array([[1., 0.],\n",
       "       [1., 0.],\n",
       "       [1., 0.],\n",
       "       ...,\n",
       "       [1., 0.],\n",
       "       [1., 0.],\n",
       "       [1., 0.]], dtype=float32)"
      ]
     },
     "execution_count": 15,
     "metadata": {},
     "output_type": "execute_result"
    }
   ],
   "source": [
    "train_Y"
   ]
  },
  {
   "cell_type": "code",
   "execution_count": 16,
   "metadata": {
    "colab": {
     "base_uri": "https://localhost:8080/",
     "height": 840
    },
    "executionInfo": {
     "elapsed": 24027,
     "status": "ok",
     "timestamp": 1603540298327,
     "user": {
      "displayName": "柿埜百合子",
      "photoUrl": "https://lh3.googleusercontent.com/a-/AOh14GjYNYMMkw7Sbp2fJPiqjXChU1pVOvqumf0pYC9omQ=s64",
      "userId": "18278998855833844730"
     },
     "user_tz": -540
    },
    "id": "m7EtUNNzL43X",
    "outputId": "e9c34a94-ef46-46ec-bd54-7c652db40ba9",
    "scrolled": true
   },
   "outputs": [
    {
     "data": {
      "text/plain": [
       "array([[[0.5921569 ],\n",
       "        [0.5882353 ],\n",
       "        [0.5764706 ],\n",
       "        ...,\n",
       "        [0.5058824 ],\n",
       "        [0.54901963],\n",
       "        [0.47058824]],\n",
       "\n",
       "       [[0.5921569 ],\n",
       "        [0.58431375],\n",
       "        [0.58431375],\n",
       "        ...,\n",
       "        [0.47843137],\n",
       "        [0.5529412 ],\n",
       "        [0.5372549 ]],\n",
       "\n",
       "       [[0.5921569 ],\n",
       "        [0.5921569 ],\n",
       "        [0.6117647 ],\n",
       "        ...,\n",
       "        [0.42745098],\n",
       "        [0.48235294],\n",
       "        [0.57254905]],\n",
       "\n",
       "       ...,\n",
       "\n",
       "       [[0.7372549 ],\n",
       "        [0.7372549 ],\n",
       "        [0.4745098 ],\n",
       "        ...,\n",
       "        [0.7254902 ],\n",
       "        [0.7254902 ],\n",
       "        [0.7294118 ]],\n",
       "\n",
       "       [[0.7372549 ],\n",
       "        [0.73333335],\n",
       "        [0.76862746],\n",
       "        ...,\n",
       "        [0.7294118 ],\n",
       "        [0.7137255 ],\n",
       "        [0.73333335]],\n",
       "\n",
       "       [[0.7294118 ],\n",
       "        [0.72156864],\n",
       "        [0.7254902 ],\n",
       "        ...,\n",
       "        [0.75686276],\n",
       "        [0.7176471 ],\n",
       "        [0.72156864]]], dtype=float32)"
      ]
     },
     "execution_count": 16,
     "metadata": {},
     "output_type": "execute_result"
    }
   ],
   "source": [
    "train_X[1]"
   ]
  },
  {
   "cell_type": "code",
   "execution_count": null,
   "metadata": {
    "executionInfo": {
     "elapsed": 24015,
     "status": "ok",
     "timestamp": 1603540298327,
     "user": {
      "displayName": "柿埜百合子",
      "photoUrl": "https://lh3.googleusercontent.com/a-/AOh14GjYNYMMkw7Sbp2fJPiqjXChU1pVOvqumf0pYC9omQ=s64",
      "userId": "18278998855833844730"
     },
     "user_tz": -540
    },
    "id": "9wC9won1MVXm"
   },
   "outputs": [],
   "source": []
  },
  {
   "cell_type": "markdown",
   "metadata": {
    "id": "DizGRrNKMYkj"
   },
   "source": [
    "## モデル作成"
   ]
  },
  {
   "cell_type": "code",
   "execution_count": 17,
   "metadata": {
    "executionInfo": {
     "elapsed": 24010,
     "status": "ok",
     "timestamp": 1603540298328,
     "user": {
      "displayName": "柿埜百合子",
      "photoUrl": "https://lh3.googleusercontent.com/a-/AOh14GjYNYMMkw7Sbp2fJPiqjXChU1pVOvqumf0pYC9omQ=s64",
      "userId": "18278998855833844730"
     },
     "user_tz": -540
    },
    "id": "L_qV8m5OMbBp"
   },
   "outputs": [
    {
     "name": "stdout",
     "output_type": "stream",
     "text": [
      "WARNING:tensorflow:From C:\\Users\\iiats\\Anaconda3\\envs\\Python36-gpu\\lib\\site-packages\\keras\\backend\\tensorflow_backend.py:74: The name tf.get_default_graph is deprecated. Please use tf.compat.v1.get_default_graph instead.\n",
      "\n"
     ]
    }
   ],
   "source": [
    "model = Sequential()"
   ]
  },
  {
   "cell_type": "code",
   "execution_count": 18,
   "metadata": {
    "executionInfo": {
     "elapsed": 23994,
     "status": "ok",
     "timestamp": 1603540298328,
     "user": {
      "displayName": "柿埜百合子",
      "photoUrl": "https://lh3.googleusercontent.com/a-/AOh14GjYNYMMkw7Sbp2fJPiqjXChU1pVOvqumf0pYC9omQ=s64",
      "userId": "18278998855833844730"
     },
     "user_tz": -540
    },
    "id": "wG-UgxW5Meyi"
   },
   "outputs": [
    {
     "name": "stdout",
     "output_type": "stream",
     "text": [
      "WARNING:tensorflow:From C:\\Users\\iiats\\Anaconda3\\envs\\Python36-gpu\\lib\\site-packages\\keras\\backend\\tensorflow_backend.py:517: The name tf.placeholder is deprecated. Please use tf.compat.v1.placeholder instead.\n",
      "\n",
      "WARNING:tensorflow:From C:\\Users\\iiats\\Anaconda3\\envs\\Python36-gpu\\lib\\site-packages\\keras\\backend\\tensorflow_backend.py:4138: The name tf.random_uniform is deprecated. Please use tf.random.uniform instead.\n",
      "\n",
      "WARNING:tensorflow:From C:\\Users\\iiats\\Anaconda3\\envs\\Python36-gpu\\lib\\site-packages\\keras\\backend\\tensorflow_backend.py:174: The name tf.get_default_session is deprecated. Please use tf.compat.v1.get_default_session instead.\n",
      "\n",
      "WARNING:tensorflow:From C:\\Users\\iiats\\Anaconda3\\envs\\Python36-gpu\\lib\\site-packages\\keras\\backend\\tensorflow_backend.py:181: The name tf.ConfigProto is deprecated. Please use tf.compat.v1.ConfigProto instead.\n",
      "\n",
      "WARNING:tensorflow:From C:\\Users\\iiats\\Anaconda3\\envs\\Python36-gpu\\lib\\site-packages\\keras\\backend\\tensorflow_backend.py:1834: The name tf.nn.fused_batch_norm is deprecated. Please use tf.compat.v1.nn.fused_batch_norm instead.\n",
      "\n",
      "WARNING:tensorflow:From C:\\Users\\iiats\\Anaconda3\\envs\\Python36-gpu\\lib\\site-packages\\keras\\backend\\tensorflow_backend.py:3976: The name tf.nn.max_pool is deprecated. Please use tf.nn.max_pool2d instead.\n",
      "\n"
     ]
    }
   ],
   "source": [
    "## 畳み込み層\n",
    "model.add(Conv2D(\n",
    "        2*2*num_features, \n",
    "        kernel_size=(3,3), \n",
    "        input_shape=(width, height, 1)\n",
    "))\n",
    "model.add(BatchNormalization())\n",
    "## 活性化関数\n",
    "model.add(Activation('relu'))\n",
    "## 畳み込み層\n",
    "model.add(Conv2D(2*2*num_features, kernel_size=(3,3), padding='same'))\n",
    "model.add(BatchNormalization())\n",
    "## 活性化関数\n",
    "model.add(Activation('relu'))\n",
    "## プーリング層\n",
    "model.add(MaxPooling2D(pool_size=(2,2), strides=(2,2)))"
   ]
  },
  {
   "cell_type": "code",
   "execution_count": 19,
   "metadata": {
    "executionInfo": {
     "elapsed": 23967,
     "status": "ok",
     "timestamp": 1603540298329,
     "user": {
      "displayName": "柿埜百合子",
      "photoUrl": "https://lh3.googleusercontent.com/a-/AOh14GjYNYMMkw7Sbp2fJPiqjXChU1pVOvqumf0pYC9omQ=s64",
      "userId": "18278998855833844730"
     },
     "user_tz": -540
    },
    "id": "-IHLilMZMhDA"
   },
   "outputs": [],
   "source": [
    "model.add(Conv2D(2*num_features, kernel_size=(3, 3), padding='same'))\n",
    "model.add(BatchNormalization())\n",
    "model.add(Activation('relu'))\n",
    "model.add(Conv2D(2*num_features, kernel_size=(3, 3), padding='same'))\n",
    "model.add(BatchNormalization())\n",
    "model.add(Activation('relu'))\n",
    "model.add(MaxPooling2D(pool_size=(2, 2), strides=(2, 2)))"
   ]
  },
  {
   "cell_type": "code",
   "execution_count": 20,
   "metadata": {
    "executionInfo": {
     "elapsed": 24128,
     "status": "ok",
     "timestamp": 1603540298517,
     "user": {
      "displayName": "柿埜百合子",
      "photoUrl": "https://lh3.googleusercontent.com/a-/AOh14GjYNYMMkw7Sbp2fJPiqjXChU1pVOvqumf0pYC9omQ=s64",
      "userId": "18278998855833844730"
     },
     "user_tz": -540
    },
    "id": "1Jyjcdy7Mi2u"
   },
   "outputs": [],
   "source": [
    "model.add(Conv2D(num_features, kernel_size=(3, 3), padding='same'))\n",
    "model.add(BatchNormalization())\n",
    "model.add(Activation('relu'))\n",
    "model.add(Conv2D(num_features, kernel_size=(3, 3), padding='same'))\n",
    "model.add(BatchNormalization())\n",
    "model.add(Activation('relu'))\n",
    "model.add(MaxPooling2D(pool_size=(2, 2), strides=(2, 2)))"
   ]
  },
  {
   "cell_type": "code",
   "execution_count": 21,
   "metadata": {
    "executionInfo": {
     "elapsed": 24118,
     "status": "ok",
     "timestamp": 1603540298518,
     "user": {
      "displayName": "柿埜百合子",
      "photoUrl": "https://lh3.googleusercontent.com/a-/AOh14GjYNYMMkw7Sbp2fJPiqjXChU1pVOvqumf0pYC9omQ=s64",
      "userId": "18278998855833844730"
     },
     "user_tz": -540
    },
    "id": "C8EEUNX8MkOT"
   },
   "outputs": [],
   "source": [
    "model.add(Flatten())"
   ]
  },
  {
   "cell_type": "code",
   "execution_count": 22,
   "metadata": {
    "executionInfo": {
     "elapsed": 24102,
     "status": "ok",
     "timestamp": 1603540298519,
     "user": {
      "displayName": "柿埜百合子",
      "photoUrl": "https://lh3.googleusercontent.com/a-/AOh14GjYNYMMkw7Sbp2fJPiqjXChU1pVOvqumf0pYC9omQ=s64",
      "userId": "18278998855833844730"
     },
     "user_tz": -540
    },
    "id": "ZAUqA3xdMmui"
   },
   "outputs": [],
   "source": [
    "## dense 1\n",
    "model.add(Dense(2*2*2*num_features))\n",
    "model.add(BatchNormalization())\n",
    "model.add(Activation('relu'))\n",
    "\n",
    "#dense 2\n",
    "model.add(Dense(2*2*num_features))\n",
    "model.add(BatchNormalization())\n",
    "model.add(Activation('relu'))\n",
    "\n",
    "#dense 3\n",
    "model.add(Dense(2*num_features))\n",
    "model.add(BatchNormalization())\n",
    "model.add(Activation('relu'))"
   ]
  },
  {
   "cell_type": "code",
   "execution_count": 23,
   "metadata": {
    "executionInfo": {
     "elapsed": 24288,
     "status": "ok",
     "timestamp": 1603540298716,
     "user": {
      "displayName": "柿埜百合子",
      "photoUrl": "https://lh3.googleusercontent.com/a-/AOh14GjYNYMMkw7Sbp2fJPiqjXChU1pVOvqumf0pYC9omQ=s64",
      "userId": "18278998855833844730"
     },
     "user_tz": -540
    },
    "id": "GoZbSa-aMoZ_"
   },
   "outputs": [],
   "source": [
    "model.add(Dense(num_classes, activation='softmax'))"
   ]
  },
  {
   "cell_type": "code",
   "execution_count": 24,
   "metadata": {
    "colab": {
     "base_uri": "https://localhost:8080/",
     "height": 1000
    },
    "executionInfo": {
     "elapsed": 24284,
     "status": "ok",
     "timestamp": 1603540298718,
     "user": {
      "displayName": "柿埜百合子",
      "photoUrl": "https://lh3.googleusercontent.com/a-/AOh14GjYNYMMkw7Sbp2fJPiqjXChU1pVOvqumf0pYC9omQ=s64",
      "userId": "18278998855833844730"
     },
     "user_tz": -540
    },
    "id": "MIti1cg4MqBn",
    "outputId": "ef622516-4145-47a5-f1f4-ba3d8eb80634",
    "scrolled": true
   },
   "outputs": [
    {
     "name": "stdout",
     "output_type": "stream",
     "text": [
      "WARNING:tensorflow:From C:\\Users\\iiats\\Anaconda3\\envs\\Python36-gpu\\lib\\site-packages\\keras\\optimizers.py:790: The name tf.train.Optimizer is deprecated. Please use tf.compat.v1.train.Optimizer instead.\n",
      "\n",
      "_________________________________________________________________\n",
      "Layer (type)                 Output Shape              Param #   \n",
      "=================================================================\n",
      "conv2d_1 (Conv2D)            (None, 46, 46, 256)       2560      \n",
      "_________________________________________________________________\n",
      "batch_normalization_1 (Batch (None, 46, 46, 256)       1024      \n",
      "_________________________________________________________________\n",
      "activation_1 (Activation)    (None, 46, 46, 256)       0         \n",
      "_________________________________________________________________\n",
      "conv2d_2 (Conv2D)            (None, 46, 46, 256)       590080    \n",
      "_________________________________________________________________\n",
      "batch_normalization_2 (Batch (None, 46, 46, 256)       1024      \n",
      "_________________________________________________________________\n",
      "activation_2 (Activation)    (None, 46, 46, 256)       0         \n",
      "_________________________________________________________________\n",
      "max_pooling2d_1 (MaxPooling2 (None, 23, 23, 256)       0         \n",
      "_________________________________________________________________\n",
      "conv2d_3 (Conv2D)            (None, 23, 23, 128)       295040    \n",
      "_________________________________________________________________\n",
      "batch_normalization_3 (Batch (None, 23, 23, 128)       512       \n",
      "_________________________________________________________________\n",
      "activation_3 (Activation)    (None, 23, 23, 128)       0         \n",
      "_________________________________________________________________\n",
      "conv2d_4 (Conv2D)            (None, 23, 23, 128)       147584    \n",
      "_________________________________________________________________\n",
      "batch_normalization_4 (Batch (None, 23, 23, 128)       512       \n",
      "_________________________________________________________________\n",
      "activation_4 (Activation)    (None, 23, 23, 128)       0         \n",
      "_________________________________________________________________\n",
      "max_pooling2d_2 (MaxPooling2 (None, 11, 11, 128)       0         \n",
      "_________________________________________________________________\n",
      "conv2d_5 (Conv2D)            (None, 11, 11, 64)        73792     \n",
      "_________________________________________________________________\n",
      "batch_normalization_5 (Batch (None, 11, 11, 64)        256       \n",
      "_________________________________________________________________\n",
      "activation_5 (Activation)    (None, 11, 11, 64)        0         \n",
      "_________________________________________________________________\n",
      "conv2d_6 (Conv2D)            (None, 11, 11, 64)        36928     \n",
      "_________________________________________________________________\n",
      "batch_normalization_6 (Batch (None, 11, 11, 64)        256       \n",
      "_________________________________________________________________\n",
      "activation_6 (Activation)    (None, 11, 11, 64)        0         \n",
      "_________________________________________________________________\n",
      "max_pooling2d_3 (MaxPooling2 (None, 5, 5, 64)          0         \n",
      "_________________________________________________________________\n",
      "flatten_1 (Flatten)          (None, 1600)              0         \n",
      "_________________________________________________________________\n",
      "dense_1 (Dense)              (None, 512)               819712    \n",
      "_________________________________________________________________\n",
      "batch_normalization_7 (Batch (None, 512)               2048      \n",
      "_________________________________________________________________\n",
      "activation_7 (Activation)    (None, 512)               0         \n",
      "_________________________________________________________________\n",
      "dense_2 (Dense)              (None, 256)               131328    \n",
      "_________________________________________________________________\n",
      "batch_normalization_8 (Batch (None, 256)               1024      \n",
      "_________________________________________________________________\n",
      "activation_8 (Activation)    (None, 256)               0         \n",
      "_________________________________________________________________\n",
      "dense_3 (Dense)              (None, 128)               32896     \n",
      "_________________________________________________________________\n",
      "batch_normalization_9 (Batch (None, 128)               512       \n",
      "_________________________________________________________________\n",
      "activation_9 (Activation)    (None, 128)               0         \n",
      "_________________________________________________________________\n",
      "dense_4 (Dense)              (None, 2)                 258       \n",
      "=================================================================\n",
      "Total params: 2,137,346\n",
      "Trainable params: 2,133,762\n",
      "Non-trainable params: 3,584\n",
      "_________________________________________________________________\n"
     ]
    }
   ],
   "source": [
    "model.compile(\n",
    "    loss='categorical_crossentropy',\n",
    "    optimizer=Adam(lr=0.001, beta_1=0.9, beta_2=0.999, epsilon=1e-7), \n",
    "    metrics=['accuracy']\n",
    ")\n",
    "model.summary()"
   ]
  },
  {
   "cell_type": "code",
   "execution_count": 25,
   "metadata": {
    "executionInfo": {
     "elapsed": 24274,
     "status": "ok",
     "timestamp": 1603540298718,
     "user": {
      "displayName": "柿埜百合子",
      "photoUrl": "https://lh3.googleusercontent.com/a-/AOh14GjYNYMMkw7Sbp2fJPiqjXChU1pVOvqumf0pYC9omQ=s64",
      "userId": "18278998855833844730"
     },
     "user_tz": -540
    },
    "id": "lU-9KRN-MrZb"
   },
   "outputs": [],
   "source": [
    "# データ水増し\n",
    "data_generator = ImageDataGenerator(\n",
    "    featurewise_center=False,\n",
    "    featurewise_std_normalization=False,\n",
    "    rotation_range=10,\n",
    "    width_shift_range=0.1,\n",
    "    height_shift_range=0.1,\n",
    "    zoom_range=1,\n",
    "    horizontal_flip=True\n",
    ")"
   ]
  },
  {
   "cell_type": "code",
   "execution_count": 26,
   "metadata": {
    "executionInfo": {
     "elapsed": 24269,
     "status": "ok",
     "timestamp": 1603540298719,
     "user": {
      "displayName": "柿埜百合子",
      "photoUrl": "https://lh3.googleusercontent.com/a-/AOh14GjYNYMMkw7Sbp2fJPiqjXChU1pVOvqumf0pYC9omQ=s64",
      "userId": "18278998855833844730"
     },
     "user_tz": -540
    },
    "id": "fRxrTIS9MvLH"
   },
   "outputs": [],
   "source": [
    "# early stopping\n",
    "es = EarlyStopping(\n",
    "    monitor='val_loss',\n",
    "    patience=20,\n",
    "    mode='min',\n",
    "    restore_best_weights=True\n",
    ")"
   ]
  },
  {
   "cell_type": "code",
   "execution_count": 27,
   "metadata": {},
   "outputs": [],
   "source": [
    "# ベストモデルのみ保存する\n",
    "# https://qiita.com/tom_eng_ltd/items/7ae0814c2d133431c84a\n",
    "from keras.callbacks import ModelCheckpoint\n",
    "\n",
    "modelCheckpoint = ModelCheckpoint(filepath = 'model.h5',\n",
    "                                  monitor='val_loss',\n",
    "                                  verbose=1,\n",
    "                                  save_best_only=True, # ベストのモデルのみ保存する\n",
    "                                  save_weights_only=False,\n",
    "                                  mode='min',\n",
    "                                  period=1)"
   ]
  },
  {
   "cell_type": "code",
   "execution_count": 28,
   "metadata": {
    "colab": {
     "base_uri": "https://localhost:8080/",
     "height": 1000
    },
    "executionInfo": {
     "elapsed": 1944479,
     "status": "ok",
     "timestamp": 1603542218937,
     "user": {
      "displayName": "柿埜百合子",
      "photoUrl": "https://lh3.googleusercontent.com/a-/AOh14GjYNYMMkw7Sbp2fJPiqjXChU1pVOvqumf0pYC9omQ=s64",
      "userId": "18278998855833844730"
     },
     "user_tz": -540
    },
    "id": "Pk7vidLnMxgz",
    "outputId": "173c9252-c2b6-4edf-ff24-d1673501f192",
    "scrolled": true
   },
   "outputs": [
    {
     "name": "stdout",
     "output_type": "stream",
     "text": [
      "WARNING:tensorflow:From C:\\Users\\iiats\\Anaconda3\\envs\\Python36-gpu\\lib\\site-packages\\tensorflow\\python\\ops\\math_grad.py:1250: add_dispatch_support.<locals>.wrapper (from tensorflow.python.ops.array_ops) is deprecated and will be removed in a future version.\n",
      "Instructions for updating:\n",
      "Use tf.where in 2.0, which has the same broadcast rule as np.where\n",
      "Epoch 1/100\n",
      "400/399 [==============================] - 105s 262ms/step - loss: 0.6069 - acc: 0.7058 - val_loss: 0.5748 - val_acc: 0.7187\n",
      "\n",
      "Epoch 00001: val_loss improved from inf to 0.57480, saving model to model.h5\n",
      "Epoch 2/100\n",
      "400/399 [==============================] - 97s 242ms/step - loss: 0.5909 - acc: 0.7143 - val_loss: 0.5837 - val_acc: 0.7105\n",
      "\n",
      "Epoch 00002: val_loss did not improve from 0.57480\n",
      "Epoch 3/100\n",
      "400/399 [==============================] - 97s 243ms/step - loss: 0.5732 - acc: 0.7213 - val_loss: 0.5287 - val_acc: 0.7476\n",
      "\n",
      "Epoch 00003: val_loss improved from 0.57480 to 0.52870, saving model to model.h5\n",
      "Epoch 4/100\n",
      "400/399 [==============================] - 97s 243ms/step - loss: 0.5348 - acc: 0.7486 - val_loss: 0.4752 - val_acc: 0.8047\n",
      "\n",
      "Epoch 00004: val_loss improved from 0.52870 to 0.47518, saving model to model.h5\n",
      "Epoch 5/100\n",
      "400/399 [==============================] - 97s 243ms/step - loss: 0.4944 - acc: 0.7718 - val_loss: 0.3540 - val_acc: 0.8503\n",
      "\n",
      "Epoch 00005: val_loss improved from 0.47518 to 0.35404, saving model to model.h5\n",
      "Epoch 6/100\n",
      "400/399 [==============================] - 98s 244ms/step - loss: 0.4641 - acc: 0.7910 - val_loss: 0.3611 - val_acc: 0.8428\n",
      "\n",
      "Epoch 00006: val_loss did not improve from 0.35404\n",
      "Epoch 7/100\n",
      "400/399 [==============================] - 97s 243ms/step - loss: 0.4480 - acc: 0.7978 - val_loss: 0.4472 - val_acc: 0.8066\n",
      "\n",
      "Epoch 00007: val_loss did not improve from 0.35404\n",
      "Epoch 8/100\n",
      "400/399 [==============================] - 97s 243ms/step - loss: 0.5459 - acc: 0.7420 - val_loss: 0.3907 - val_acc: 0.8292\n",
      "\n",
      "Epoch 00008: val_loss did not improve from 0.35404\n",
      "Epoch 9/100\n",
      "400/399 [==============================] - 98s 244ms/step - loss: 0.4803 - acc: 0.7782 - val_loss: 0.3910 - val_acc: 0.8296\n",
      "\n",
      "Epoch 00009: val_loss did not improve from 0.35404\n",
      "Epoch 10/100\n",
      "400/399 [==============================] - 97s 243ms/step - loss: 0.4522 - acc: 0.7966 - val_loss: 0.3507 - val_acc: 0.8570\n",
      "\n",
      "Epoch 00010: val_loss improved from 0.35404 to 0.35070, saving model to model.h5\n",
      "Epoch 11/100\n",
      "400/399 [==============================] - 97s 243ms/step - loss: 0.4336 - acc: 0.8057 - val_loss: 0.3103 - val_acc: 0.8771\n",
      "\n",
      "Epoch 00011: val_loss improved from 0.35070 to 0.31030, saving model to model.h5\n",
      "Epoch 12/100\n",
      "400/399 [==============================] - 97s 243ms/step - loss: 0.4251 - acc: 0.8062 - val_loss: 0.3152 - val_acc: 0.8740\n",
      "\n",
      "Epoch 00012: val_loss did not improve from 0.31030\n",
      "Epoch 13/100\n",
      "400/399 [==============================] - 97s 243ms/step - loss: 0.4206 - acc: 0.8118 - val_loss: 0.3345 - val_acc: 0.8614\n",
      "\n",
      "Epoch 00013: val_loss did not improve from 0.31030\n",
      "Epoch 14/100\n",
      "400/399 [==============================] - 96s 241ms/step - loss: 0.4218 - acc: 0.8117 - val_loss: 0.2753 - val_acc: 0.8941\n",
      "\n",
      "Epoch 00014: val_loss improved from 0.31030 to 0.27528, saving model to model.h5\n",
      "Epoch 15/100\n",
      "400/399 [==============================] - 97s 241ms/step - loss: 0.4069 - acc: 0.8197 - val_loss: 0.3274 - val_acc: 0.8611\n",
      "\n",
      "Epoch 00015: val_loss did not improve from 0.27528\n",
      "Epoch 16/100\n",
      "400/399 [==============================] - 97s 242ms/step - loss: 0.4006 - acc: 0.8214 - val_loss: 0.2887 - val_acc: 0.8878\n",
      "\n",
      "Epoch 00016: val_loss did not improve from 0.27528\n",
      "Epoch 17/100\n",
      "400/399 [==============================] - 98s 245ms/step - loss: 0.3991 - acc: 0.8242 - val_loss: 0.2715 - val_acc: 0.8922\n",
      "\n",
      "Epoch 00017: val_loss improved from 0.27528 to 0.27154, saving model to model.h5\n",
      "Epoch 18/100\n",
      "400/399 [==============================] - 99s 247ms/step - loss: 0.3879 - acc: 0.8296 - val_loss: 0.2983 - val_acc: 0.8768\n",
      "\n",
      "Epoch 00018: val_loss did not improve from 0.27154\n",
      "Epoch 19/100\n",
      "400/399 [==============================] - 97s 244ms/step - loss: 0.3882 - acc: 0.8314 - val_loss: 0.2590 - val_acc: 0.8960\n",
      "\n",
      "Epoch 00019: val_loss improved from 0.27154 to 0.25902, saving model to model.h5\n",
      "Epoch 20/100\n",
      "400/399 [==============================] - 97s 242ms/step - loss: 0.3867 - acc: 0.8285 - val_loss: 0.2904 - val_acc: 0.8806\n",
      "\n",
      "Epoch 00020: val_loss did not improve from 0.25902\n",
      "Epoch 21/100\n",
      "400/399 [==============================] - 97s 242ms/step - loss: 0.3815 - acc: 0.8332 - val_loss: 0.2643 - val_acc: 0.8957\n",
      "\n",
      "Epoch 00021: val_loss did not improve from 0.25902\n",
      "Epoch 22/100\n",
      "400/399 [==============================] - 97s 243ms/step - loss: 0.3847 - acc: 0.8341 - val_loss: 0.3029 - val_acc: 0.8756\n",
      "\n",
      "Epoch 00022: val_loss did not improve from 0.25902\n",
      "Epoch 23/100\n",
      "400/399 [==============================] - 97s 243ms/step - loss: 0.3800 - acc: 0.8325 - val_loss: 0.2976 - val_acc: 0.8828\n",
      "\n",
      "Epoch 00023: val_loss did not improve from 0.25902\n",
      "Epoch 24/100\n",
      "400/399 [==============================] - 97s 244ms/step - loss: 0.3682 - acc: 0.8400 - val_loss: 0.2845 - val_acc: 0.8853\n",
      "\n",
      "Epoch 00024: val_loss did not improve from 0.25902\n",
      "Epoch 25/100\n",
      "400/399 [==============================] - 97s 242ms/step - loss: 0.3709 - acc: 0.8409 - val_loss: 0.2633 - val_acc: 0.8986\n",
      "\n",
      "Epoch 00025: val_loss did not improve from 0.25902\n",
      "Epoch 26/100\n",
      "400/399 [==============================] - 97s 242ms/step - loss: 0.3651 - acc: 0.8409 - val_loss: 0.2636 - val_acc: 0.8951\n",
      "\n",
      "Epoch 00026: val_loss did not improve from 0.25902\n",
      "Epoch 27/100\n",
      "400/399 [==============================] - 98s 244ms/step - loss: 0.3629 - acc: 0.8430 - val_loss: 0.2758 - val_acc: 0.8904\n",
      "\n",
      "Epoch 00027: val_loss did not improve from 0.25902\n",
      "Epoch 28/100\n",
      "400/399 [==============================] - 97s 243ms/step - loss: 0.3567 - acc: 0.8468 - val_loss: 0.2502 - val_acc: 0.9039\n",
      "\n",
      "Epoch 00028: val_loss improved from 0.25902 to 0.25020, saving model to model.h5\n",
      "Epoch 29/100\n",
      "400/399 [==============================] - 97s 243ms/step - loss: 0.3574 - acc: 0.8454 - val_loss: 0.2308 - val_acc: 0.9143\n",
      "\n",
      "Epoch 00029: val_loss improved from 0.25020 to 0.23083, saving model to model.h5\n",
      "Epoch 30/100\n",
      "400/399 [==============================] - 97s 242ms/step - loss: 0.3519 - acc: 0.8479 - val_loss: 0.2517 - val_acc: 0.8989\n",
      "\n",
      "Epoch 00030: val_loss did not improve from 0.23083\n",
      "Epoch 31/100\n",
      "400/399 [==============================] - 97s 242ms/step - loss: 0.3540 - acc: 0.8472 - val_loss: 0.2463 - val_acc: 0.9067\n",
      "\n",
      "Epoch 00031: val_loss did not improve from 0.23083\n",
      "Epoch 32/100\n",
      "400/399 [==============================] - 97s 243ms/step - loss: 0.3488 - acc: 0.8507 - val_loss: 0.2577 - val_acc: 0.8935\n",
      "\n",
      "Epoch 00032: val_loss did not improve from 0.23083\n",
      "Epoch 33/100\n",
      "400/399 [==============================] - 97s 243ms/step - loss: 0.3460 - acc: 0.8502 - val_loss: 0.2204 - val_acc: 0.9206\n",
      "\n",
      "Epoch 00033: val_loss improved from 0.23083 to 0.22042, saving model to model.h5\n",
      "Epoch 34/100\n",
      "400/399 [==============================] - 98s 244ms/step - loss: 0.3488 - acc: 0.8514 - val_loss: 0.2491 - val_acc: 0.9008\n",
      "\n",
      "Epoch 00034: val_loss did not improve from 0.22042\n",
      "Epoch 35/100\n",
      "400/399 [==============================] - 97s 242ms/step - loss: 0.3432 - acc: 0.8537 - val_loss: 0.2663 - val_acc: 0.8913\n",
      "\n",
      "Epoch 00035: val_loss did not improve from 0.22042\n",
      "Epoch 36/100\n",
      "400/399 [==============================] - 97s 242ms/step - loss: 0.3383 - acc: 0.8554 - val_loss: 0.2241 - val_acc: 0.9222\n",
      "\n",
      "Epoch 00036: val_loss did not improve from 0.22042\n",
      "Epoch 37/100\n",
      "400/399 [==============================] - 97s 243ms/step - loss: 0.3347 - acc: 0.8569 - val_loss: 0.2206 - val_acc: 0.9162\n",
      "\n",
      "Epoch 00037: val_loss did not improve from 0.22042\n",
      "Epoch 38/100\n",
      "400/399 [==============================] - 97s 243ms/step - loss: 0.3372 - acc: 0.8561 - val_loss: 0.2306 - val_acc: 0.9118\n",
      "\n",
      "Epoch 00038: val_loss did not improve from 0.22042\n",
      "Epoch 39/100\n",
      "400/399 [==============================] - 98s 244ms/step - loss: 0.3363 - acc: 0.8545 - val_loss: 0.2564 - val_acc: 0.8989\n",
      "\n",
      "Epoch 00039: val_loss did not improve from 0.22042\n",
      "Epoch 40/100\n",
      "400/399 [==============================] - 97s 242ms/step - loss: 0.3316 - acc: 0.8571 - val_loss: 0.2417 - val_acc: 0.9067\n"
     ]
    },
    {
     "name": "stdout",
     "output_type": "stream",
     "text": [
      "\n",
      "Epoch 00040: val_loss did not improve from 0.22042\n",
      "Epoch 41/100\n",
      "400/399 [==============================] - 97s 241ms/step - loss: 0.3505 - acc: 0.8487 - val_loss: 0.2225 - val_acc: 0.9175\n",
      "\n",
      "Epoch 00041: val_loss did not improve from 0.22042\n",
      "Epoch 42/100\n",
      "400/399 [==============================] - 97s 241ms/step - loss: 0.3368 - acc: 0.8547 - val_loss: 0.2211 - val_acc: 0.9152\n",
      "\n",
      "Epoch 00042: val_loss did not improve from 0.22042\n",
      "Epoch 43/100\n",
      "400/399 [==============================] - 97s 243ms/step - loss: 0.3334 - acc: 0.8570 - val_loss: 0.2175 - val_acc: 0.9162\n",
      "\n",
      "Epoch 00043: val_loss improved from 0.22042 to 0.21754, saving model to model.h5\n",
      "Epoch 44/100\n",
      "400/399 [==============================] - 97s 243ms/step - loss: 0.3323 - acc: 0.8579 - val_loss: 0.2312 - val_acc: 0.9127\n",
      "\n",
      "Epoch 00044: val_loss did not improve from 0.21754\n",
      "Epoch 45/100\n",
      "400/399 [==============================] - 97s 243ms/step - loss: 0.3289 - acc: 0.8609 - val_loss: 0.2286 - val_acc: 0.9146\n",
      "\n",
      "Epoch 00045: val_loss did not improve from 0.21754\n",
      "Epoch 46/100\n",
      "400/399 [==============================] - 96s 241ms/step - loss: 0.3238 - acc: 0.8612 - val_loss: 0.2107 - val_acc: 0.9175\n",
      "\n",
      "Epoch 00046: val_loss improved from 0.21754 to 0.21066, saving model to model.h5\n",
      "Epoch 47/100\n",
      "400/399 [==============================] - 97s 242ms/step - loss: 0.3247 - acc: 0.8612 - val_loss: 0.2119 - val_acc: 0.9168\n",
      "\n",
      "Epoch 00047: val_loss did not improve from 0.21066\n",
      "Epoch 48/100\n",
      "400/399 [==============================] - 98s 244ms/step - loss: 0.3242 - acc: 0.8609 - val_loss: 0.2223 - val_acc: 0.9102\n",
      "\n",
      "Epoch 00048: val_loss did not improve from 0.21066\n",
      "Epoch 49/100\n",
      "400/399 [==============================] - 97s 242ms/step - loss: 0.3239 - acc: 0.8615 - val_loss: 0.2389 - val_acc: 0.9058\n",
      "\n",
      "Epoch 00049: val_loss did not improve from 0.21066\n",
      "Epoch 50/100\n",
      "400/399 [==============================] - 97s 243ms/step - loss: 0.3190 - acc: 0.8634 - val_loss: 0.2215 - val_acc: 0.9190\n",
      "\n",
      "Epoch 00050: val_loss did not improve from 0.21066\n",
      "Epoch 51/100\n",
      "400/399 [==============================] - 96s 241ms/step - loss: 0.3159 - acc: 0.8663 - val_loss: 0.2301 - val_acc: 0.9099\n",
      "\n",
      "Epoch 00051: val_loss did not improve from 0.21066\n",
      "Epoch 52/100\n",
      "400/399 [==============================] - 97s 241ms/step - loss: 0.3135 - acc: 0.8669 - val_loss: 0.2078 - val_acc: 0.9206\n",
      "\n",
      "Epoch 00052: val_loss improved from 0.21066 to 0.20782, saving model to model.h5\n",
      "Epoch 53/100\n",
      "400/399 [==============================] - 98s 244ms/step - loss: 0.3220 - acc: 0.8649 - val_loss: 0.2481 - val_acc: 0.9064\n",
      "\n",
      "Epoch 00053: val_loss did not improve from 0.20782\n",
      "Epoch 54/100\n",
      "400/399 [==============================] - 97s 243ms/step - loss: 0.3162 - acc: 0.8651 - val_loss: 0.2082 - val_acc: 0.9228\n",
      "\n",
      "Epoch 00054: val_loss did not improve from 0.20782\n",
      "Epoch 55/100\n",
      "400/399 [==============================] - 97s 243ms/step - loss: 0.3119 - acc: 0.8680 - val_loss: 0.2066 - val_acc: 0.9228\n",
      "\n",
      "Epoch 00055: val_loss improved from 0.20782 to 0.20661, saving model to model.h5\n",
      "Epoch 56/100\n",
      "400/399 [==============================] - 97s 242ms/step - loss: 0.3104 - acc: 0.8666 - val_loss: 0.2050 - val_acc: 0.9231\n",
      "\n",
      "Epoch 00056: val_loss improved from 0.20661 to 0.20501, saving model to model.h5\n",
      "Epoch 57/100\n",
      "400/399 [==============================] - 97s 242ms/step - loss: 0.3172 - acc: 0.8663 - val_loss: 0.2678 - val_acc: 0.8932\n",
      "\n",
      "Epoch 00057: val_loss did not improve from 0.20501\n",
      "Epoch 58/100\n",
      "400/399 [==============================] - 97s 242ms/step - loss: 0.3152 - acc: 0.8650 - val_loss: 0.2156 - val_acc: 0.9152\n",
      "\n",
      "Epoch 00058: val_loss did not improve from 0.20501\n",
      "Epoch 59/100\n",
      "400/399 [==============================] - 97s 243ms/step - loss: 0.3079 - acc: 0.8694 - val_loss: 0.2136 - val_acc: 0.9193\n",
      "\n",
      "Epoch 00059: val_loss did not improve from 0.20501\n",
      "Epoch 60/100\n",
      "400/399 [==============================] - 97s 243ms/step - loss: 0.3123 - acc: 0.8685 - val_loss: 0.2054 - val_acc: 0.9231\n",
      "\n",
      "Epoch 00060: val_loss did not improve from 0.20501\n",
      "Epoch 61/100\n",
      "400/399 [==============================] - 97s 242ms/step - loss: 0.3367 - acc: 0.8583 - val_loss: 0.2120 - val_acc: 0.9181\n",
      "\n",
      "Epoch 00061: val_loss did not improve from 0.20501\n",
      "Epoch 62/100\n",
      "400/399 [==============================] - 96s 241ms/step - loss: 0.3118 - acc: 0.8672 - val_loss: 0.2040 - val_acc: 0.9247\n",
      "\n",
      "Epoch 00062: val_loss improved from 0.20501 to 0.20404, saving model to model.h5\n",
      "Epoch 63/100\n",
      "400/399 [==============================] - 97s 242ms/step - loss: 0.3083 - acc: 0.8695 - val_loss: 0.2175 - val_acc: 0.9178\n",
      "\n",
      "Epoch 00063: val_loss did not improve from 0.20404\n",
      "Epoch 64/100\n",
      "400/399 [==============================] - 97s 243ms/step - loss: 0.3040 - acc: 0.8693 - val_loss: 0.2027 - val_acc: 0.9250\n",
      "\n",
      "Epoch 00064: val_loss improved from 0.20404 to 0.20268, saving model to model.h5\n",
      "Epoch 65/100\n",
      "400/399 [==============================] - 97s 243ms/step - loss: 0.3015 - acc: 0.8711 - val_loss: 0.1948 - val_acc: 0.9282\n",
      "\n",
      "Epoch 00065: val_loss improved from 0.20268 to 0.19481, saving model to model.h5\n",
      "Epoch 66/100\n",
      "400/399 [==============================] - 97s 243ms/step - loss: 0.3056 - acc: 0.8677 - val_loss: 0.2015 - val_acc: 0.9282\n",
      "\n",
      "Epoch 00066: val_loss did not improve from 0.19481\n",
      "Epoch 67/100\n",
      "400/399 [==============================] - 96s 241ms/step - loss: 0.3001 - acc: 0.8720 - val_loss: 0.2177 - val_acc: 0.9234\n",
      "\n",
      "Epoch 00067: val_loss did not improve from 0.19481\n",
      "Epoch 68/100\n",
      "400/399 [==============================] - 97s 242ms/step - loss: 0.3034 - acc: 0.8712 - val_loss: 0.1928 - val_acc: 0.9307\n",
      "\n",
      "Epoch 00068: val_loss improved from 0.19481 to 0.19277, saving model to model.h5\n",
      "Epoch 69/100\n",
      "400/399 [==============================] - 97s 243ms/step - loss: 0.3020 - acc: 0.8709 - val_loss: 0.2106 - val_acc: 0.9247\n",
      "\n",
      "Epoch 00069: val_loss did not improve from 0.19277\n",
      "Epoch 70/100\n",
      "400/399 [==============================] - 97s 242ms/step - loss: 0.2986 - acc: 0.8740 - val_loss: 0.2188 - val_acc: 0.9200\n",
      "\n",
      "Epoch 00070: val_loss did not improve from 0.19277\n",
      "Epoch 71/100\n",
      "400/399 [==============================] - 97s 242ms/step - loss: 0.2987 - acc: 0.8741 - val_loss: 0.2072 - val_acc: 0.9260\n",
      "\n",
      "Epoch 00071: val_loss did not improve from 0.19277\n",
      "Epoch 72/100\n",
      "400/399 [==============================] - 96s 241ms/step - loss: 0.2977 - acc: 0.8754 - val_loss: 0.2095 - val_acc: 0.9250\n",
      "\n",
      "Epoch 00072: val_loss did not improve from 0.19277\n",
      "Epoch 73/100\n",
      "400/399 [==============================] - 97s 241ms/step - loss: 0.2997 - acc: 0.8724 - val_loss: 0.1995 - val_acc: 0.9272\n",
      "\n",
      "Epoch 00073: val_loss did not improve from 0.19277\n",
      "Epoch 74/100\n",
      "400/399 [==============================] - 97s 243ms/step - loss: 0.2984 - acc: 0.8743 - val_loss: 0.2134 - val_acc: 0.9225\n",
      "\n",
      "Epoch 00074: val_loss did not improve from 0.19277\n",
      "Epoch 75/100\n",
      "400/399 [==============================] - 97s 242ms/step - loss: 0.2997 - acc: 0.8726 - val_loss: 0.2210 - val_acc: 0.9159\n",
      "\n",
      "Epoch 00075: val_loss did not improve from 0.19277\n",
      "Epoch 76/100\n",
      "400/399 [==============================] - 97s 242ms/step - loss: 0.2961 - acc: 0.8748 - val_loss: 0.2428 - val_acc: 0.9064\n",
      "\n",
      "Epoch 00076: val_loss did not improve from 0.19277\n",
      "Epoch 77/100\n",
      "400/399 [==============================] - 96s 241ms/step - loss: 0.2973 - acc: 0.8729 - val_loss: 0.2023 - val_acc: 0.9222\n",
      "\n",
      "Epoch 00077: val_loss did not improve from 0.19277\n",
      "Epoch 78/100\n",
      "400/399 [==============================] - 97s 242ms/step - loss: 0.2967 - acc: 0.8764 - val_loss: 0.1938 - val_acc: 0.9250\n",
      "\n",
      "Epoch 00078: val_loss did not improve from 0.19277\n",
      "Epoch 79/100\n",
      "400/399 [==============================] - 97s 243ms/step - loss: 0.2901 - acc: 0.8755 - val_loss: 0.1989 - val_acc: 0.9266\n",
      "\n",
      "Epoch 00079: val_loss did not improve from 0.19277\n",
      "Epoch 80/100\n",
      "400/399 [==============================] - 97s 242ms/step - loss: 0.2936 - acc: 0.8773 - val_loss: 0.2020 - val_acc: 0.9244\n",
      "\n",
      "Epoch 00080: val_loss did not improve from 0.19277\n",
      "Epoch 81/100\n",
      "400/399 [==============================] - 97s 242ms/step - loss: 0.2922 - acc: 0.8775 - val_loss: 0.2138 - val_acc: 0.9231\n",
      "\n",
      "Epoch 00081: val_loss did not improve from 0.19277\n",
      "Epoch 82/100\n",
      "400/399 [==============================] - 96s 241ms/step - loss: 0.2961 - acc: 0.8761 - val_loss: 0.1967 - val_acc: 0.9272\n"
     ]
    },
    {
     "name": "stdout",
     "output_type": "stream",
     "text": [
      "\n",
      "Epoch 00082: val_loss did not improve from 0.19277\n",
      "Epoch 83/100\n",
      "400/399 [==============================] - 96s 241ms/step - loss: 0.2892 - acc: 0.8775 - val_loss: 0.2092 - val_acc: 0.9250\n",
      "\n",
      "Epoch 00083: val_loss did not improve from 0.19277\n",
      "Epoch 84/100\n",
      "400/399 [==============================] - 97s 242ms/step - loss: 0.2929 - acc: 0.8777 - val_loss: 0.2093 - val_acc: 0.9197\n",
      "\n",
      "Epoch 00084: val_loss did not improve from 0.19277\n",
      "Epoch 85/100\n",
      "400/399 [==============================] - 97s 242ms/step - loss: 0.2908 - acc: 0.8761 - val_loss: 0.2048 - val_acc: 0.9253\n",
      "\n",
      "Epoch 00085: val_loss did not improve from 0.19277\n",
      "Epoch 86/100\n",
      "400/399 [==============================] - 97s 243ms/step - loss: 0.3275 - acc: 0.8600 - val_loss: 0.2231 - val_acc: 0.9152\n",
      "\n",
      "Epoch 00086: val_loss did not improve from 0.19277\n",
      "Epoch 87/100\n",
      "400/399 [==============================] - 96s 241ms/step - loss: 0.2976 - acc: 0.8738 - val_loss: 0.2006 - val_acc: 0.9250\n",
      "\n",
      "Epoch 00087: val_loss did not improve from 0.19277\n",
      "Epoch 88/100\n",
      "400/399 [==============================] - 96s 241ms/step - loss: 0.2915 - acc: 0.8761 - val_loss: 0.2035 - val_acc: 0.9241\n",
      "\n",
      "Epoch 00088: val_loss did not improve from 0.19277\n"
     ]
    }
   ],
   "source": [
    "\n",
    "history = model.fit_generator(\n",
    "    data_generator.flow(train_X, train_Y, batch_size),\n",
    "    steps_per_epoch=len(train_X)/batch_size,\n",
    "    epochs=num_epochs,\n",
    "    verbose=1,\n",
    "    callbacks=[es, modelCheckpoint], # 書き換え\n",
    "    validation_data=(val_X, val_Y)\n",
    ")\n"
   ]
  },
  {
   "cell_type": "code",
   "execution_count": 29,
   "metadata": {
    "executionInfo": {
     "elapsed": 1944475,
     "status": "ok",
     "timestamp": 1603542218941,
     "user": {
      "displayName": "柿埜百合子",
      "photoUrl": "https://lh3.googleusercontent.com/a-/AOh14GjYNYMMkw7Sbp2fJPiqjXChU1pVOvqumf0pYC9omQ=s64",
      "userId": "18278998855833844730"
     },
     "user_tz": -540
    },
    "id": "4rMaHCBV0z0i"
   },
   "outputs": [],
   "source": [
    "# 学習プロセスのプロット用関数\n",
    "\n",
    "def Learning_Process_Plot(hist):\n",
    "    acc = hist.history['acc'] # tf2.x: accuracy\n",
    "    val_acc = hist.history['val_acc'] # tf2.x: val_accuracy\n",
    "    loss = hist.history['loss']\n",
    "    val_loss = hist.history['val_loss']\n",
    "\n",
    "    epochs = range(len(acc))\n",
    "\n",
    "    plt.plot(epochs, acc, label='Training acc', ls=\"-\", marker=\"o\")\n",
    "    plt.plot(epochs, val_acc, label='Validation acc', ls=\"-\", marker=\"x\")\n",
    "    plt.title('Training and validation accuracy')\n",
    "    plt.ylabel(\"accuracy\")\n",
    "    plt.xlabel(\"epoch\")\n",
    "    plt.legend(loc=\"best\")\n",
    "\n",
    "    plt.figure()\n",
    "\n",
    "    plt.plot(epochs, loss, label='Training loss', ls=\"-\", marker=\"o\")\n",
    "    plt.plot(epochs, val_loss, label='Validation loss', ls=\"-\", marker=\"x\")\n",
    "    plt.title('Training and validation loss')\n",
    "    plt.ylabel(\"loss\")\n",
    "    plt.xlabel(\"epoch\")\n",
    "    plt.legend(loc=\"best\")\n",
    "\n",
    "    plt.show()"
   ]
  },
  {
   "cell_type": "code",
   "execution_count": 30,
   "metadata": {},
   "outputs": [
    {
     "data": {
      "image/png": "[encoded data removed]",
      "text/plain": [
       "<Figure size 432x288 with 1 Axes>"
      ]
     },
     "metadata": {
      "needs_background": "light"
     },
     "output_type": "display_data"
    },
    {
     "data": {
      "image/png": "[encoded data removed]",
      "text/plain": [
       "<Figure size 432x288 with 1 Axes>"
      ]
     },
     "metadata": {
      "needs_background": "light"
     },
     "output_type": "display_data"
    }
   ],
   "source": [
    "# 学習プロセスのプロット\n",
    "Learning_Process_Plot(history)"
   ]
  },
  {
   "cell_type": "code",
   "execution_count": 31,
   "metadata": {
    "colab": {
     "base_uri": "https://localhost:8080/",
     "height": 34
    },
    "executionInfo": {
     "elapsed": 1946560,
     "status": "ok",
     "timestamp": 1603542221036,
     "user": {
      "displayName": "柿埜百合子",
      "photoUrl": "https://lh3.googleusercontent.com/a-/AOh14GjYNYMMkw7Sbp2fJPiqjXChU1pVOvqumf0pYC9omQ=s64",
      "userId": "18278998855833844730"
     },
     "user_tz": -540
    },
    "id": "u8ableW-cvsL",
    "outputId": "af450588-7ba0-440b-e419-8d4d0462ba32"
   },
   "outputs": [
    {
     "name": "stdout",
     "output_type": "stream",
     "text": [
      "CNN Model Accuracy on test set: 0.9420\n"
     ]
    }
   ],
   "source": [
    "test_true = np.argmax(test_Y, axis=1)\n",
    "test_pred = np.argmax(model.predict(test_X), axis=1)\n",
    "print(\"CNN Model Accuracy on test set: {:.4f}\".format(accuracy_score(test_true, test_pred)))"
   ]
  },
  {
   "cell_type": "code",
   "execution_count": 32,
   "metadata": {
    "colab": {
     "base_uri": "https://localhost:8080/",
     "height": 34
    },
    "executionInfo": {
     "elapsed": 1946552,
     "status": "ok",
     "timestamp": 1603542221037,
     "user": {
      "displayName": "柿埜百合子",
      "photoUrl": "https://lh3.googleusercontent.com/a-/AOh14GjYNYMMkw7Sbp2fJPiqjXChU1pVOvqumf0pYC9omQ=s64",
      "userId": "18278998855833844730"
     },
     "user_tz": -540
    },
    "id": "jBHS0iY8H4v9",
    "outputId": "a9dca26d-b402-4570-dc5c-c4584b5c4ec5"
   },
   "outputs": [
    {
     "data": {
      "text/plain": [
       "array([0, 0, 0, ..., 0, 1, 0], dtype=int64)"
      ]
     },
     "execution_count": 32,
     "metadata": {},
     "output_type": "execute_result"
    }
   ],
   "source": [
    "test_true"
   ]
  },
  {
   "cell_type": "code",
   "execution_count": 33,
   "metadata": {
    "colab": {
     "base_uri": "https://localhost:8080/",
     "height": 34
    },
    "executionInfo": {
     "elapsed": 1946546,
     "status": "ok",
     "timestamp": 1603542221037,
     "user": {
      "displayName": "柿埜百合子",
      "photoUrl": "https://lh3.googleusercontent.com/a-/AOh14GjYNYMMkw7Sbp2fJPiqjXChU1pVOvqumf0pYC9omQ=s64",
      "userId": "18278998855833844730"
     },
     "user_tz": -540
    },
    "id": "sTUZPYHpH7Oq",
    "outputId": "a0e81b60-5476-402f-d065-1ef5c976c285"
   },
   "outputs": [
    {
     "data": {
      "text/plain": [
       "array([0, 0, 0, ..., 0, 1, 0], dtype=int64)"
      ]
     },
     "execution_count": 33,
     "metadata": {},
     "output_type": "execute_result"
    }
   ],
   "source": [
    "test_pred"
   ]
  },
  {
   "cell_type": "code",
   "execution_count": 34,
   "metadata": {
    "executionInfo": {
     "elapsed": 1946537,
     "status": "ok",
     "timestamp": 1603542221038,
     "user": {
      "displayName": "柿埜百合子",
      "photoUrl": "https://lh3.googleusercontent.com/a-/AOh14GjYNYMMkw7Sbp2fJPiqjXChU1pVOvqumf0pYC9omQ=s64",
      "userId": "18278998855833844730"
     },
     "user_tz": -540
    },
    "id": "UlzGB6-3djoT"
   },
   "outputs": [],
   "source": [
    "#model.save(\"drive/My Drive/Colab Notebooks/facial-expression/2020-10-24-MrIi-fer2013_4.h5\")"
   ]
  },
  {
   "cell_type": "code",
   "execution_count": 35,
   "metadata": {
    "executionInfo": {
     "elapsed": 12790,
     "status": "ok",
     "timestamp": 1603543198471,
     "user": {
      "displayName": "柿埜百合子",
      "photoUrl": "https://lh3.googleusercontent.com/a-/AOh14GjYNYMMkw7Sbp2fJPiqjXChU1pVOvqumf0pYC9omQ=s64",
      "userId": "18278998855833844730"
     },
     "user_tz": -540
    },
    "id": "rEW5JY_xsFON"
   },
   "outputs": [],
   "source": [
    "# 保存したモデルをロード\n",
    "from tensorflow.keras.models import load_model\n",
    "# saved_model = load_model('/content/drive/My Drive/Colab Notebooks/facial-expression/2020-10-09-MrIi-fer2013_4.h5')\n",
    "# saved_model2 = load_model('/content/drive/My Drive/Colab Notebooks/facial-expression/2020-10-24-MrIi-fer2013_4.h5')\n",
    "saved_model = load_model('model.h5')"
   ]
  },
  {
   "cell_type": "code",
   "execution_count": null,
   "metadata": {
    "id": "uB46TqGeoDti"
   },
   "outputs": [],
   "source": []
  },
  {
   "cell_type": "code",
   "execution_count": 36,
   "metadata": {
    "colab": {
     "base_uri": "https://localhost:8080/",
     "height": 34
    },
    "executionInfo": {
     "elapsed": 1996,
     "status": "ok",
     "timestamp": 1603543744537,
     "user": {
      "displayName": "柿埜百合子",
      "photoUrl": "https://lh3.googleusercontent.com/a-/AOh14GjYNYMMkw7Sbp2fJPiqjXChU1pVOvqumf0pYC9omQ=s64",
      "userId": "18278998855833844730"
     },
     "user_tz": -540
    },
    "id": "PbEhbX9Jbi73",
    "outputId": "c1f279a8-d2c8-4e90-bcaf-fe16becca29a"
   },
   "outputs": [
    {
     "name": "stdout",
     "output_type": "stream",
     "text": [
      "model ver 1 CNN Model Accuracy on test set: 0.9420\n"
     ]
    }
   ],
   "source": [
    "# 保存したモデルの確認としてテストデータで判別させる\n",
    "test_true = np.argmax(test_Y, axis=1)\n",
    "test_pred = np.argmax(saved_model.predict(test_X), axis=1)\n",
    "print(\"model ver 1 CNN Model Accuracy on test set: {:.4f}\".format(accuracy_score(test_true, test_pred)))"
   ]
  },
  {
   "cell_type": "code",
   "execution_count": 37,
   "metadata": {
    "colab": {
     "base_uri": "https://localhost:8080/",
     "height": 34
    },
    "executionInfo": {
     "elapsed": 3082,
     "status": "ok",
     "timestamp": 1603543745899,
     "user": {
      "displayName": "柿埜百合子",
      "photoUrl": "https://lh3.googleusercontent.com/a-/AOh14GjYNYMMkw7Sbp2fJPiqjXChU1pVOvqumf0pYC9omQ=s64",
      "userId": "18278998855833844730"
     },
     "user_tz": -540
    },
    "id": "WgZvTi_hp6zC",
    "outputId": "4f2c7cd1-6d42-4a24-8828-f552831c257c"
   },
   "outputs": [],
   "source": [
    "# # 保存したモデルの確認としてテストデータで判別させる\n",
    "# test_true2 = np.argmax(test_Y, axis=1)\n",
    "# test_pred2 = np.argmax(saved_model2.predict(test_X), axis=1)\n",
    "# print(\"model ver 2CNN Model Accuracy on test set: {:.4f}\".format(accuracy_score(test_true2, test_pred2)))"
   ]
  },
  {
   "cell_type": "code",
   "execution_count": 38,
   "metadata": {
    "colab": {
     "base_uri": "https://localhost:8080/",
     "height": 34
    },
    "executionInfo": {
     "elapsed": 1948573,
     "status": "ok",
     "timestamp": 1603542223116,
     "user": {
      "displayName": "柿埜百合子",
      "photoUrl": "https://lh3.googleusercontent.com/a-/AOh14GjYNYMMkw7Sbp2fJPiqjXChU1pVOvqumf0pYC9omQ=s64",
      "userId": "18278998855833844730"
     },
     "user_tz": -540
    },
    "id": "VHOv2pa6qFc7",
    "outputId": "7d1ed932-9f56-408c-8d38-8e3a6848b688"
   },
   "outputs": [
    {
     "name": "stdout",
     "output_type": "stream",
     "text": [
      "[0 0 0 ... 0 1 0]\n"
     ]
    }
   ],
   "source": [
    "print(test_true)"
   ]
  },
  {
   "cell_type": "code",
   "execution_count": 39,
   "metadata": {
    "colab": {
     "base_uri": "https://localhost:8080/",
     "height": 34
    },
    "executionInfo": {
     "elapsed": 553,
     "status": "ok",
     "timestamp": 1603543785384,
     "user": {
      "displayName": "柿埜百合子",
      "photoUrl": "https://lh3.googleusercontent.com/a-/AOh14GjYNYMMkw7Sbp2fJPiqjXChU1pVOvqumf0pYC9omQ=s64",
      "userId": "18278998855833844730"
     },
     "user_tz": -540
    },
    "id": "weJBVTETqBg3",
    "outputId": "12383124-cf21-4758-88b7-d021e7fda038"
   },
   "outputs": [],
   "source": [
    "# print(test_true2)"
   ]
  },
  {
   "cell_type": "code",
   "execution_count": 40,
   "metadata": {
    "colab": {
     "base_uri": "https://localhost:8080/",
     "height": 34
    },
    "executionInfo": {
     "elapsed": 1948566,
     "status": "ok",
     "timestamp": 1603542223117,
     "user": {
      "displayName": "柿埜百合子",
      "photoUrl": "https://lh3.googleusercontent.com/a-/AOh14GjYNYMMkw7Sbp2fJPiqjXChU1pVOvqumf0pYC9omQ=s64",
      "userId": "18278998855833844730"
     },
     "user_tz": -540
    },
    "id": "Hhfgcw6JqGt4",
    "outputId": "d848ba9b-e623-4d67-bf26-a8aef1aa9872"
   },
   "outputs": [
    {
     "name": "stdout",
     "output_type": "stream",
     "text": [
      "[0 1]\n"
     ]
    }
   ],
   "source": [
    "#u_true, counts_true = np.unique(test_true, return_counts=True)\n",
    "#print(u_true)"
   ]
  },
  {
   "cell_type": "code",
   "execution_count": 41,
   "metadata": {
    "colab": {
     "base_uri": "https://localhost:8080/",
     "height": 34
    },
    "executionInfo": {
     "elapsed": 1948555,
     "status": "ok",
     "timestamp": 1603542223117,
     "user": {
      "displayName": "柿埜百合子",
      "photoUrl": "https://lh3.googleusercontent.com/a-/AOh14GjYNYMMkw7Sbp2fJPiqjXChU1pVOvqumf0pYC9omQ=s64",
      "userId": "18278998855833844730"
     },
     "user_tz": -540
    },
    "id": "NVVEhINxtAWp",
    "outputId": "16990af0-b3e2-4f57-a64e-8a594e15608d"
   },
   "outputs": [
    {
     "name": "stdout",
     "output_type": "stream",
     "text": [
      "[2294  879]\n"
     ]
    }
   ],
   "source": [
    "#print(counts_true)"
   ]
  },
  {
   "cell_type": "code",
   "execution_count": 42,
   "metadata": {
    "colab": {
     "base_uri": "https://localhost:8080/",
     "height": 34
    },
    "executionInfo": {
     "elapsed": 1948543,
     "status": "ok",
     "timestamp": 1603542223118,
     "user": {
      "displayName": "柿埜百合子",
      "photoUrl": "https://lh3.googleusercontent.com/a-/AOh14GjYNYMMkw7Sbp2fJPiqjXChU1pVOvqumf0pYC9omQ=s64",
      "userId": "18278998855833844730"
     },
     "user_tz": -540
    },
    "id": "C22PuqOdtBUU",
    "outputId": "55a8b49e-398b-4db5-b795-17ae07716e21"
   },
   "outputs": [
    {
     "name": "stdout",
     "output_type": "stream",
     "text": [
      "[0 1]\n"
     ]
    }
   ],
   "source": [
    "#u_pred, counts_pred = np.unique(test_pred, return_counts=True)\n",
    "#print(u_pred)"
   ]
  },
  {
   "cell_type": "code",
   "execution_count": 43,
   "metadata": {
    "colab": {
     "base_uri": "https://localhost:8080/",
     "height": 34
    },
    "executionInfo": {
     "elapsed": 1948530,
     "status": "ok",
     "timestamp": 1603542223119,
     "user": {
      "displayName": "柿埜百合子",
      "photoUrl": "https://lh3.googleusercontent.com/a-/AOh14GjYNYMMkw7Sbp2fJPiqjXChU1pVOvqumf0pYC9omQ=s64",
      "userId": "18278998855833844730"
     },
     "user_tz": -540
    },
    "id": "8J3dZb3-tOhY",
    "outputId": "030fc11c-9fc1-48c4-c31a-263dcb9593bf"
   },
   "outputs": [
    {
     "name": "stdout",
     "output_type": "stream",
     "text": [
      "[2300  873]\n"
     ]
    }
   ],
   "source": [
    "#print(counts_pred)"
   ]
  },
  {
   "cell_type": "code",
   "execution_count": 44,
   "metadata": {
    "colab": {
     "base_uri": "https://localhost:8080/",
     "height": 50
    },
    "executionInfo": {
     "elapsed": 1948489,
     "status": "ok",
     "timestamp": 1603542223120,
     "user": {
      "displayName": "柿埜百合子",
      "photoUrl": "https://lh3.googleusercontent.com/a-/AOh14GjYNYMMkw7Sbp2fJPiqjXChU1pVOvqumf0pYC9omQ=s64",
      "userId": "18278998855833844730"
     },
     "user_tz": -540
    },
    "id": "HYWgMSP5tQD8",
    "outputId": "9d321da1-b067-4716-bf55-495377bd14b6"
   },
   "outputs": [
    {
     "name": "stdout",
     "output_type": "stream",
     "text": [
      "[0 0 0 ... 0 1 0]\n",
      "2294\n"
     ]
    }
   ],
   "source": [
    "\"\"\"print(test_true)\n",
    "test_true_bad  = np.count_nonzero(test_true == 0)\n",
    "test_true_sad  = np.count_nonzero(test_true == 1)\n",
    "test_true_happy  = np.count_nonzero(test_true == 2)\n",
    "test_true_surprise  = np.count_nonzero(test_true == 3)\n",
    "print(test_true_bad)\n",
    "\"\"\""
   ]
  },
  {
   "cell_type": "code",
   "execution_count": 45,
   "metadata": {
    "colab": {
     "base_uri": "https://localhost:8080/",
     "height": 50
    },
    "executionInfo": {
     "elapsed": 1948459,
     "status": "ok",
     "timestamp": 1603542223121,
     "user": {
      "displayName": "柿埜百合子",
      "photoUrl": "https://lh3.googleusercontent.com/a-/AOh14GjYNYMMkw7Sbp2fJPiqjXChU1pVOvqumf0pYC9omQ=s64",
      "userId": "18278998855833844730"
     },
     "user_tz": -540
    },
    "id": "gixsCpuDtdii",
    "outputId": "99743190-6c4a-4409-87cf-aa2583b7b274"
   },
   "outputs": [
    {
     "name": "stdout",
     "output_type": "stream",
     "text": [
      "[0 0 0 ... 0 1 0]\n",
      "2300\n"
     ]
    }
   ],
   "source": [
    "\"\"\"print(test_pred)\n",
    "test_pred_bad  = np.count_nonzero(test_pred == 0)\n",
    "test_pred_sad  = np.count_nonzero(test_pred == 1)\n",
    "test_pred_happy  = np.count_nonzero(test_pred == 2)\n",
    "test_pred_surprise  = np.count_nonzero(test_pred == 3)\n",
    "print(test_pred_bad)\"\"\""
   ]
  },
  {
   "cell_type": "code",
   "execution_count": 46,
   "metadata": {
    "colab": {
     "base_uri": "https://localhost:8080/",
     "height": 50
    },
    "executionInfo": {
     "elapsed": 567,
     "status": "ok",
     "timestamp": 1603543872836,
     "user": {
      "displayName": "柿埜百合子",
      "photoUrl": "https://lh3.googleusercontent.com/a-/AOh14GjYNYMMkw7Sbp2fJPiqjXChU1pVOvqumf0pYC9omQ=s64",
      "userId": "18278998855833844730"
     },
     "user_tz": -540
    },
    "id": "RLpugDDWtbMk",
    "outputId": "f8e66082-440a-49e4-b7fd-05e396159d73"
   },
   "outputs": [],
   "source": [
    "from sklearn.metrics import confusion_matrix\n",
    "cm = confusion_matrix(test_true, test_pred)"
   ]
  },
  {
   "cell_type": "code",
   "execution_count": 47,
   "metadata": {},
   "outputs": [
    {
     "name": "stdout",
     "output_type": "stream",
     "text": [
      "Confusion Matrix\n",
      "------------------\n",
      "[[2205   89]\n",
      " [  95  784]]\n",
      "------------------\n"
     ]
    },
    {
     "data": {
      "image/png": "[encoded data removed]",
      "text/plain": [
       "<Figure size 360x360 with 2 Axes>"
      ]
     },
     "metadata": {},
     "output_type": "display_data"
    }
   ],
   "source": [
    "import seaborn as sns\n",
    "from sklearn.metrics import confusion_matrix\n",
    "\n",
    "sns.set()\n",
    "\n",
    "cm_rate = cm / cm.sum()\n",
    "\n",
    "# 混合行列を描画する。\n",
    "def print_confusion_matrix(confusion_matrix, class_names):\n",
    "    fig = plt.figure(figsize=(5, 5))\n",
    "    heatmap = sns.heatmap(\n",
    "        confusion_matrix, xticklabels=class_names, yticklabels=class_names,\n",
    "        annot=True, fmt='.1%', cbar=True, square=True, cmap='YlGnBu')\n",
    "    plt.ylabel('True label')\n",
    "    plt.xlabel('Predicted label')\n",
    "    plt.show()\n",
    "\n",
    "labels = [\"False\",\"True\"]\n",
    "\n",
    "print(\"Confusion Matrix\")\n",
    "print(\"------------------\")\n",
    "print(cm)\n",
    "print(\"------------------\")\n",
    "\n",
    "print_confusion_matrix(cm_rate, labels)\n",
    "\n",
    "# 縦軸の表示がおかしいのは matplotlib 3.1.1 のバグ\n",
    "# https://teratail.com/questions/205195"
   ]
  },
  {
   "cell_type": "code",
   "execution_count": 48,
   "metadata": {
    "colab": {
     "base_uri": "https://localhost:8080/",
     "height": 50
    },
    "executionInfo": {
     "elapsed": 631,
     "status": "ok",
     "timestamp": 1603543874673,
     "user": {
      "displayName": "柿埜百合子",
      "photoUrl": "https://lh3.googleusercontent.com/a-/AOh14GjYNYMMkw7Sbp2fJPiqjXChU1pVOvqumf0pYC9omQ=s64",
      "userId": "18278998855833844730"
     },
     "user_tz": -540
    },
    "id": "v3ovUoQEot_A",
    "outputId": "c4b3fd4c-d4c7-472b-a3dc-93829d08c2a1"
   },
   "outputs": [],
   "source": [
    "# from sklearn.metrics import confusion_matrix\n",
    "# confusion_matrix(test_true2, test_pred2)"
   ]
  },
  {
   "cell_type": "code",
   "execution_count": 49,
   "metadata": {
    "colab": {
     "base_uri": "https://localhost:8080/",
     "height": 168
    },
    "executionInfo": {
     "elapsed": 548,
     "status": "ok",
     "timestamp": 1603543882715,
     "user": {
      "displayName": "柿埜百合子",
      "photoUrl": "https://lh3.googleusercontent.com/a-/AOh14GjYNYMMkw7Sbp2fJPiqjXChU1pVOvqumf0pYC9omQ=s64",
      "userId": "18278998855833844730"
     },
     "user_tz": -540
    },
    "id": "z9tjRT9Hu2_F",
    "outputId": "f15b815a-02ea-43ee-992b-c5c6f8ecd9d7"
   },
   "outputs": [
    {
     "name": "stdout",
     "output_type": "stream",
     "text": [
      "              precision    recall  f1-score   support\n",
      "\n",
      "         bad     0.9587    0.9612    0.9599      2294\n",
      "       happy     0.8981    0.8919    0.8950       879\n",
      "\n",
      "    accuracy                         0.9420      3173\n",
      "   macro avg     0.9284    0.9266    0.9275      3173\n",
      "weighted avg     0.9419    0.9420    0.9419      3173\n",
      "\n"
     ]
    }
   ],
   "source": [
    "# model1\n",
    "target_names=[\"bad\", \"happy\"]\n",
    "print(classification_report(test_true, test_pred, target_names=target_names, digits=4))"
   ]
  },
  {
   "cell_type": "code",
   "execution_count": 50,
   "metadata": {
    "colab": {
     "base_uri": "https://localhost:8080/",
     "height": 168
    },
    "executionInfo": {
     "elapsed": 543,
     "status": "ok",
     "timestamp": 1603543886072,
     "user": {
      "displayName": "柿埜百合子",
      "photoUrl": "https://lh3.googleusercontent.com/a-/AOh14GjYNYMMkw7Sbp2fJPiqjXChU1pVOvqumf0pYC9omQ=s64",
      "userId": "18278998855833844730"
     },
     "user_tz": -540
    },
    "id": "bZuEuwcuodHC",
    "outputId": "f3c25443-bc6d-4d16-c68c-ff40e424ae08"
   },
   "outputs": [],
   "source": [
    "# # model2\n",
    "# target_names=[\"bad\", \"happy\"]\n",
    "# print(classification_report(test_true2, test_pred2, target_names=target_names))"
   ]
  },
  {
   "cell_type": "code",
   "execution_count": 51,
   "metadata": {
    "executionInfo": {
     "elapsed": 1948424,
     "status": "ok",
     "timestamp": 1603542223123,
     "user": {
      "displayName": "柿埜百合子",
      "photoUrl": "https://lh3.googleusercontent.com/a-/AOh14GjYNYMMkw7Sbp2fJPiqjXChU1pVOvqumf0pYC9omQ=s64",
      "userId": "18278998855833844730"
     },
     "user_tz": -540
    },
    "id": "_j0lFvJjVfK8"
   },
   "outputs": [],
   "source": [
    "from sklearn.metrics import roc_curve\n",
    "import matplotlib.pyplot as plt\n",
    "\n",
    "fpr, tpr, thresholds = roc_curve(test_true, test_pred)"
   ]
  },
  {
   "cell_type": "code",
   "execution_count": 52,
   "metadata": {
    "colab": {
     "base_uri": "https://localhost:8080/",
     "height": 34
    },
    "executionInfo": {
     "elapsed": 1948410,
     "status": "ok",
     "timestamp": 1603542223124,
     "user": {
      "displayName": "柿埜百合子",
      "photoUrl": "https://lh3.googleusercontent.com/a-/AOh14GjYNYMMkw7Sbp2fJPiqjXChU1pVOvqumf0pYC9omQ=s64",
      "userId": "18278998855833844730"
     },
     "user_tz": -540
    },
    "id": "3tpcJU4yYObA",
    "outputId": "43fcf76d-667e-4eee-b7ca-d344d80665fb"
   },
   "outputs": [
    {
     "name": "stdout",
     "output_type": "stream",
     "text": [
      "[0.         0.03879686 1.        ]\n"
     ]
    }
   ],
   "source": [
    "print(fpr)"
   ]
  },
  {
   "cell_type": "code",
   "execution_count": 53,
   "metadata": {
    "colab": {
     "base_uri": "https://localhost:8080/",
     "height": 34
    },
    "executionInfo": {
     "elapsed": 1948403,
     "status": "ok",
     "timestamp": 1603542223124,
     "user": {
      "displayName": "柿埜百合子",
      "photoUrl": "https://lh3.googleusercontent.com/a-/AOh14GjYNYMMkw7Sbp2fJPiqjXChU1pVOvqumf0pYC9omQ=s64",
      "userId": "18278998855833844730"
     },
     "user_tz": -540
    },
    "id": "FE3CnY1GYUx-",
    "outputId": "acf20813-ccc7-40af-a1cb-42409d818d55"
   },
   "outputs": [
    {
     "name": "stdout",
     "output_type": "stream",
     "text": [
      "[0.         0.89192264 1.        ]\n"
     ]
    }
   ],
   "source": [
    "print(tpr)"
   ]
  },
  {
   "cell_type": "code",
   "execution_count": 54,
   "metadata": {
    "colab": {
     "base_uri": "https://localhost:8080/",
     "height": 279
    },
    "executionInfo": {
     "elapsed": 1948699,
     "status": "ok",
     "timestamp": 1603542223445,
     "user": {
      "displayName": "柿埜百合子",
      "photoUrl": "https://lh3.googleusercontent.com/a-/AOh14GjYNYMMkw7Sbp2fJPiqjXChU1pVOvqumf0pYC9omQ=s64",
      "userId": "18278998855833844730"
     },
     "user_tz": -540
    },
    "id": "fCG9IJcjYV9e",
    "outputId": "c77b2d55-834a-46f1-c27b-c0856a4126a8"
   },
   "outputs": [
    {
     "data": {
      "image/png": "[encoded data removed]",
      "text/plain": [
       "<Figure size 432x288 with 1 Axes>"
      ]
     },
     "metadata": {},
     "output_type": "display_data"
    }
   ],
   "source": [
    "plt.plot(fpr, tpr, marker='o')\n",
    "plt.xlabel('FPR: False positive rate')\n",
    "plt.ylabel('TPR: True positive rate')\n",
    "plt.grid()\n",
    "# plt.savefig('data/dst/sklearn_roc_curve.png')"
   ]
  },
  {
   "cell_type": "code",
   "execution_count": 55,
   "metadata": {
    "colab": {
     "base_uri": "https://localhost:8080/",
     "height": 34
    },
    "executionInfo": {
     "elapsed": 1948682,
     "status": "ok",
     "timestamp": 1603542223446,
     "user": {
      "displayName": "柿埜百合子",
      "photoUrl": "https://lh3.googleusercontent.com/a-/AOh14GjYNYMMkw7Sbp2fJPiqjXChU1pVOvqumf0pYC9omQ=s64",
      "userId": "18278998855833844730"
     },
     "user_tz": -540
    },
    "id": "OSpLRBvKYbLO",
    "outputId": "202cf50f-46b2-4685-cba4-f5c85d037c2d"
   },
   "outputs": [
    {
     "name": "stdout",
     "output_type": "stream",
     "text": [
      "0.926562888992703\n"
     ]
    }
   ],
   "source": [
    "from sklearn.metrics import roc_auc_score\n",
    "import numpy as np\n",
    "\n",
    "print(roc_auc_score(test_true, test_pred))"
   ]
  },
  {
   "cell_type": "code",
   "execution_count": 56,
   "metadata": {
    "colab": {
     "base_uri": "https://localhost:8080/",
     "height": 134
    },
    "executionInfo": {
     "elapsed": 530,
     "status": "ok",
     "timestamp": 1603544231425,
     "user": {
      "displayName": "柿埜百合子",
      "photoUrl": "https://lh3.googleusercontent.com/a-/AOh14GjYNYMMkw7Sbp2fJPiqjXChU1pVOvqumf0pYC9omQ=s64",
      "userId": "18278998855833844730"
     },
     "user_tz": -540
    },
    "id": "b_vyLEzlYr39",
    "outputId": "f6af2ac5-0e27-4e1b-eb14-f06c801a441b"
   },
   "outputs": [],
   "source": [
    "# from sklearn.metrics import confusion_matrix, accuracy_score, precision_score,recall_score,f1_score\n",
    "# print('confusion matrix = \\n', confusion_matrix(y_true = test_true2, y_pred = test_pred2))\n",
    "# print('accuracy = ',accuracy_score(y_true = test_true2 , y_pred = test_pred2))\n",
    "# print('precision = ',precision_score(y_true = test_true2 , y_pred = test_pred2))\n",
    "# print('recall = ',recall_score(y_true = test_true2 , y_pred = test_pred2))\n",
    "# print('f1 score = ',f1_score(y_true = test_true2 , y_pred = test_pred2))\n",
    " "
   ]
  },
  {
   "cell_type": "code",
   "execution_count": 57,
   "metadata": {
    "colab": {
     "base_uri": "https://localhost:8080/",
     "height": 134
    },
    "executionInfo": {
     "elapsed": 436,
     "status": "ok",
     "timestamp": 1603544265439,
     "user": {
      "displayName": "柿埜百合子",
      "photoUrl": "https://lh3.googleusercontent.com/a-/AOh14GjYNYMMkw7Sbp2fJPiqjXChU1pVOvqumf0pYC9omQ=s64",
      "userId": "18278998855833844730"
     },
     "user_tz": -540
    },
    "id": "wXyiC4rtGQZX",
    "outputId": "7d8036e4-4c56-4d7e-d955-13b0e7ae38e1"
   },
   "outputs": [
    {
     "name": "stdout",
     "output_type": "stream",
     "text": [
      "confusion matrix = \n",
      " [[2205   89]\n",
      " [  95  784]]\n",
      "accuracy =  0.9420107154112827\n",
      "precision =  0.8980526918671249\n",
      "recall =  0.8919226393629124\n",
      "f1 score =  0.8949771689497716\n"
     ]
    }
   ],
   "source": [
    "from sklearn.metrics import confusion_matrix, accuracy_score, precision_score,recall_score,f1_score\n",
    "print('confusion matrix = \\n', confusion_matrix(y_true = test_true, y_pred = test_pred))\n",
    "print('accuracy = ',accuracy_score(y_true = test_true , y_pred = test_pred))\n",
    "print('precision = ',precision_score(y_true = test_true , y_pred = test_pred))\n",
    "print('recall = ',recall_score(y_true = test_true , y_pred = test_pred))\n",
    "print('f1 score = ',f1_score(y_true = test_true , y_pred = test_pred))\n",
    " "
   ]
  },
  {
   "cell_type": "code",
   "execution_count": null,
   "metadata": {
    "id": "uM_mkn_hr7DM"
   },
   "outputs": [],
   "source": []
  }
 ],
 "metadata": {
  "accelerator": "GPU",
  "colab": {
   "authorship_tag": "ABX9TyMeeejcVN4VirrALU+yxJrN",
   "collapsed_sections": [],
   "mount_file_id": "1Fevjqm2FcUBJEMHiZUs0UiGTcyvCqY4d",
   "name": "make_model_fer2013_4.ipynb",
   "provenance": []
  },
  "kernelspec": {
   "display_name": "Python 3",
   "language": "python",
   "name": "python3"
  },
  "language_info": {
   "codemirror_mode": {
    "name": "ipython",
    "version": 3
   },
   "file_extension": ".py",
   "mimetype": "text/x-python",
   "name": "python",
   "nbconvert_exporter": "python",
   "pygments_lexer": "ipython3",
   "version": "3.7.0"
  }
 },
 "nbformat": 4,
 "nbformat_minor": 1
}
