{
 "cells": [
  {
   "cell_type": "markdown",
   "metadata": {
    "id": "rcl6Ti3DYlFl"
   },
   "source": [
    "# 必要なライブラリ等をインポート"
   ]
  },
  {
   "cell_type": "code",
   "execution_count": 1,
   "metadata": {
    "colab": {
     "base_uri": "https://localhost:8080/",
     "height": 54
    },
    "id": "E15eyEI1ZQKv",
    "outputId": "ea261e14-1d29-4003-aac2-7d000775f6af"
   },
   "outputs": [
    {
     "name": "stdout",
     "output_type": "stream",
     "text": [
      "Drive already mounted at /content/drive; to attempt to forcibly remount, call drive.mount(\"/content/drive\", force_remount=True).\n"
     ]
    }
   ],
   "source": [
    "# from google.colab import drive\n",
    "# drive.mount('/content/drive')"
   ]
  },
  {
   "cell_type": "code",
   "execution_count": 2,
   "metadata": {
    "colab": {
     "base_uri": "https://localhost:8080/",
     "height": 106
    },
    "id": "012mulTiYlFm",
    "outputId": "23b753b5-56a7-4f25-88ec-a1fb033d4086"
   },
   "outputs": [
    {
     "name": "stdout",
     "output_type": "stream",
     "text": [
      "['$Recycle.Bin', '$SysReset', 'devlist.txt', 'Documents and Settings', 'eSupport', 'Finish.log', 'hiberfil.sys', 'Intel', 'MinGW', 'OneDriveTemp', 'pagefile.sys', 'PerfLogs', 'Program Files', 'Program Files (x86)', 'ProgramData', 'Recovery', 'swapfile.sys', 'System Volume Information', 'Users', 'Windows']\n"
     ]
    }
   ],
   "source": [
    "import numpy as np # linear algebra\n",
    "import pandas as pd # data processing, CSV file I/O (e.g. pd.read_csv)\n",
    "\n",
    "from keras.utils import to_categorical\n",
    "from keras.callbacks import EarlyStopping\n",
    "from keras.models import Sequential\n",
    "from keras.layers import Dense, Dropout, Activation, Flatten\n",
    "from keras.layers import Conv2D, MaxPooling2D, BatchNormalization\n",
    "from keras.losses import categorical_crossentropy\n",
    "from sklearn.metrics import accuracy_score\n",
    "from keras.optimizers import Adam\n",
    "from keras.regularizers import l2\n",
    "from keras.preprocessing.image import ImageDataGenerator\n",
    "\n",
    "from sklearn.metrics import classification_report, confusion_matrix\n",
    "import matplotlib.pyplot as plt\n",
    "import seaborn as sns\n",
    "\n",
    "import os\n",
    "# base_dir = '/content/drive/My Drive/Colab Notebooks/facial-expression/input'\n",
    "base_dir = '/'\n",
    "print(os.listdir(base_dir))"
   ]
  },
  {
   "cell_type": "markdown",
   "metadata": {
    "id": "Ne0TZJRlYlFs"
   },
   "source": [
    "# データを読み込む"
   ]
  },
  {
   "cell_type": "code",
   "execution_count": 5,
   "metadata": {
    "colab": {
     "base_uri": "https://localhost:8080/",
     "height": 34
    },
    "id": "gAzS1NoeYlFt",
    "outputId": "47fe39dd-fb4e-4a9a-fa82-1e175408d4d6"
   },
   "outputs": [
    {
     "data": {
      "text/plain": [
       "(35887, 3)"
      ]
     },
     "execution_count": 5,
     "metadata": {},
     "output_type": "execute_result"
    }
   ],
   "source": [
    "# data = pd.read_csv('/content/drive/My Drive/Colab Notebooks/facial-expression/input/fer2013.csv')\n",
    "data = pd.read_csv(\"fer2013.csv\")\n",
    "data.shape"
   ]
  },
  {
   "cell_type": "code",
   "execution_count": 6,
   "metadata": {
    "colab": {
     "base_uri": "https://localhost:8080/",
     "height": 203
    },
    "id": "9q9oOE7vYlFw",
    "outputId": "9b4c88d3-606d-4c71-b0ed-4b61824ed967"
   },
   "outputs": [
    {
     "data": {
      "text/html": [
       "<div>\n",
       "<style scoped>\n",
       "    .dataframe tbody tr th:only-of-type {\n",
       "        vertical-align: middle;\n",
       "    }\n",
       "\n",
       "    .dataframe tbody tr th {\n",
       "        vertical-align: top;\n",
       "    }\n",
       "\n",
       "    .dataframe thead th {\n",
       "        text-align: right;\n",
       "    }\n",
       "</style>\n",
       "<table border=\"1\" class=\"dataframe\">\n",
       "  <thead>\n",
       "    <tr style=\"text-align: right;\">\n",
       "      <th></th>\n",
       "      <th>emotion</th>\n",
       "      <th>pixels</th>\n",
       "      <th>Usage</th>\n",
       "    </tr>\n",
       "  </thead>\n",
       "  <tbody>\n",
       "    <tr>\n",
       "      <th>0</th>\n",
       "      <td>0</td>\n",
       "      <td>70 80 82 72 58 58 60 63 54 58 60 48 89 115 121...</td>\n",
       "      <td>Training</td>\n",
       "    </tr>\n",
       "    <tr>\n",
       "      <th>1</th>\n",
       "      <td>0</td>\n",
       "      <td>151 150 147 155 148 133 111 140 170 174 182 15...</td>\n",
       "      <td>Training</td>\n",
       "    </tr>\n",
       "    <tr>\n",
       "      <th>2</th>\n",
       "      <td>2</td>\n",
       "      <td>231 212 156 164 174 138 161 173 182 200 106 38...</td>\n",
       "      <td>Training</td>\n",
       "    </tr>\n",
       "    <tr>\n",
       "      <th>3</th>\n",
       "      <td>4</td>\n",
       "      <td>24 32 36 30 32 23 19 20 30 41 21 22 32 34 21 1...</td>\n",
       "      <td>Training</td>\n",
       "    </tr>\n",
       "    <tr>\n",
       "      <th>4</th>\n",
       "      <td>6</td>\n",
       "      <td>4 0 0 0 0 0 0 0 0 0 0 0 3 15 23 28 48 50 58 84...</td>\n",
       "      <td>Training</td>\n",
       "    </tr>\n",
       "  </tbody>\n",
       "</table>\n",
       "</div>"
      ],
      "text/plain": [
       "   emotion                                             pixels     Usage\n",
       "0        0  70 80 82 72 58 58 60 63 54 58 60 48 89 115 121...  Training\n",
       "1        0  151 150 147 155 148 133 111 140 170 174 182 15...  Training\n",
       "2        2  231 212 156 164 174 138 161 173 182 200 106 38...  Training\n",
       "3        4  24 32 36 30 32 23 19 20 30 41 21 22 32 34 21 1...  Training\n",
       "4        6  4 0 0 0 0 0 0 0 0 0 0 0 3 15 23 28 48 50 58 84...  Training"
      ]
     },
     "execution_count": 6,
     "metadata": {},
     "output_type": "execute_result"
    }
   ],
   "source": [
    "data.head(5)"
   ]
  },
  {
   "cell_type": "code",
   "execution_count": 7,
   "metadata": {
    "colab": {
     "base_uri": "https://localhost:8080/",
     "height": 86
    },
    "id": "GW7J7RqDYlF0",
    "outputId": "2a1a267d-6263-452d-ac24-5994362749dd"
   },
   "outputs": [
    {
     "data": {
      "text/plain": [
       "Training       28709\n",
       "PublicTest      3589\n",
       "PrivateTest     3589\n",
       "Name: Usage, dtype: int64"
      ]
     },
     "execution_count": 7,
     "metadata": {},
     "output_type": "execute_result"
    }
   ],
   "source": [
    "data.Usage.value_counts()"
   ]
  },
  {
   "cell_type": "code",
   "execution_count": 8,
   "metadata": {
    "colab": {
     "base_uri": "https://localhost:8080/",
     "height": 264
    },
    "id": "2mwti8TKYlF3",
    "outputId": "c52aa161-4b28-498c-b591-2ea9e39038e7"
   },
   "outputs": [
    {
     "data": {
      "text/html": [
       "<div>\n",
       "<style scoped>\n",
       "    .dataframe tbody tr th:only-of-type {\n",
       "        vertical-align: middle;\n",
       "    }\n",
       "\n",
       "    .dataframe tbody tr th {\n",
       "        vertical-align: top;\n",
       "    }\n",
       "\n",
       "    .dataframe thead th {\n",
       "        text-align: right;\n",
       "    }\n",
       "</style>\n",
       "<table border=\"1\" class=\"dataframe\">\n",
       "  <thead>\n",
       "    <tr style=\"text-align: right;\">\n",
       "      <th></th>\n",
       "      <th>emotion</th>\n",
       "      <th>number</th>\n",
       "    </tr>\n",
       "  </thead>\n",
       "  <tbody>\n",
       "    <tr>\n",
       "      <th>0</th>\n",
       "      <td>Angry</td>\n",
       "      <td>4953</td>\n",
       "    </tr>\n",
       "    <tr>\n",
       "      <th>1</th>\n",
       "      <td>Digust</td>\n",
       "      <td>547</td>\n",
       "    </tr>\n",
       "    <tr>\n",
       "      <th>2</th>\n",
       "      <td>Fear</td>\n",
       "      <td>5121</td>\n",
       "    </tr>\n",
       "    <tr>\n",
       "      <th>3</th>\n",
       "      <td>Happy</td>\n",
       "      <td>8989</td>\n",
       "    </tr>\n",
       "    <tr>\n",
       "      <th>4</th>\n",
       "      <td>Sad</td>\n",
       "      <td>6077</td>\n",
       "    </tr>\n",
       "    <tr>\n",
       "      <th>5</th>\n",
       "      <td>Surprise</td>\n",
       "      <td>4002</td>\n",
       "    </tr>\n",
       "    <tr>\n",
       "      <th>6</th>\n",
       "      <td>Neutral</td>\n",
       "      <td>6198</td>\n",
       "    </tr>\n",
       "  </tbody>\n",
       "</table>\n",
       "</div>"
      ],
      "text/plain": [
       "    emotion  number\n",
       "0     Angry    4953\n",
       "1    Digust     547\n",
       "2      Fear    5121\n",
       "3     Happy    8989\n",
       "4       Sad    6077\n",
       "5  Surprise    4002\n",
       "6   Neutral    6198"
      ]
     },
     "execution_count": 8,
     "metadata": {},
     "output_type": "execute_result"
    }
   ],
   "source": [
    "emotion_map = {0: 'Angry', 1: 'Digust', 2: 'Fear', 3: 'Happy', 4: 'Sad', 5: 'Surprise', 6: 'Neutral'}\n",
    "emotion_counts = data['emotion'].value_counts(sort=False).reset_index()\n",
    "emotion_counts.columns = ['emotion', 'number']\n",
    "emotion_counts['emotion'] = emotion_counts['emotion'].map(emotion_map)\n",
    "emotion_counts"
   ]
  },
  {
   "cell_type": "code",
   "execution_count": 9,
   "metadata": {
    "colab": {
     "base_uri": "https://localhost:8080/",
     "height": 298
    },
    "id": "roAEIhZkYlF6",
    "outputId": "e42e61b8-e8e9-41ff-e98f-8209f7224dd1"
   },
   "outputs": [
    {
     "data": {
      "image/png": "[encoded data removed]",
      "text/plain": [
       "<Figure size 432x288 with 1 Axes>"
      ]
     },
     "metadata": {
      "needs_background": "light"
     },
     "output_type": "display_data"
    }
   ],
   "source": [
    "plt.figure(figsize=(6,4))\n",
    "sns.barplot(emotion_counts.emotion, emotion_counts.number)\n",
    "plt.title('Class distribution')\n",
    "plt.ylabel('Number', fontsize=12)\n",
    "plt.xlabel('Emotions', fontsize=12)\n",
    "plt.show()"
   ]
  },
  {
   "cell_type": "markdown",
   "metadata": {
    "id": "Cu5ouaEBYlF-"
   },
   "source": [
    "##  データの写真をいくつか見てみる"
   ]
  },
  {
   "cell_type": "code",
   "execution_count": 10,
   "metadata": {
    "colab": {
     "base_uri": "https://localhost:8080/",
     "height": 382
    },
    "id": "WAyhcXuVYlF_",
    "outputId": "f1cd5c4f-468f-4866-f1ab-bcf34720765b"
   },
   "outputs": [
    {
     "name": "stderr",
     "output_type": "stream",
     "text": [
      "C:\\Users\\iiats\\Anaconda3\\envs\\Python36-gpu\\lib\\site-packages\\ipykernel_launcher.py:9: VisibleDeprecationWarning: Creating an ndarray from ragged nested sequences (which is a list-or-tuple of lists-or-tuples-or ndarrays with different lengths or shapes) is deprecated. If you meant to do this, you must specify 'dtype=object' when creating the ndarray\n",
      "  if __name__ == '__main__':\n",
      "C:\\Users\\iiats\\Anaconda3\\envs\\Python36-gpu\\lib\\site-packages\\ipykernel_launcher.py:9: VisibleDeprecationWarning: Creating an ndarray from ragged nested sequences (which is a list-or-tuple of lists-or-tuples-or ndarrays with different lengths or shapes) is deprecated. If you meant to do this, you must specify 'dtype=object' when creating the ndarray\n",
      "  if __name__ == '__main__':\n",
      "C:\\Users\\iiats\\Anaconda3\\envs\\Python36-gpu\\lib\\site-packages\\ipykernel_launcher.py:9: VisibleDeprecationWarning: Creating an ndarray from ragged nested sequences (which is a list-or-tuple of lists-or-tuples-or ndarrays with different lengths or shapes) is deprecated. If you meant to do this, you must specify 'dtype=object' when creating the ndarray\n",
      "  if __name__ == '__main__':\n",
      "C:\\Users\\iiats\\Anaconda3\\envs\\Python36-gpu\\lib\\site-packages\\ipykernel_launcher.py:9: VisibleDeprecationWarning: Creating an ndarray from ragged nested sequences (which is a list-or-tuple of lists-or-tuples-or ndarrays with different lengths or shapes) is deprecated. If you meant to do this, you must specify 'dtype=object' when creating the ndarray\n",
      "  if __name__ == '__main__':\n",
      "C:\\Users\\iiats\\Anaconda3\\envs\\Python36-gpu\\lib\\site-packages\\ipykernel_launcher.py:9: VisibleDeprecationWarning: Creating an ndarray from ragged nested sequences (which is a list-or-tuple of lists-or-tuples-or ndarrays with different lengths or shapes) is deprecated. If you meant to do this, you must specify 'dtype=object' when creating the ndarray\n",
      "  if __name__ == '__main__':\n",
      "C:\\Users\\iiats\\Anaconda3\\envs\\Python36-gpu\\lib\\site-packages\\ipykernel_launcher.py:9: VisibleDeprecationWarning: Creating an ndarray from ragged nested sequences (which is a list-or-tuple of lists-or-tuples-or ndarrays with different lengths or shapes) is deprecated. If you meant to do this, you must specify 'dtype=object' when creating the ndarray\n",
      "  if __name__ == '__main__':\n",
      "C:\\Users\\iiats\\Anaconda3\\envs\\Python36-gpu\\lib\\site-packages\\ipykernel_launcher.py:9: VisibleDeprecationWarning: Creating an ndarray from ragged nested sequences (which is a list-or-tuple of lists-or-tuples-or ndarrays with different lengths or shapes) is deprecated. If you meant to do this, you must specify 'dtype=object' when creating the ndarray\n",
      "  if __name__ == '__main__':\n"
     ]
    },
    {
     "data": {
      "image/png": "[encoded data removed]",
      "text/plain": [
       "<Figure size 1152x720 with 7 Axes>"
      ]
     },
     "metadata": {
      "needs_background": "light"
     },
     "output_type": "display_data"
    }
   ],
   "source": [
    "def row2image(row):\n",
    "    pixels, emotion = row['pixels'], emotion_map[row['emotion']]\n",
    "    img = np.array(pixels.split())\n",
    "    img = img.reshape(48,48)\n",
    "    image = np.zeros((48,48,3))\n",
    "    image[:,:,0] = img\n",
    "    image[:,:,1] = img\n",
    "    image[:,:,2] = img\n",
    "    return np.array([image.astype(np.uint8), emotion])\n",
    "\n",
    "plt.figure(0, figsize=(16,10))\n",
    "for i in range(1,8):\n",
    "    face = data[data['emotion'] == i-1].iloc[0]\n",
    "    img = row2image(face)\n",
    "    plt.subplot(2,4,i)\n",
    "    plt.imshow(img[0])\n",
    "    plt.title(img[1])\n",
    "\n",
    "plt.show()"
   ]
  },
  {
   "cell_type": "code",
   "execution_count": 38,
   "metadata": {},
   "outputs": [
    {
     "data": {
      "text/plain": [
       "(48, 48, 3)"
      ]
     },
     "execution_count": 38,
     "metadata": {},
     "output_type": "execute_result"
    }
   ],
   "source": [
    "img[0].shape"
   ]
  },
  {
   "cell_type": "markdown",
   "metadata": {
    "id": "rllgeo9_YlGC"
   },
   "source": [
    "# 学習データとテストデータに分ける"
   ]
  },
  {
   "cell_type": "code",
   "execution_count": 11,
   "metadata": {
    "colab": {
     "base_uri": "https://localhost:8080/",
     "height": 68
    },
    "id": "k0C0vspBYlGD",
    "outputId": "f03c44b3-337c-4a04-a3e0-a318414bf9db"
   },
   "outputs": [
    {
     "name": "stdout",
     "output_type": "stream",
     "text": [
      "train shape: (28709, 3), \n",
      "validation shape: (3589, 3), \n",
      "test shape: (3589, 3)\n"
     ]
    }
   ],
   "source": [
    "data_train = data[data['Usage'] == 'Training'].copy()\n",
    "data_val = data[data['Usage'] == 'PublicTest'].copy()\n",
    "data_test = data[data['Usage'] == 'PrivateTest'].copy()\n",
    "print(\"train shape: {}, \\nvalidation shape: {}, \\ntest shape: {}\".format(data_train.shape, data_val.shape, data_test.shape))"
   ]
  },
  {
   "cell_type": "markdown",
   "metadata": {
    "id": "6IC5U91dYlGG"
   },
   "source": [
    "## 学習データとテストデータそれぞれの、感情の分布を見てみる"
   ]
  },
  {
   "cell_type": "code",
   "execution_count": 12,
   "metadata": {
    "colab": {
     "base_uri": "https://localhost:8080/",
     "height": 282
    },
    "id": "-hcFJKLpYlGG",
    "outputId": "904c412a-4085-4f3a-eaa3-d790f0d0a7a4"
   },
   "outputs": [
    {
     "data": {
      "image/png": "[encoded data removed]",
      "text/plain": [
       "<Figure size 1440x576 with 3 Axes>"
      ]
     },
     "metadata": {
      "needs_background": "light"
     },
     "output_type": "display_data"
    }
   ],
   "source": [
    "# barplot class distribution of train, val and test\n",
    "emotion_labels = ['Angry', 'Disgust', 'Fear', 'Happy', 'Sad', 'Surprise', 'Neutral']\n",
    "\n",
    "def setup_axe(axe,df,title):\n",
    "    df['emotion'].value_counts(sort=False).plot(ax=axe, kind='bar', rot=0)\n",
    "    axe.set_xticklabels(emotion_labels)\n",
    "    axe.set_xlabel(\"Emotions\")\n",
    "    axe.set_ylabel(\"Number\")\n",
    "    axe.set_title(title)\n",
    "    \n",
    "    # set individual bar lables using above list\n",
    "    for i in axe.patches:\n",
    "        # get_x pulls left or right; get_height pushes up or down\n",
    "        axe.text(i.get_x()-.05, i.get_height()+120, \\\n",
    "                str(round((i.get_height()), 2)), fontsize=14, color='dimgrey',\n",
    "                    rotation=0)\n",
    "\n",
    "   \n",
    "fig, axes = plt.subplots(1,3, figsize=(20,8), sharey=True)\n",
    "setup_axe(axes[0],data_train,'train')\n",
    "setup_axe(axes[1],data_val,'validation')\n",
    "setup_axe(axes[2],data_test,'test')\n",
    "plt.show()\n"
   ]
  },
  {
   "cell_type": "markdown",
   "metadata": {
    "id": "GNzPiNoZYlGJ"
   },
   "source": [
    "Notice that the later two subplots share the same y-axis with the first subplot.\n",
    "\n",
    "The size of train, validation, test are 80%, 10% and 10%, respectively.\n",
    "\n",
    "The exact number of each class of these datasets are written on top of their x-axis bar."
   ]
  },
  {
   "cell_type": "markdown",
   "metadata": {
    "id": "O77SAlxGYlGK"
   },
   "source": [
    "# モデル生成のためのパラメタ設定"
   ]
  },
  {
   "cell_type": "code",
   "execution_count": 13,
   "metadata": {
    "id": "OYDAm6sNYlGK"
   },
   "outputs": [],
   "source": [
    "num_classes = 7\n",
    "width, height = 48, 48\n",
    "num_epochs = 50\n",
    "batch_size = 64\n",
    "num_features = 64"
   ]
  },
  {
   "cell_type": "code",
   "execution_count": 14,
   "metadata": {
    "id": "WEAj0LRXYlGQ"
   },
   "outputs": [],
   "source": [
    "# CRNO stands for Convert, Reshape, Normalize, One-hot encoding\n",
    "# (i) convert strings to lists of integers\n",
    "# (ii) reshape and normalise grayscale image with 255.0\n",
    "# (iii) one-hot encoding label, e.g. class 3 to [0,0,0,1,0,0,0]"
   ]
  },
  {
   "cell_type": "code",
   "execution_count": 15,
   "metadata": {
    "colab": {
     "base_uri": "https://localhost:8080/",
     "height": 68
    },
    "id": "ygGEkjFRYlGT",
    "outputId": "504ff612-5e1a-4a79-b65a-a2d85834b360"
   },
   "outputs": [
    {
     "name": "stdout",
     "output_type": "stream",
     "text": [
      "train _X shape: {},  train _Y shape: (28709, 48, 48, 1)\n",
      "val _X shape: {},  val _Y shape: (3589, 48, 48, 1)\n",
      "test _X shape: {},  test _Y shape: (3589, 48, 48, 1)\n"
     ]
    }
   ],
   "source": [
    "def CRNO(df, dataName):\n",
    "    df['pixels'] = df['pixels'].apply(lambda pixel_sequence: [int(pixel) for pixel in pixel_sequence.split()])\n",
    "    data_X = np.array(df['pixels'].tolist(), dtype='float32').reshape(-1,width, height,1)/255.0   \n",
    "    data_Y = to_categorical(df['emotion'], num_classes)  \n",
    "    print(dataName, \"_X shape: {}, \", dataName, \"_Y shape: {}\".format(data_X.shape, data_Y.shape))\n",
    "    return data_X, data_Y\n",
    "\n",
    "    \n",
    "train_X, train_Y = CRNO(data_train, \"train\") #training data\n",
    "val_X, val_Y     = CRNO(data_val, \"val\") #validation data\n",
    "test_X, test_Y   = CRNO(data_test, \"test\") #test data"
   ]
  },
  {
   "cell_type": "code",
   "execution_count": 36,
   "metadata": {},
   "outputs": [
    {
     "data": {
      "text/plain": [
       "(48, 48, 1)"
      ]
     },
     "execution_count": 36,
     "metadata": {},
     "output_type": "execute_result"
    }
   ],
   "source": [
    "train_X[1].shape"
   ]
  },
  {
   "cell_type": "code",
   "execution_count": 37,
   "metadata": {
    "scrolled": true
   },
   "outputs": [
    {
     "data": {
      "text/plain": [
       "array([[[0.5921569 ],\n",
       "        [0.5882353 ],\n",
       "        [0.5764706 ],\n",
       "        ...,\n",
       "        [0.5058824 ],\n",
       "        [0.54901963],\n",
       "        [0.47058824]],\n",
       "\n",
       "       [[0.5921569 ],\n",
       "        [0.58431375],\n",
       "        [0.58431375],\n",
       "        ...,\n",
       "        [0.47843137],\n",
       "        [0.5529412 ],\n",
       "        [0.5372549 ]],\n",
       "\n",
       "       [[0.5921569 ],\n",
       "        [0.5921569 ],\n",
       "        [0.6117647 ],\n",
       "        ...,\n",
       "        [0.42745098],\n",
       "        [0.48235294],\n",
       "        [0.57254905]],\n",
       "\n",
       "       ...,\n",
       "\n",
       "       [[0.7372549 ],\n",
       "        [0.7372549 ],\n",
       "        [0.4745098 ],\n",
       "        ...,\n",
       "        [0.7254902 ],\n",
       "        [0.7254902 ],\n",
       "        [0.7294118 ]],\n",
       "\n",
       "       [[0.7372549 ],\n",
       "        [0.73333335],\n",
       "        [0.76862746],\n",
       "        ...,\n",
       "        [0.7294118 ],\n",
       "        [0.7137255 ],\n",
       "        [0.73333335]],\n",
       "\n",
       "       [[0.7294118 ],\n",
       "        [0.72156864],\n",
       "        [0.7254902 ],\n",
       "        ...,\n",
       "        [0.75686276],\n",
       "        [0.7176471 ],\n",
       "        [0.72156864]]], dtype=float32)"
      ]
     },
     "execution_count": 37,
     "metadata": {},
     "output_type": "execute_result"
    }
   ],
   "source": [
    "train_X[1]"
   ]
  },
  {
   "cell_type": "markdown",
   "metadata": {
    "id": "GHQhZIVMYlGW"
   },
   "source": [
    "# CNNモデルの構築"
   ]
  },
  {
   "cell_type": "markdown",
   "metadata": {
    "id": "M7KZJrjFYlGW"
   },
   "source": [
    "#### CNN Architecture:\n",
    "- Conv -> BN -> Activation -> Conv -> BN -> Activation -> MaxPooling\n",
    "- Conv -> BN -> Activation -> Conv -> BN -> Activation -> MaxPooling\n",
    "- Conv -> BN -> Activation -> Conv -> BN -> Activation -> MaxPooling\n",
    "- Flatten\n",
    "- Dense -> BN -> Activation\n",
    "- Dense -> BN -> Activation\n",
    "- Dense -> BN -> Activation\n",
    "- Output layer"
   ]
  },
  {
   "cell_type": "code",
   "execution_count": 16,
   "metadata": {
    "id": "iBRIZM77YlGY"
   },
   "outputs": [
    {
     "name": "stdout",
     "output_type": "stream",
     "text": [
      "WARNING:tensorflow:From C:\\Users\\iiats\\Anaconda3\\envs\\Python36-gpu\\lib\\site-packages\\keras\\backend\\tensorflow_backend.py:74: The name tf.get_default_graph is deprecated. Please use tf.compat.v1.get_default_graph instead.\n",
      "\n"
     ]
    }
   ],
   "source": [
    "model = Sequential()"
   ]
  },
  {
   "cell_type": "markdown",
   "metadata": {
    "id": "UOQBFvoBYlGb"
   },
   "source": [
    "#### module1"
   ]
  },
  {
   "cell_type": "code",
   "execution_count": 17,
   "metadata": {
    "colab": {
     "base_uri": "https://localhost:8080/",
     "height": 401
    },
    "id": "Qpbi6Th1YlGc",
    "outputId": "c16e6410-3848-4f4c-e051-bce458486e55"
   },
   "outputs": [
    {
     "name": "stdout",
     "output_type": "stream",
     "text": [
      "WARNING:tensorflow:From C:\\Users\\iiats\\Anaconda3\\envs\\Python36-gpu\\lib\\site-packages\\keras\\backend\\tensorflow_backend.py:517: The name tf.placeholder is deprecated. Please use tf.compat.v1.placeholder instead.\n",
      "\n",
      "WARNING:tensorflow:From C:\\Users\\iiats\\Anaconda3\\envs\\Python36-gpu\\lib\\site-packages\\keras\\backend\\tensorflow_backend.py:4138: The name tf.random_uniform is deprecated. Please use tf.random.uniform instead.\n",
      "\n",
      "WARNING:tensorflow:From C:\\Users\\iiats\\Anaconda3\\envs\\Python36-gpu\\lib\\site-packages\\keras\\backend\\tensorflow_backend.py:174: The name tf.get_default_session is deprecated. Please use tf.compat.v1.get_default_session instead.\n",
      "\n",
      "WARNING:tensorflow:From C:\\Users\\iiats\\Anaconda3\\envs\\Python36-gpu\\lib\\site-packages\\keras\\backend\\tensorflow_backend.py:181: The name tf.ConfigProto is deprecated. Please use tf.compat.v1.ConfigProto instead.\n",
      "\n",
      "WARNING:tensorflow:From C:\\Users\\iiats\\Anaconda3\\envs\\Python36-gpu\\lib\\site-packages\\keras\\backend\\tensorflow_backend.py:1834: The name tf.nn.fused_batch_norm is deprecated. Please use tf.compat.v1.nn.fused_batch_norm instead.\n",
      "\n",
      "WARNING:tensorflow:From C:\\Users\\iiats\\Anaconda3\\envs\\Python36-gpu\\lib\\site-packages\\keras\\backend\\tensorflow_backend.py:3976: The name tf.nn.max_pool is deprecated. Please use tf.nn.max_pool2d instead.\n",
      "\n"
     ]
    }
   ],
   "source": [
    "## 畳み込み層\n",
    "model.add(Conv2D(\n",
    "        2*2*num_features, \n",
    "        kernel_size=(3,3), \n",
    "        input_shape=(width, height, 1)\n",
    "))\n",
    "model.add(BatchNormalization())\n",
    "## 活性化関数\n",
    "model.add(Activation('relu'))\n",
    "## 畳み込み層\n",
    "model.add(Conv2D(2*2*num_features, kernel_size=(3,3), padding='same'))\n",
    "model.add(BatchNormalization())\n",
    "## 活性化関数\n",
    "model.add(Activation('relu'))\n",
    "## プーリング層\n",
    "model.add(MaxPooling2D(pool_size=(2,2), strides=(2,2)))"
   ]
  },
  {
   "cell_type": "markdown",
   "metadata": {
    "id": "IpuooDPIYlGf"
   },
   "source": [
    "### module2"
   ]
  },
  {
   "cell_type": "code",
   "execution_count": 18,
   "metadata": {
    "id": "LYW1IP3oYlGg"
   },
   "outputs": [],
   "source": [
    "model.add(Conv2D(2*num_features, kernel_size=(3, 3), padding='same'))\n",
    "model.add(BatchNormalization())\n",
    "model.add(Activation('relu'))\n",
    "model.add(Conv2D(2*num_features, kernel_size=(3, 3), padding='same'))\n",
    "model.add(BatchNormalization())\n",
    "model.add(Activation('relu'))\n",
    "model.add(MaxPooling2D(pool_size=(2, 2), strides=(2, 2)))\n"
   ]
  },
  {
   "cell_type": "markdown",
   "metadata": {
    "id": "uqrYt0knYlGj"
   },
   "source": [
    "## molude3"
   ]
  },
  {
   "cell_type": "code",
   "execution_count": 19,
   "metadata": {
    "id": "dbH5fOPsYlGj"
   },
   "outputs": [],
   "source": [
    "model.add(Conv2D(num_features, kernel_size=(3, 3), padding='same'))\n",
    "model.add(BatchNormalization())\n",
    "model.add(Activation('relu'))\n",
    "model.add(Conv2D(num_features, kernel_size=(3, 3), padding='same'))\n",
    "model.add(BatchNormalization())\n",
    "model.add(Activation('relu'))\n",
    "model.add(MaxPooling2D(pool_size=(2, 2), strides=(2, 2)))"
   ]
  },
  {
   "cell_type": "markdown",
   "metadata": {
    "id": "_URnxFPkYlGm"
   },
   "source": [
    "### flatten"
   ]
  },
  {
   "cell_type": "code",
   "execution_count": 20,
   "metadata": {
    "id": "-co5t13yYlGn"
   },
   "outputs": [],
   "source": [
    "model.add(Flatten())"
   ]
  },
  {
   "cell_type": "markdown",
   "metadata": {
    "id": "7YW6eoF0YlGp"
   },
   "source": [
    "## dense"
   ]
  },
  {
   "cell_type": "code",
   "execution_count": 21,
   "metadata": {
    "id": "1L2fovzmYlGq"
   },
   "outputs": [],
   "source": [
    "## dense 1\n",
    "model.add(Dense(2*2*2*num_features))\n",
    "model.add(BatchNormalization())\n",
    "model.add(Activation('relu'))\n",
    "\n",
    "#dense 2\n",
    "model.add(Dense(2*2*num_features))\n",
    "model.add(BatchNormalization())\n",
    "model.add(Activation('relu'))\n",
    "\n",
    "#dense 3\n",
    "model.add(Dense(2*num_features))\n",
    "model.add(BatchNormalization())\n",
    "model.add(Activation('relu'))"
   ]
  },
  {
   "cell_type": "markdown",
   "metadata": {
    "id": "sV8PJ7k9YlGs"
   },
   "source": [
    "### output layer\n",
    "- ７つの変数に分けるときの活性化関数"
   ]
  },
  {
   "cell_type": "code",
   "execution_count": 22,
   "metadata": {
    "id": "uKUsNxWXYlGt"
   },
   "outputs": [],
   "source": [
    "model.add(Dense(num_classes, activation='softmax'))"
   ]
  },
  {
   "cell_type": "markdown",
   "metadata": {
    "id": "GP2mTqeAYlGw"
   },
   "source": [
    "### ハイパーパラメータ\n",
    "- 損失関数：分類問題はほとんど「categorical_crossentropy」が使われる\n",
    "- optimizer：「Adam」が一番よく使われる\n",
    "- metrics：分類問題の場合「accuracy」がほとんど"
   ]
  },
  {
   "cell_type": "code",
   "execution_count": 23,
   "metadata": {
    "id": "MSRNFj39YlGw"
   },
   "outputs": [
    {
     "name": "stdout",
     "output_type": "stream",
     "text": [
      "WARNING:tensorflow:From C:\\Users\\iiats\\Anaconda3\\envs\\Python36-gpu\\lib\\site-packages\\keras\\optimizers.py:790: The name tf.train.Optimizer is deprecated. Please use tf.compat.v1.train.Optimizer instead.\n",
      "\n",
      "_________________________________________________________________\n",
      "Layer (type)                 Output Shape              Param #   \n",
      "=================================================================\n",
      "conv2d_1 (Conv2D)            (None, 46, 46, 256)       2560      \n",
      "_________________________________________________________________\n",
      "batch_normalization_1 (Batch (None, 46, 46, 256)       1024      \n",
      "_________________________________________________________________\n",
      "activation_1 (Activation)    (None, 46, 46, 256)       0         \n",
      "_________________________________________________________________\n",
      "conv2d_2 (Conv2D)            (None, 46, 46, 256)       590080    \n",
      "_________________________________________________________________\n",
      "batch_normalization_2 (Batch (None, 46, 46, 256)       1024      \n",
      "_________________________________________________________________\n",
      "activation_2 (Activation)    (None, 46, 46, 256)       0         \n",
      "_________________________________________________________________\n",
      "max_pooling2d_1 (MaxPooling2 (None, 23, 23, 256)       0         \n",
      "_________________________________________________________________\n",
      "conv2d_3 (Conv2D)            (None, 23, 23, 128)       295040    \n",
      "_________________________________________________________________\n",
      "batch_normalization_3 (Batch (None, 23, 23, 128)       512       \n",
      "_________________________________________________________________\n",
      "activation_3 (Activation)    (None, 23, 23, 128)       0         \n",
      "_________________________________________________________________\n",
      "conv2d_4 (Conv2D)            (None, 23, 23, 128)       147584    \n",
      "_________________________________________________________________\n",
      "batch_normalization_4 (Batch (None, 23, 23, 128)       512       \n",
      "_________________________________________________________________\n",
      "activation_4 (Activation)    (None, 23, 23, 128)       0         \n",
      "_________________________________________________________________\n",
      "max_pooling2d_2 (MaxPooling2 (None, 11, 11, 128)       0         \n",
      "_________________________________________________________________\n",
      "conv2d_5 (Conv2D)            (None, 11, 11, 64)        73792     \n",
      "_________________________________________________________________\n",
      "batch_normalization_5 (Batch (None, 11, 11, 64)        256       \n",
      "_________________________________________________________________\n",
      "activation_5 (Activation)    (None, 11, 11, 64)        0         \n",
      "_________________________________________________________________\n",
      "conv2d_6 (Conv2D)            (None, 11, 11, 64)        36928     \n",
      "_________________________________________________________________\n",
      "batch_normalization_6 (Batch (None, 11, 11, 64)        256       \n",
      "_________________________________________________________________\n",
      "activation_6 (Activation)    (None, 11, 11, 64)        0         \n",
      "_________________________________________________________________\n",
      "max_pooling2d_3 (MaxPooling2 (None, 5, 5, 64)          0         \n",
      "_________________________________________________________________\n",
      "flatten_1 (Flatten)          (None, 1600)              0         \n",
      "_________________________________________________________________\n",
      "dense_1 (Dense)              (None, 512)               819712    \n",
      "_________________________________________________________________\n",
      "batch_normalization_7 (Batch (None, 512)               2048      \n",
      "_________________________________________________________________\n",
      "activation_7 (Activation)    (None, 512)               0         \n",
      "_________________________________________________________________\n",
      "dense_2 (Dense)              (None, 256)               131328    \n",
      "_________________________________________________________________\n",
      "batch_normalization_8 (Batch (None, 256)               1024      \n",
      "_________________________________________________________________\n",
      "activation_8 (Activation)    (None, 256)               0         \n",
      "_________________________________________________________________\n",
      "dense_3 (Dense)              (None, 128)               32896     \n",
      "_________________________________________________________________\n",
      "batch_normalization_9 (Batch (None, 128)               512       \n",
      "_________________________________________________________________\n",
      "activation_9 (Activation)    (None, 128)               0         \n",
      "_________________________________________________________________\n",
      "dense_4 (Dense)              (None, 7)                 903       \n",
      "=================================================================\n",
      "Total params: 2,137,991\n",
      "Trainable params: 2,134,407\n",
      "Non-trainable params: 3,584\n",
      "_________________________________________________________________\n"
     ]
    }
   ],
   "source": [
    "model.compile(\n",
    "    loss='categorical_crossentropy',\n",
    "    optimizer=Adam(lr=0.001, beta_1=0.9, beta_2=0.999, epsilon=1e-7), \n",
    "    metrics=['accuracy']\n",
    ")\n",
    "model.summary()"
   ]
  },
  {
   "cell_type": "markdown",
   "metadata": {
    "id": "Oy62mrelYlGz"
   },
   "source": [
    "## データの水増し"
   ]
  },
  {
   "cell_type": "code",
   "execution_count": 24,
   "metadata": {
    "id": "GS3DsAJSYlG0"
   },
   "outputs": [],
   "source": [
    "data_generator = ImageDataGenerator(\n",
    "    featurewise_center=False,\n",
    "    featurewise_std_normalization=False,\n",
    "    rotation_range=10,\n",
    "    width_shift_range=0.1,\n",
    "    height_shift_range=0.1,\n",
    "    zoom_range=1,\n",
    "    horizontal_flip=True\n",
    ")"
   ]
  },
  {
   "cell_type": "markdown",
   "metadata": {
    "id": "MincS_lHYlG3"
   },
   "source": [
    "## early stoppingの設定"
   ]
  },
  {
   "cell_type": "code",
   "execution_count": 25,
   "metadata": {
    "id": "_EGugqLvYlG4"
   },
   "outputs": [],
   "source": [
    "es = EarlyStopping(\n",
    "    monitor='val_loss',\n",
    "    patience=20,\n",
    "    mode='min',\n",
    "    restore_best_weights=True\n",
    ")"
   ]
  },
  {
   "cell_type": "markdown",
   "metadata": {
    "id": "_ylaw70QYlG8"
   },
   "source": [
    "## 学習"
   ]
  },
  {
   "cell_type": "code",
   "execution_count": 26,
   "metadata": {
    "id": "c7VCViMwYlG8"
   },
   "outputs": [
    {
     "name": "stdout",
     "output_type": "stream",
     "text": [
      "WARNING:tensorflow:From C:\\Users\\iiats\\Anaconda3\\envs\\Python36-gpu\\lib\\site-packages\\tensorflow\\python\\ops\\math_grad.py:1250: add_dispatch_support.<locals>.wrapper (from tensorflow.python.ops.array_ops) is deprecated and will be removed in a future version.\n",
      "Instructions for updating:\n",
      "Use tf.where in 2.0, which has the same broadcast rule as np.where\n",
      "Epoch 1/50\n",
      "449/448 [==============================] - 113s 251ms/step - loss: 1.8116 - acc: 0.2510 - val_loss: 1.7301 - val_acc: 0.3068\n",
      "Epoch 2/50\n",
      "449/448 [==============================] - 104s 232ms/step - loss: 1.7491 - acc: 0.2825 - val_loss: 1.7024 - val_acc: 0.3048\n",
      "Epoch 3/50\n",
      "449/448 [==============================] - 105s 233ms/step - loss: 1.7054 - acc: 0.3099 - val_loss: 1.6812 - val_acc: 0.3357\n",
      "Epoch 4/50\n",
      "449/448 [==============================] - 105s 234ms/step - loss: 1.6480 - acc: 0.3372 - val_loss: 1.6928 - val_acc: 0.3090\n",
      "Epoch 5/50\n",
      "449/448 [==============================] - 105s 233ms/step - loss: 1.5947 - acc: 0.3653 - val_loss: 1.6243 - val_acc: 0.3789\n",
      "Epoch 6/50\n",
      "449/448 [==============================] - 104s 233ms/step - loss: 1.5506 - acc: 0.3837 - val_loss: 1.4093 - val_acc: 0.4561\n",
      "Epoch 7/50\n",
      "449/448 [==============================] - 104s 233ms/step - loss: 1.5167 - acc: 0.4033 - val_loss: 1.3454 - val_acc: 0.4781\n",
      "Epoch 8/50\n",
      "449/448 [==============================] - 104s 232ms/step - loss: 1.4870 - acc: 0.4129 - val_loss: 1.4159 - val_acc: 0.4452\n",
      "Epoch 9/50\n",
      "449/448 [==============================] - 104s 232ms/step - loss: 1.4654 - acc: 0.4259 - val_loss: 1.4035 - val_acc: 0.4681\n",
      "Epoch 10/50\n",
      "449/448 [==============================] - 104s 232ms/step - loss: 1.4508 - acc: 0.4323 - val_loss: 1.2065 - val_acc: 0.5375\n",
      "Epoch 11/50\n",
      "449/448 [==============================] - 104s 233ms/step - loss: 1.4330 - acc: 0.4411 - val_loss: 1.2632 - val_acc: 0.5319\n",
      "Epoch 12/50\n",
      "449/448 [==============================] - 105s 234ms/step - loss: 1.4198 - acc: 0.4458 - val_loss: 1.2229 - val_acc: 0.5263\n",
      "Epoch 13/50\n",
      "449/448 [==============================] - 105s 233ms/step - loss: 1.4074 - acc: 0.4501 - val_loss: 1.1918 - val_acc: 0.5481\n",
      "Epoch 14/50\n",
      "449/448 [==============================] - 107s 237ms/step - loss: 1.3929 - acc: 0.4578 - val_loss: 1.2358 - val_acc: 0.5274\n",
      "Epoch 15/50\n",
      "449/448 [==============================] - 105s 235ms/step - loss: 1.3717 - acc: 0.4632 - val_loss: 1.2495 - val_acc: 0.5311\n",
      "Epoch 16/50\n",
      "449/448 [==============================] - 105s 234ms/step - loss: 1.3689 - acc: 0.4670 - val_loss: 1.2164 - val_acc: 0.5439\n",
      "Epoch 17/50\n",
      "449/448 [==============================] - 105s 233ms/step - loss: 1.3544 - acc: 0.4711 - val_loss: 1.2035 - val_acc: 0.5411\n",
      "Epoch 18/50\n",
      "449/448 [==============================] - 104s 233ms/step - loss: 1.3510 - acc: 0.4713 - val_loss: 1.1602 - val_acc: 0.5690\n",
      "Epoch 19/50\n",
      "449/448 [==============================] - 105s 233ms/step - loss: 1.3364 - acc: 0.4811 - val_loss: 1.2081 - val_acc: 0.5475\n",
      "Epoch 20/50\n",
      "449/448 [==============================] - 105s 234ms/step - loss: 1.3274 - acc: 0.4836 - val_loss: 1.1748 - val_acc: 0.5592\n",
      "Epoch 21/50\n",
      "449/448 [==============================] - 105s 233ms/step - loss: 1.3245 - acc: 0.4850 - val_loss: 1.1343 - val_acc: 0.5706\n",
      "Epoch 22/50\n",
      "449/448 [==============================] - 104s 232ms/step - loss: 1.3122 - acc: 0.4925 - val_loss: 1.1392 - val_acc: 0.5684\n",
      "Epoch 23/50\n",
      "449/448 [==============================] - 105s 234ms/step - loss: 1.3097 - acc: 0.4909 - val_loss: 1.0826 - val_acc: 0.5851\n",
      "Epoch 24/50\n",
      "449/448 [==============================] - 105s 234ms/step - loss: 1.3089 - acc: 0.4916 - val_loss: 1.1256 - val_acc: 0.5798\n",
      "Epoch 25/50\n",
      "449/448 [==============================] - 105s 234ms/step - loss: 1.2956 - acc: 0.4975 - val_loss: 1.1382 - val_acc: 0.5701\n",
      "Epoch 26/50\n",
      "449/448 [==============================] - 105s 233ms/step - loss: 1.2869 - acc: 0.5002 - val_loss: 1.1573 - val_acc: 0.5723\n",
      "Epoch 27/50\n",
      "449/448 [==============================] - 105s 234ms/step - loss: 1.2812 - acc: 0.5035 - val_loss: 1.1717 - val_acc: 0.5723\n",
      "Epoch 28/50\n",
      "449/448 [==============================] - 105s 234ms/step - loss: 1.2730 - acc: 0.5064 - val_loss: 1.1961 - val_acc: 0.5592\n",
      "Epoch 29/50\n",
      "449/448 [==============================] - 104s 233ms/step - loss: 1.2722 - acc: 0.5086 - val_loss: 1.0623 - val_acc: 0.5915\n",
      "Epoch 30/50\n",
      "449/448 [==============================] - 104s 232ms/step - loss: 1.2640 - acc: 0.5105 - val_loss: 1.0693 - val_acc: 0.6071\n",
      "Epoch 31/50\n",
      "449/448 [==============================] - 105s 233ms/step - loss: 1.2604 - acc: 0.5104 - val_loss: 1.0677 - val_acc: 0.6091\n",
      "Epoch 32/50\n",
      "449/448 [==============================] - 104s 233ms/step - loss: 1.2585 - acc: 0.5126 - val_loss: 1.0615 - val_acc: 0.6024\n",
      "Epoch 33/50\n",
      "449/448 [==============================] - 104s 232ms/step - loss: 1.2490 - acc: 0.5163 - val_loss: 1.0642 - val_acc: 0.6013\n",
      "Epoch 34/50\n",
      "449/448 [==============================] - 104s 232ms/step - loss: 1.2548 - acc: 0.5154 - val_loss: 1.0604 - val_acc: 0.6099\n",
      "Epoch 35/50\n",
      "449/448 [==============================] - 104s 232ms/step - loss: 1.2402 - acc: 0.5210 - val_loss: 1.0382 - val_acc: 0.6160\n",
      "Epoch 36/50\n",
      "449/448 [==============================] - 104s 233ms/step - loss: 1.2440 - acc: 0.5197 - val_loss: 1.0288 - val_acc: 0.6163\n",
      "Epoch 37/50\n",
      "449/448 [==============================] - 105s 233ms/step - loss: 1.2363 - acc: 0.5224 - val_loss: 1.0312 - val_acc: 0.6121\n",
      "Epoch 38/50\n",
      "449/448 [==============================] - 104s 233ms/step - loss: 1.2354 - acc: 0.5216 - val_loss: 1.0445 - val_acc: 0.6088\n",
      "Epoch 39/50\n",
      "449/448 [==============================] - 104s 232ms/step - loss: 1.2267 - acc: 0.5261 - val_loss: 1.0202 - val_acc: 0.6183\n",
      "Epoch 40/50\n",
      "449/448 [==============================] - 104s 232ms/step - loss: 1.2211 - acc: 0.5283 - val_loss: 1.0455 - val_acc: 0.6046\n",
      "Epoch 41/50\n",
      "449/448 [==============================] - 104s 232ms/step - loss: 1.2297 - acc: 0.5250 - val_loss: 1.0890 - val_acc: 0.6080\n",
      "Epoch 42/50\n",
      "449/448 [==============================] - 104s 233ms/step - loss: 1.2229 - acc: 0.5263 - val_loss: 1.0400 - val_acc: 0.6197\n",
      "Epoch 43/50\n",
      "449/448 [==============================] - 104s 233ms/step - loss: 1.2068 - acc: 0.5337 - val_loss: 1.0241 - val_acc: 0.6255\n",
      "Epoch 44/50\n",
      "449/448 [==============================] - 104s 232ms/step - loss: 1.2154 - acc: 0.5279 - val_loss: 1.0056 - val_acc: 0.6308\n",
      "Epoch 45/50\n",
      "449/448 [==============================] - 104s 232ms/step - loss: 1.2099 - acc: 0.5321 - val_loss: 1.0298 - val_acc: 0.6141\n",
      "Epoch 46/50\n",
      "449/448 [==============================] - 104s 233ms/step - loss: 1.2044 - acc: 0.5364 - val_loss: 1.0303 - val_acc: 0.6191\n",
      "Epoch 47/50\n",
      "449/448 [==============================] - 104s 232ms/step - loss: 1.2033 - acc: 0.5376 - val_loss: 1.0223 - val_acc: 0.6188\n",
      "Epoch 48/50\n",
      "449/448 [==============================] - 104s 232ms/step - loss: 1.1967 - acc: 0.5359 - val_loss: 1.0436 - val_acc: 0.6244\n",
      "Epoch 49/50\n",
      "449/448 [==============================] - 104s 232ms/step - loss: 1.1933 - acc: 0.5364 - val_loss: 1.0450 - val_acc: 0.5979\n",
      "Epoch 50/50\n",
      "449/448 [==============================] - 104s 232ms/step - loss: 1.1940 - acc: 0.5405 - val_loss: 1.0112 - val_acc: 0.6283\n"
     ]
    }
   ],
   "source": [
    "history = model.fit_generator(\n",
    "    data_generator.flow(train_X, train_Y, batch_size),\n",
    "    steps_per_epoch=len(train_X)/batch_size,\n",
    "    epochs=num_epochs,\n",
    "    verbose=1,\n",
    "    callbacks=[es],\n",
    "    validation_data=(val_X, val_Y)\n",
    ")"
   ]
  },
  {
   "cell_type": "markdown",
   "metadata": {
    "id": "CJ8imiENkM4c"
   },
   "source": [
    "# 学習のパフォーマンスを可視化"
   ]
  },
  {
   "cell_type": "code",
   "execution_count": 27,
   "metadata": {
    "id": "9tltt1VkkN-4"
   },
   "outputs": [
    {
     "data": {
      "image/png": "[encoded data removed]",
      "text/plain": [
       "<Figure size 1296x432 with 2 Axes>"
      ]
     },
     "metadata": {
      "needs_background": "light"
     },
     "output_type": "display_data"
    }
   ],
   "source": [
    "\n",
    "fig, axes = plt.subplots(1,2, figsize=(18, 6))\n",
    "# Plot training & validation accuracy values\n",
    "## historyクラスのメンバ変数を取り出す\n",
    "# axes[0].plot(history.history['accuracy'])\n",
    "# axes[0].plot(history.history['val_accuracy'])\n",
    "axes[0].plot(history.history['acc'])\n",
    "axes[0].plot(history.history['val_acc'])\n",
    "axes[0].set_title('Model accuracy')\n",
    "axes[0].set_ylabel('Accuracy')\n",
    "axes[0].set_xlabel('Epoch')\n",
    "axes[0].legend(['Train', 'Validation'], loc='upper left')\n",
    "\n",
    "# Plot training & validation loss values\n",
    "axes[1].plot(history.history['loss'])\n",
    "axes[1].plot(history.history['val_loss'])\n",
    "axes[1].set_title('Model loss')\n",
    "axes[1].set_ylabel('Loss')\n",
    "axes[1].set_xlabel('Epoch')\n",
    "axes[1].legend(['Train', 'Validation'], loc='upper left')\n",
    "plt.show()\n"
   ]
  },
  {
   "cell_type": "markdown",
   "metadata": {
    "id": "iv0RKgHOkK2C"
   },
   "source": []
  },
  {
   "cell_type": "code",
   "execution_count": 28,
   "metadata": {
    "id": "PAPlftbtkGuA"
   },
   "outputs": [
    {
     "name": "stdout",
     "output_type": "stream",
     "text": [
      "CNN Model Accuracy on test set: 0.6358\n"
     ]
    }
   ],
   "source": [
    "test_true = np.argmax(test_Y, axis=1)\n",
    "test_pred = np.argmax(model.predict(test_X), axis=1)\n",
    "print(\"CNN Model Accuracy on test set: {:.4f}\".format(accuracy_score(test_true, test_pred)))"
   ]
  },
  {
   "cell_type": "code",
   "execution_count": 30,
   "metadata": {
    "id": "J2xdwBYEkqev"
   },
   "outputs": [],
   "source": [
    "'''model_save_name = 'cnn-20200926.h5'\n",
    "path = F\"/content/drive/My Drive/Colab Notebooks/facial-expression/{model_save_name}\"\n",
    "model.save(model.state_dict(), path)\n",
    "'''\n",
    "# !mkdir -p saved_model\n",
    "model.save('2020-09-27-epoch50.h5')"
   ]
  },
  {
   "cell_type": "code",
   "execution_count": null,
   "metadata": {
    "id": "ThHfybGKlxru"
   },
   "outputs": [],
   "source": [
    " !ls .\n"
   ]
  },
  {
   "cell_type": "code",
   "execution_count": null,
   "metadata": {
    "id": "hztwHklSpVSX"
   },
   "outputs": [],
   "source": []
  },
  {
   "cell_type": "code",
   "execution_count": null,
   "metadata": {
    "id": "VVxq41JLCWjU"
   },
   "outputs": [],
   "source": []
  },
  {
   "cell_type": "code",
   "execution_count": null,
   "metadata": {
    "id": "s9ZFcIXL3cGk"
   },
   "outputs": [],
   "source": []
  },
  {
   "cell_type": "code",
   "execution_count": null,
   "metadata": {
    "id": "IPhjNQPK3w1l"
   },
   "outputs": [],
   "source": []
  }
 ],
 "metadata": {
  "accelerator": "GPU",
  "colab": {
   "collapsed_sections": [],
   "name": "make_model.ipynb",
   "provenance": []
  },
  "kernelspec": {
   "display_name": "Python 3",
   "language": "python",
   "name": "python3"
  },
  "language_info": {
   "codemirror_mode": {
    "name": "ipython",
    "version": 3
   },
   "file_extension": ".py",
   "mimetype": "text/x-python",
   "name": "python",
   "nbconvert_exporter": "python",
   "pygments_lexer": "ipython3",
   "version": "3.6.10"
  }
 },
 "nbformat": 4,
 "nbformat_minor": 1
}
